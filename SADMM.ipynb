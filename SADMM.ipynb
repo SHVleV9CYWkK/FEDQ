{
 "cells": [
  {
   "cell_type": "code",
   "execution_count": 1,
   "id": "initial_id",
   "metadata": {
    "collapsed": true,
    "ExecuteTime": {
     "end_time": "2023-10-26T01:16:16.339497Z",
     "start_time": "2023-10-26T01:16:14.692771Z"
    }
   },
   "outputs": [
    {
     "name": "stdout",
     "output_type": "stream",
     "text": [
      "(CVXPY) Oct 26 12:16:16 PM: Encountered unexpected exception importing solver OSQP:\n",
      "ImportError(\"dlopen(/Users/hueybai/miniconda3/envs/DL_Pytorch/lib/python3.10/site-packages/osqp/_osqp.cpython-310-darwin.so, 0x0002): symbol not found in flat namespace '_csc_matrix'\")\n"
     ]
    }
   ],
   "source": [
    "import os\n",
    "from utils import load_client_data\n",
    "import networkx as nx\n",
    "from sadmm_solver import NetworkLassoRunner\n",
    "from utils import save_global_measure"
   ]
  },
  {
   "cell_type": "code",
   "execution_count": 2,
   "outputs": [],
   "source": [
    "seed = 54\n",
    "dataset_name = \"unsw-nb15\"\n",
    "num_rounds = 25\n",
    "input_dim = 0\n",
    "if dataset_name == \"unsw-nb15\":\n",
    "    input_dim = 47\n",
    "elif dataset_name == \"n-baiot\":\n",
    "    input_dim = 115\n",
    "\n",
    "hyperparameters = {\n",
    "    'sadmm_lambda': 0.002,\n",
    "    'rho': 1.0,\n",
    "    'c': 0.75,\n",
    "    'n_rounds': num_rounds,\n",
    "    'num_features': input_dim,\n",
    "    'seed': seed\n",
    "}"
   ],
   "metadata": {
    "collapsed": false,
    "ExecuteTime": {
     "end_time": "2023-10-26T01:16:16.339822Z",
     "start_time": "2023-10-26T01:16:16.336523Z"
    }
   },
   "id": "d271e2dd4fe83e25"
  },
  {
   "cell_type": "code",
   "execution_count": 3,
   "outputs": [],
   "source": [
    "client_data_list = load_client_data(os.path.join(dataset_name, \"split\"))"
   ],
   "metadata": {
    "collapsed": false,
    "ExecuteTime": {
     "end_time": "2023-10-26T01:16:19.514120Z",
     "start_time": "2023-10-26T01:16:16.338993Z"
    }
   },
   "id": "f4506a290da2768d"
  },
  {
   "cell_type": "code",
   "execution_count": 4,
   "outputs": [],
   "source": [
    "train_set = [None] * len(client_data_list)\n",
    "test_set = [None] * len(client_data_list)\n",
    "val_set = [None] * len(client_data_list)\n",
    "for idx, client_data in enumerate(client_data_list):\n",
    "    train_data, test_data, val_data = client_data\n",
    "\n",
    "    train_data[1][train_data[1] == 0] = -1\n",
    "    test_data[1][test_data[1] == 0] = -1\n",
    "    val_data[1][val_data[1] == 0] = -1\n",
    "\n",
    "    train_set[idx] = train_data\n",
    "    test_set[idx] = test_data\n",
    "    val_set[idx] = val_data"
   ],
   "metadata": {
    "collapsed": false,
    "ExecuteTime": {
     "end_time": "2023-10-26T01:16:19.523046Z",
     "start_time": "2023-10-26T01:16:19.515277Z"
    }
   },
   "id": "e9adfab6b2f1fcd7"
  },
  {
   "cell_type": "code",
   "execution_count": 5,
   "outputs": [],
   "source": [
    "def build_graph(num_nodes):\n",
    "    print(\"Building a simulated MEC topology for \" + str(num_nodes) + \" nodes.\")\n",
    "    neighbours = [[73, 38, 88, 1, 42], [75, 64, 88, 12, 67], [77, 60, 56, 17, 13], [30, 75, 74, 93, 64],\n",
    "                  [90, 27, 51, 47, 82], [96, 16, 55, 95, 28], [12, 7, 88, 42, 64], [6, 12, 42, 88, 64],\n",
    "                  [48, 18, 80, 47, 61], [11, 33, 85, 44, 87], [34, 15, 58, 50, 43], [9, 33, 85, 84, 87],\n",
    "                  [88, 6, 75, 64, 1], [81, 60, 2, 17, 56], [30, 3, 1, 74, 39], [34, 50, 10, 32, 91],\n",
    "                  [28, 5, 87, 95, 96], [77, 60, 2, 13, 1], [48, 8, 24, 47, 80], [66, 79, 7, 6, 63],\n",
    "                  [89, 81, 13, 50, 92], [25, 28, 95, 87, 49], [52, 54, 26, 53, 71], [43, 97, 62, 58, 10],\n",
    "                  [44, 25, 18, 8, 28], [44, 24, 49, 21, 28], [76, 71, 54, 53, 86], [90, 4, 51, 82, 47],\n",
    "                  [16, 87, 5, 95, 44], [59, 99, 82, 47, 80], [3, 74, 14, 75, 88], [68, 23, 97, 62, 43],\n",
    "                  [91, 45, 35, 15, 60], [11, 9, 85, 44, 18], [15, 10, 50, 58, 32], [32, 60, 91, 93, 45],\n",
    "                  [86, 96, 87, 5, 16], [5, 16, 96, 36, 28], [42, 1, 67, 0, 12], [14, 45, 46, 0, 91],\n",
    "                  [42, 67, 38, 1, 12], [50, 81, 20, 62, 89], [40, 12, 6, 38, 88], [58, 62, 10, 23, 41],\n",
    "                  [24, 25, 49, 28, 16], [91, 32, 46, 39, 14], [45, 1, 14, 78, 39], [80, 51, 59, 48, 82],\n",
    "                  [47, 80, 61, 8, 59], [29, 59, 44, 25, 80], [81, 20, 15, 41, 13], [82, 47, 80, 4, 79],\n",
    "                  [54, 26, 86, 57, 36], [71, 26, 76, 86, 54], [52, 86, 36, 26, 71], [5, 96, 95, 86, 76],\n",
    "                  [2, 60, 77, 93, 13], [54, 52, 36, 98, 86], [43, 10, 34, 62, 50], [29, 99, 47, 80, 51],\n",
    "                  [13, 2, 17, 77, 56], [80, 48, 99, 47, 79], [43, 97, 58, 41, 10], [65, 72, 38, 6, 42],\n",
    "                  [75, 12, 1, 88, 3], [63, 79, 61, 48, 72], [19, 88, 6, 7, 12], [1, 40, 38, 64, 75],\n",
    "                  [23, 97, 43, 62, 58], [94, 70, 22, 52, 57], [94, 69, 22, 52, 57], [53, 26, 86, 76, 54],\n",
    "                  [63, 42, 38, 40, 65], [0, 38, 42, 88, 12], [30, 3, 93, 14, 75], [64, 88, 12, 1, 3],\n",
    "                  [26, 96, 5, 55, 86], [2, 17, 60, 64, 3], [46, 45, 39, 91, 32], [51, 99, 80, 47, 4],\n",
    "                  [47, 99, 51, 48, 59], [13, 50, 20, 60, 2], [51, 47, 80, 29, 90], [85, 84, 99, 61, 49],\n",
    "                  [83, 85, 99, 61, 59], [83, 84, 11, 33, 9], [36, 96, 95, 98, 5], [16, 28, 95, 36, 96],\n",
    "                  [12, 75, 64, 6, 1], [92, 20, 81, 50, 13], [27, 4, 51, 82, 47], [32, 45, 60, 35, 14],\n",
    "                  [89, 20, 81, 13, 41], [3, 74, 30, 56, 60], [69, 70, 22, 52, 57], [96, 5, 86, 16, 87],\n",
    "                  [5, 86, 95, 36, 55], [62, 23, 43, 58, 41], [86, 87, 36, 71, 95], [80, 59, 79, 47, 51]]\n",
    "    G = nx.Graph()\n",
    "    for node_id in range(num_nodes):\n",
    "        G.add_node(node_id)\n",
    "        for neighbour_id in neighbours[node_id]:\n",
    "            G.add_edge(node_id, neighbour_id, weight=1)\n",
    "    return G"
   ],
   "metadata": {
    "collapsed": false,
    "ExecuteTime": {
     "end_time": "2023-10-26T01:16:19.531862Z",
     "start_time": "2023-10-26T01:16:19.530391Z"
    }
   },
   "id": "f995283aad130b9"
  },
  {
   "cell_type": "code",
   "execution_count": 6,
   "outputs": [
    {
     "name": "stdout",
     "output_type": "stream",
     "text": [
      "Building a simulated MEC topology for 100 nodes.\n"
     ]
    }
   ],
   "source": [
    "G = build_graph(100)"
   ],
   "metadata": {
    "collapsed": false,
    "ExecuteTime": {
     "end_time": "2023-10-26T01:16:19.556485Z",
     "start_time": "2023-10-26T01:16:19.533255Z"
    }
   },
   "id": "86c041a69a4a4"
  },
  {
   "cell_type": "code",
   "execution_count": 7,
   "outputs": [],
   "source": [
    "runner = NetworkLassoRunner(G)"
   ],
   "metadata": {
    "collapsed": false,
    "ExecuteTime": {
     "end_time": "2023-10-26T01:16:19.564950Z",
     "start_time": "2023-10-26T01:16:19.535782Z"
    }
   },
   "id": "e91464334250e7dc"
  },
  {
   "cell_type": "code",
   "execution_count": 8,
   "outputs": [
    {
     "name": "stdout",
     "output_type": "stream",
     "text": [
      "Running Stochastic Network Lasso...\n",
      "Time Iteration: 0, Time: 3.550117254257202\n",
      "train_loss: 0.684102557155271, train_acc: 0.5673498784548585, train_FPR: 0.34042537981724813, train_TPR: 0.33065974663613146, train_BER: 0.4998828165905584\n",
      "val_loss: 0.6799162360956756, val_acc: 0.5723580474758836, val_FPR: 0.3026364209121557, val_TPR: 0.27038470872907205, val_BER: 0.4061258560915418\n",
      "Time Iteration: 1, Time: 7.246808052062988\n",
      "train_loss: 0.6576405484616119, train_acc: 0.6177872762918676, train_FPR: 0.3392897684053456, train_TPR: 0.3863704379641657, train_BER: 0.4714596652205901\n",
      "val_loss: 0.6524989965933462, val_acc: 0.623579588048883, val_FPR: 0.2905441857028031, val_TPR: 0.36340790501959397, val_BER: 0.3535681403416045\n",
      "Time Iteration: 2, Time: 10.91786503791809\n",
      "train_loss: 0.6585123225663341, train_acc: 0.6225496909804995, train_FPR: 0.35568003227073264, train_TPR: 0.42321977586544307, train_BER: 0.46123012820264464\n",
      "val_loss: 0.6496054363214675, val_acc: 0.6350145677767489, val_FPR: 0.2721115328979832, val_TPR: 0.38882998954789605, val_BER: 0.3316407716750437\n",
      "Time Iteration: 3, Time: 14.592649221420288\n",
      "train_loss: 0.6414758000732007, train_acc: 0.6467155638835134, train_FPR: 0.3415811236556926, train_TPR: 0.4010802684208926, train_BER: 0.46525042761740004\n",
      "val_loss: 0.6367359201937789, val_acc: 0.6600476001443498, val_FPR: 0.2284246084777509, val_TPR: 0.39312971985825007, val_BER: 0.30764744430975033\n",
      "Time Iteration: 4, Time: 18.352641105651855\n",
      "train_loss: 0.6541126542458053, train_acc: 0.6185897025609013, train_FPR: 0.2944041658397562, train_TPR: 0.3895613909042083, train_BER: 0.44742138746777393\n",
      "val_loss: 0.6455238605887864, val_acc: 0.6306987163232206, val_FPR: 0.2278422530863381, val_TPR: 0.4079978280731668, val_BER: 0.2999222125065857\n",
      "Time Iteration: 5, Time: 22.03610110282898\n",
      "train_loss: 0.6157713464558687, train_acc: 0.6609376540930988, train_FPR: 0.3141862977975134, train_TPR: 0.38855436701351537, train_BER: 0.457815965391999\n",
      "val_loss: 0.6050252297927634, val_acc: 0.6751052850268543, val_FPR: 0.2170463703986562, val_TPR: 0.4109535316161461, val_BER: 0.29304641939125503\n",
      "Time Iteration: 6, Time: 25.827418088912964\n",
      "train_loss: 0.6441251538380804, train_acc: 0.6404040607073526, train_FPR: 0.2806501536502215, train_TPR: 0.3885866295338949, train_BER: 0.4410317620581634\n",
      "val_loss: 0.6540647913135215, val_acc: 0.6599930326996865, val_FPR: 0.20456578673102688, val_TPR: 0.41986868849748155, val_BER: 0.28234854911677265\n",
      "Time Iteration: 7, Time: 29.41684603691101\n",
      "train_loss: 0.6153947365218463, train_acc: 0.6977185249156923, train_FPR: 0.2690409571460061, train_TPR: 0.39201159108472233, train_BER: 0.4335146830306418\n",
      "val_loss: 0.60051482711518, val_acc: 0.7195186064885222, val_FPR: 0.17959741576299734, val_TPR: 0.4410340368716452, val_BER: 0.259281689445676\n",
      "Time Iteration: 8, Time: 33.087976932525635\n",
      "train_loss: 0.6109707739488507, train_acc: 0.6676381887111773, train_FPR: 0.24488970544260127, train_TPR: 0.35403316742754215, train_BER: 0.44042826900752957\n",
      "val_loss: 0.6251354417361613, val_acc: 0.6902504093288451, val_FPR: 0.18432831299254993, val_TPR: 0.38507080613783523, val_BER: 0.28962875342735744\n",
      "Time Iteration: 9, Time: 36.87818908691406\n",
      "train_loss: 0.5985115341285957, train_acc: 0.7125247730854893, train_FPR: 0.2291638330631286, train_TPR: 0.36530329803824846, train_BER: 0.4269302675124402\n",
      "val_loss: 0.5801983472271259, val_acc: 0.7340726379424257, val_FPR: 0.1606597652411706, val_TPR: 0.41042635614269096, val_BER: 0.26511670454923986\n",
      "Time Iteration: 10, Time: 40.53540301322937\n",
      "train_loss: 0.600349901205601, train_acc: 0.6841294064798208, train_FPR: 0.21558399065765893, train_TPR: 0.3480954200413037, train_BER: 0.4287442853081773\n",
      "val_loss: 0.5807163723801109, val_acc: 0.7031462991071059, val_FPR: 0.14370151712048057, val_TPR: 0.38772942249263237, val_BER: 0.26798604731392417\n",
      "Time Iteration: 11, Time: 44.162862062454224\n",
      "train_loss: 0.6001511052577758, train_acc: 0.6852040122735881, train_FPR: 0.2126842760344757, train_TPR: 0.33378082288041744, train_BER: 0.4344517265770292\n",
      "val_loss: 0.6000179200838931, val_acc: 0.6983520275547108, val_FPR: 0.13179645325631634, val_TPR: 0.3643142377122542, val_BER: 0.27374110777203114\n",
      "Time Iteration: 12, Time: 47.91913437843323\n",
      "train_loss: 0.6068665008224052, train_acc: 0.688465829697553, train_FPR: 0.21085119263777952, train_TPR: 0.32560626522830405, train_BER: 0.43762246370473784\n",
      "val_loss: 0.5902214197838425, val_acc: 0.7074785105687045, val_FPR: 0.13302263722428437, val_TPR: 0.3572962799603291, val_BER: 0.2778631786319776\n",
      "Time Iteration: 13, Time: 51.62267327308655\n",
      "train_loss: 0.5865596898741984, train_acc: 0.7154947887766134, train_FPR: 0.19210564224295748, train_TPR: 0.30855026451901013, train_BER: 0.43677768886197366\n",
      "val_loss: 0.5663308921886339, val_acc: 0.740850958493175, val_FPR: 0.10317581908163832, val_TPR: 0.3705757957108998, val_BER: 0.2563000116853692\n",
      "Time Iteration: 14, Time: 55.274211168289185\n",
      "train_loss: 0.5896897753448814, train_acc: 0.7001449588619251, train_FPR: 0.161453547698027, train_TPR: 0.2888811951369781, train_BER: 0.4312861762805244\n",
      "val_loss: 0.5783842906385797, val_acc: 0.7192820324053237, val_FPR: 0.10259166199134141, val_TPR: 0.37044811372420144, val_BER: 0.2560717741335698\n",
      "Time Iteration: 15, Time: 59.068461179733276\n",
      "train_loss: 0.5890964581109684, train_acc: 0.7113193519664738, train_FPR: 0.17414720744975543, train_TPR: 0.31029237289788264, train_BER: 0.42692741727593664\n",
      "val_loss: 0.5814411949425188, val_acc: 0.7302445950162587, val_FPR: 0.11030108091121821, val_TPR: 0.38758576058722727, val_BER: 0.25135766016199546\n",
      "Time Iteration: 16, Time: 62.85134530067444\n",
      "train_loss: 0.5607969890099834, train_acc: 0.7494565872914607, train_FPR: 0.18771917315257006, train_TPR: 0.334473556027496, train_BER: 0.4216228085625369\n",
      "val_loss: 0.5451556239899812, val_acc: 0.7749373497618298, val_FPR: 0.0914772502184645, val_TPR: 0.4145095210587712, val_BER: 0.22848386457984662\n",
      "Time Iteration: 17, Time: 66.58346605300903\n",
      "train_loss: 0.5658530710689105, train_acc: 0.7546184953035199, train_FPR: 0.1774368434803727, train_TPR: 0.3423818494723946, train_BER: 0.4125274970039892\n",
      "val_loss: 0.5430161629331963, val_acc: 0.7848277320611223, val_FPR: 0.08530351227126719, val_TPR: 0.401847783707381, val_BER: 0.23172786428194306\n",
      "Time Iteration: 18, Time: 70.21297216415405\n",
      "train_loss: 0.5629570298769884, train_acc: 0.7380959734897528, train_FPR: 0.17339011591075104, train_TPR: 0.3297608583599177, train_BER: 0.41681462877541664\n",
      "val_loss: 0.5483888572800288, val_acc: 0.762105776248359, val_FPR: 0.09026075262657983, val_TPR: 0.41205931752558905, val_BER: 0.22910071755049544\n",
      "Time Iteration: 19, Time: 73.87009310722351\n",
      "train_loss: 0.5487705495642221, train_acc: 0.7475587548339095, train_FPR: 0.18374139348854623, train_TPR: 0.3284015873830352, train_BER: 0.42266990305275537\n",
      "val_loss: 0.5239805532886814, val_acc: 0.774893229052972, val_FPR: 0.08372052537921132, val_TPR: 0.43078461984937355, val_BER: 0.21646795276491881\n",
      "Time Iteration: 20, Time: 77.61383008956909\n",
      "train_loss: 0.5745453565805004, train_acc: 0.73364867792084, train_FPR: 0.16730003119853723, train_TPR: 0.3527724329052246, train_BER: 0.40226379914665633\n",
      "val_loss: 0.556892916708503, val_acc: 0.7508705704344552, val_FPR: 0.0998296936426491, val_TPR: 0.46193955087866195, val_BER: 0.2089450713819936\n",
      "Time Iteration: 21, Time: 81.42298126220703\n",
      "train_loss: 0.5195081846879872, train_acc: 0.8021224114478724, train_FPR: 0.19421243283209852, train_TPR: 0.36786246460478844, train_BER: 0.40817498411365505\n",
      "val_loss: 0.4904979897187352, val_acc: 0.8347271373824026, val_FPR: 0.07602694328598929, val_TPR: 0.47294319839500437, val_BER: 0.19154187244549253\n",
      "Time Iteration: 22, Time: 85.23217821121216\n",
      "train_loss: 0.540172528749117, train_acc: 0.7630174112633092, train_FPR: 0.1898880889575412, train_TPR: 0.36487145587987224, train_BER: 0.40750831653883446\n",
      "val_loss: 0.5159185637263848, val_acc: 0.787924142573506, val_FPR: 0.09144320072166395, val_TPR: 0.4414504745196702, val_BER: 0.21499636310099693\n",
      "Time Iteration: 23, Time: 88.97115707397461\n",
      "train_loss: 0.5388362212642506, train_acc: 0.7685350244855119, train_FPR: 0.17727556433342972, train_TPR: 0.3413389549820052, train_BER: 0.41296830467571255\n",
      "val_loss: 0.5234085425142134, val_acc: 0.7956792878004982, val_FPR: 0.08771717922335802, val_TPR: 0.43681097607859953, val_BER: 0.2154531015723793\n",
      "Time Iteration: 24, Time: 92.70327019691467\n",
      "train_loss: 0.5247360650459523, train_acc: 0.7970702048258803, train_FPR: 0.20718990442000618, train_TPR: 0.3871411798289566, train_BER: 0.40502436229552485\n",
      "val_loss: 0.5042624740476667, val_acc: 0.8263181970781686, val_FPR: 0.08396067661968692, val_TPR: 0.45992042919026216, val_BER: 0.20202012371471234\n",
      "Time: 93.3294141292572\n",
      "test_loss: 0.5541809820400733, test_acc: 0.8218213119188212, test_FPR: 0.08749570704482475, test_TPR: 0.49137529165760163, test_BER: 0.20806020769361155\n"
     ]
    }
   ],
   "source": [
    "train_measures, val_measures, test_measure = runner.run(hyperparameters, train_set, test_set,val_set)"
   ],
   "metadata": {
    "collapsed": false,
    "ExecuteTime": {
     "end_time": "2023-10-26T01:17:52.881823Z",
     "start_time": "2023-10-26T01:16:19.537878Z"
    }
   },
   "id": "866e599c7303e206"
  },
  {
   "cell_type": "code",
   "execution_count": 9,
   "outputs": [
    {
     "name": "stdout",
     "output_type": "stream",
     "text": [
      "Saved measures to Experimental_results/S-ADMM/train_measures_unsw-nb15.csv\n",
      "Saved measures to Experimental_results/S-ADMM/val_measures_unsw-nb15.csv\n"
     ]
    }
   ],
   "source": [
    "save_global_measure(train_measures, \"train_measures_\"+dataset_name+\".csv\", \"S-ADMM\")\n",
    "save_global_measure(val_measures, \"val_measures_\"+dataset_name+\".csv\", \"S-ADMM\")"
   ],
   "metadata": {
    "collapsed": false,
    "ExecuteTime": {
     "end_time": "2023-10-26T01:17:52.913193Z",
     "start_time": "2023-10-26T01:17:52.882025Z"
    }
   },
   "id": "b2a8deb8000d75df"
  }
 ],
 "metadata": {
  "kernelspec": {
   "display_name": "Python 3",
   "language": "python",
   "name": "python3"
  },
  "language_info": {
   "codemirror_mode": {
    "name": "ipython",
    "version": 2
   },
   "file_extension": ".py",
   "mimetype": "text/x-python",
   "name": "python",
   "nbconvert_exporter": "python",
   "pygments_lexer": "ipython2",
   "version": "2.7.6"
  }
 },
 "nbformat": 4,
 "nbformat_minor": 5
}
