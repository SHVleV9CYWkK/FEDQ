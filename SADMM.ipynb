{
 "cells": [
  {
   "cell_type": "code",
   "execution_count": 1,
   "id": "initial_id",
   "metadata": {
    "collapsed": true,
    "ExecuteTime": {
     "end_time": "2023-12-08T05:22:52.622408Z",
     "start_time": "2023-12-08T05:22:50.959167Z"
    }
   },
   "outputs": [
    {
     "name": "stdout",
     "output_type": "stream",
     "text": [
      "(CVXPY) Dec 08 04:22:52 PM: Encountered unexpected exception importing solver OSQP:\n",
      "ImportError(\"dlopen(/Users/hueybai/miniconda3/envs/DL_Pytroch/lib/python3.10/site-packages/osqp/_osqp.cpython-310-darwin.so, 0x0002): symbol not found in flat namespace '_csc_matrix'\")\n"
     ]
    }
   ],
   "source": [
    "import os\n",
    "from utils import load_client_data\n",
    "import networkx as nx\n",
    "from sadmm_solver import NetworkLassoRunner\n",
    "from utils import save_global_measure\n",
    "\n",
    "os.environ[\"OPENBLAS_NUM_THREADS\"] = \"1\"\n",
    "os.environ[\"NUMEXPR_NUM_THREADS\"] = \"1\"\n",
    "os.environ[\"OMP_NUM_THREADS\"] = \"1\""
   ]
  },
  {
   "cell_type": "code",
   "execution_count": 2,
   "outputs": [],
   "source": [
    "seed = 54\n",
    "dataset_name = \"n-baiot\"\n",
    "num_rounds = 25\n",
    "input_dim = 0\n",
    "if dataset_name == \"unsw-nb15\":\n",
    "    input_dim = 47\n",
    "elif dataset_name == \"n-baiot\":\n",
    "    input_dim = 115\n",
    "\n",
    "hyperparameters = {\n",
    "    'sadmm_lambda': 0.1,\n",
    "    'rho': 1.0,\n",
    "    'c': 0.75,\n",
    "    'n_rounds': num_rounds,\n",
    "    'num_features': input_dim,\n",
    "    'seed': seed\n",
    "}"
   ],
   "metadata": {
    "collapsed": false,
    "ExecuteTime": {
     "end_time": "2023-12-08T05:22:52.625956Z",
     "start_time": "2023-12-08T05:22:52.623881Z"
    }
   },
   "id": "d271e2dd4fe83e25"
  },
  {
   "cell_type": "code",
   "execution_count": 3,
   "outputs": [],
   "source": [
    "client_data_list = load_client_data(os.path.join(dataset_name, \"split\"))"
   ],
   "metadata": {
    "collapsed": false,
    "ExecuteTime": {
     "end_time": "2023-12-08T05:23:14.207082Z",
     "start_time": "2023-12-08T05:22:52.626549Z"
    }
   },
   "id": "f4506a290da2768d"
  },
  {
   "cell_type": "code",
   "execution_count": 4,
   "outputs": [],
   "source": [
    "train_set = [None] * len(client_data_list)\n",
    "test_set = [None] * len(client_data_list)\n",
    "val_set = [None] * len(client_data_list)\n",
    "for idx, client_data in enumerate(client_data_list):\n",
    "    train_data, test_data, val_data = client_data\n",
    "\n",
    "    train_data[1][train_data[1] == 0] = -1\n",
    "    test_data[1][test_data[1] == 0] = -1\n",
    "    val_data[1][val_data[1] == 0] = -1\n",
    "\n",
    "    train_set[idx] = train_data\n",
    "    test_set[idx] = test_data\n",
    "    val_set[idx] = val_data"
   ],
   "metadata": {
    "collapsed": false,
    "ExecuteTime": {
     "end_time": "2023-12-08T05:23:14.225198Z",
     "start_time": "2023-12-08T05:23:14.208246Z"
    }
   },
   "id": "e9adfab6b2f1fcd7"
  },
  {
   "cell_type": "code",
   "execution_count": 5,
   "outputs": [],
   "source": [
    "def build_graph(num_nodes):\n",
    "    print(\"Building a simulated MEC topology for \" + str(num_nodes) + \" nodes.\")\n",
    "    neighbours = [[73, 38, 88, 1, 42], [75, 64, 88, 12, 67], [77, 60, 56, 17, 13], [30, 75, 74, 93, 64],\n",
    "                  [90, 27, 51, 47, 82], [96, 16, 55, 95, 28], [12, 7, 88, 42, 64], [6, 12, 42, 88, 64],\n",
    "                  [48, 18, 80, 47, 61], [11, 33, 85, 44, 87], [34, 15, 58, 50, 43], [9, 33, 85, 84, 87],\n",
    "                  [88, 6, 75, 64, 1], [81, 60, 2, 17, 56], [30, 3, 1, 74, 39], [34, 50, 10, 32, 91],\n",
    "                  [28, 5, 87, 95, 96], [77, 60, 2, 13, 1], [48, 8, 24, 47, 80], [66, 79, 7, 6, 63],\n",
    "                  [89, 81, 13, 50, 92], [25, 28, 95, 87, 49], [52, 54, 26, 53, 71], [43, 97, 62, 58, 10],\n",
    "                  [44, 25, 18, 8, 28], [44, 24, 49, 21, 28], [76, 71, 54, 53, 86], [90, 4, 51, 82, 47],\n",
    "                  [16, 87, 5, 95, 44], [59, 99, 82, 47, 80], [3, 74, 14, 75, 88], [68, 23, 97, 62, 43],\n",
    "                  [91, 45, 35, 15, 60], [11, 9, 85, 44, 18], [15, 10, 50, 58, 32], [32, 60, 91, 93, 45],\n",
    "                  [86, 96, 87, 5, 16], [5, 16, 96, 36, 28], [42, 1, 67, 0, 12], [14, 45, 46, 0, 91],\n",
    "                  [42, 67, 38, 1, 12], [50, 81, 20, 62, 89], [40, 12, 6, 38, 88], [58, 62, 10, 23, 41],\n",
    "                  [24, 25, 49, 28, 16], [91, 32, 46, 39, 14], [45, 1, 14, 78, 39], [80, 51, 59, 48, 82],\n",
    "                  [47, 80, 61, 8, 59], [29, 59, 44, 25, 80], [81, 20, 15, 41, 13], [82, 47, 80, 4, 79],\n",
    "                  [54, 26, 86, 57, 36], [71, 26, 76, 86, 54], [52, 86, 36, 26, 71], [5, 96, 95, 86, 76],\n",
    "                  [2, 60, 77, 93, 13], [54, 52, 36, 98, 86], [43, 10, 34, 62, 50], [29, 99, 47, 80, 51],\n",
    "                  [13, 2, 17, 77, 56], [80, 48, 99, 47, 79], [43, 97, 58, 41, 10], [65, 72, 38, 6, 42],\n",
    "                  [75, 12, 1, 88, 3], [63, 79, 61, 48, 72], [19, 88, 6, 7, 12], [1, 40, 38, 64, 75],\n",
    "                  [23, 97, 43, 62, 58], [94, 70, 22, 52, 57], [94, 69, 22, 52, 57], [53, 26, 86, 76, 54],\n",
    "                  [63, 42, 38, 40, 65], [0, 38, 42, 88, 12], [30, 3, 93, 14, 75], [64, 88, 12, 1, 3],\n",
    "                  [26, 96, 5, 55, 86], [2, 17, 60, 64, 3], [46, 45, 39, 91, 32], [51, 99, 80, 47, 4],\n",
    "                  [47, 99, 51, 48, 59], [13, 50, 20, 60, 2], [51, 47, 80, 29, 90], [85, 84, 99, 61, 49],\n",
    "                  [83, 85, 99, 61, 59], [83, 84, 11, 33, 9], [36, 96, 95, 98, 5], [16, 28, 95, 36, 96],\n",
    "                  [12, 75, 64, 6, 1], [92, 20, 81, 50, 13], [27, 4, 51, 82, 47], [32, 45, 60, 35, 14],\n",
    "                  [89, 20, 81, 13, 41], [3, 74, 30, 56, 60], [69, 70, 22, 52, 57], [96, 5, 86, 16, 87],\n",
    "                  [5, 86, 95, 36, 55], [62, 23, 43, 58, 41], [86, 87, 36, 71, 95], [80, 59, 79, 47, 51]]\n",
    "    G = nx.Graph()\n",
    "    for node_id in range(num_nodes):\n",
    "        G.add_node(node_id)\n",
    "        for neighbour_id in neighbours[node_id]:\n",
    "            G.add_edge(node_id, neighbour_id, weight=1)\n",
    "    return G"
   ],
   "metadata": {
    "collapsed": false,
    "ExecuteTime": {
     "end_time": "2023-12-08T05:23:14.238039Z",
     "start_time": "2023-12-08T05:23:14.235023Z"
    }
   },
   "id": "f995283aad130b9"
  },
  {
   "cell_type": "code",
   "execution_count": 6,
   "outputs": [
    {
     "name": "stdout",
     "output_type": "stream",
     "text": [
      "Building a simulated MEC topology for 100 nodes.\n"
     ]
    }
   ],
   "source": [
    "G = build_graph(100)"
   ],
   "metadata": {
    "collapsed": false,
    "ExecuteTime": {
     "end_time": "2023-12-08T05:23:14.241910Z",
     "start_time": "2023-12-08T05:23:14.237754Z"
    }
   },
   "id": "86c041a69a4a4"
  },
  {
   "cell_type": "code",
   "execution_count": 7,
   "outputs": [],
   "source": [
    "runner = NetworkLassoRunner(G)"
   ],
   "metadata": {
    "collapsed": false,
    "ExecuteTime": {
     "end_time": "2023-12-08T05:23:14.241977Z",
     "start_time": "2023-12-08T05:23:14.240022Z"
    }
   },
   "id": "e91464334250e7dc"
  },
  {
   "cell_type": "code",
   "execution_count": 8,
   "outputs": [
    {
     "name": "stdout",
     "output_type": "stream",
     "text": [
      "Running Stochastic Network Lasso...\n",
      "Time Iteration: 0, Time: 57.97767424583435\n",
      "train_loss: 0.6577476952285549, train_acc: 0.5537948619134183, train_FPR: 0.6912989030342532, train_TPR: 0.7050156738778632, train_BER: 0.4881416145781951\n",
      "val_loss: 0.692087553862325, val_acc: 0.5553691243455817, val_FPR: 0.6259373819616941, val_TPR: 0.6137070936664537, val_BER: 0.4611151441476203\n",
      "Time Iteration: 1, Time: 146.34398818016052\n",
      "train_loss: 0.6073727821506688, train_acc: 0.6800426511376897, train_FPR: 0.7484763773083923, train_TPR: 0.8457846994415746, train_BER: 0.4463458389334088\n",
      "val_loss: 0.6421083326073636, val_acc: 0.7023352322341845, val_FPR: 0.6191898394438065, val_TPR: 0.7820436522412268, val_BER: 0.3735730936012898\n",
      "Time Iteration: 2, Time: 234.55174016952515\n",
      "train_loss: 0.5873960883492978, train_acc: 0.6633228885411833, train_FPR: 0.784928727436968, train_TPR: 0.8543263585396735, train_BER: 0.4603011844486474\n",
      "val_loss: 0.6057517776494826, val_acc: 0.6807568769109362, val_FPR: 0.653298618300049, val_TPR: 0.8031063977420746, val_BER: 0.3800961102789874\n",
      "Time Iteration: 3, Time: 323.07558012008667\n",
      "train_loss: 0.572048864472873, train_acc: 0.6711075989544842, train_FPR: 0.8286171250701057, train_TPR: 0.8987359752001729, train_BER: 0.4599405749349663\n",
      "val_loss: 0.591000893667273, val_acc: 0.6908416991565386, val_FPR: 0.7012080147015134, val_TPR: 0.8363099778398041, val_BER: 0.3874490184308548\n",
      "Time Iteration: 4, Time: 409.45161414146423\n",
      "train_loss: 0.5493869502527553, train_acc: 0.6864255153083663, train_FPR: 0.8344757535444676, train_TPR: 0.9084272352787418, train_BER: 0.45802425913286293\n",
      "val_loss: 0.566367675820619, val_acc: 0.7029582233167642, val_FPR: 0.7114668298106048, val_TPR: 0.8654779132459778, val_BER: 0.37799445828231365\n",
      "Time Iteration: 5, Time: 498.79233026504517\n",
      "train_loss: 0.5381338766049467, train_acc: 0.6900374345744296, train_FPR: 0.8432451322318218, train_TPR: 0.919924611773612, train_BER: 0.45666026022910466\n",
      "val_loss: 0.5440713657230636, val_acc: 0.706416339387395, val_FPR: 0.689896303778792, val_TPR: 0.8748929553924554, val_BER: 0.36250167419316814\n",
      "Time Iteration: 6, Time: 590.5459339618683\n",
      "train_loss: 0.5369809048641038, train_acc: 0.6925033973673975, train_FPR: 0.8467815643852932, train_TPR: 0.9390061116721096, train_BER: 0.448887726356592\n",
      "val_loss: 0.541746935829306, val_acc: 0.710984120186184, val_FPR: 0.6812712389823606, val_TPR: 0.8862583420298814, val_BER: 0.3525064484762396\n",
      "Time Iteration: 7, Time: 684.0041031837463\n",
      "train_loss: 0.5199969140552914, train_acc: 0.7204726851015593, train_FPR: 0.8190383825702865, train_TPR: 0.9257003662552021, train_BER: 0.4416690081575422\n",
      "val_loss: 0.513740430570937, val_acc: 0.7421631468026259, val_FPR: 0.6417832150582525, val_TPR: 0.8966251842728254, val_BER: 0.32757901539271367\n",
      "Time Iteration: 8, Time: 779.4990520477295\n",
      "train_loss: 0.5131019752802732, train_acc: 0.7288830876321301, train_FPR: 0.8095084802811371, train_TPR: 0.9402179677830176, train_BER: 0.4296452562490597\n",
      "val_loss: 0.4927585302486582, val_acc: 0.7551340678918951, val_FPR: 0.6198396624970978, val_TPR: 0.9053455933294043, val_BER: 0.31224703458384667\n",
      "Time Iteration: 9, Time: 874.6766560077667\n",
      "train_loss: 0.4999680561032909, train_acc: 0.7498782520698094, train_FPR: 0.7790609269602168, train_TPR: 0.9173337578696987, train_BER: 0.4258635845452591\n",
      "val_loss: 0.47119059627825777, val_acc: 0.7740783859042769, val_FPR: 0.5824048754991351, val_TPR: 0.9000690221458253, val_BER: 0.2961679266766551\n",
      "Time Iteration: 10, Time: 969.4258501529694\n",
      "train_loss: 0.5006357060516679, train_acc: 0.7520309597140076, train_FPR: 0.7579845346582029, train_TPR: 0.92890402542815, train_BER: 0.4095402546150267\n",
      "val_loss: 0.48366744888925584, val_acc: 0.7716398965892662, val_FPR: 0.5649953441074422, val_TPR: 0.900041695375361, val_BER: 0.2874768243660407\n",
      "Time Iteration: 11, Time: 1064.634036064148\n",
      "train_loss: 0.4899516089592957, train_acc: 0.7695915081756597, train_FPR: 0.7290556668033809, train_TPR: 0.912639979742766, train_BER: 0.40320784353030736\n",
      "val_loss: 0.4865145828344103, val_acc: 0.7993670307465582, val_FPR: 0.5132003058556278, val_TPR: 0.9010491677096666, val_BER: 0.26107556907298063\n",
      "Time Iteration: 12, Time: 1160.3742790222168\n",
      "train_loss: 0.49292370614408015, train_acc: 0.7684577641169439, train_FPR: 0.7235193978739106, train_TPR: 0.9153365191783688, train_BER: 0.3990914393477709\n",
      "val_loss: 0.4764743076851829, val_acc: 0.7952350339450648, val_FPR: 0.4963022736865069, val_TPR: 0.9003300754157293, val_BER: 0.25298609913538883\n",
      "Time Iteration: 13, Time: 1256.2820992469788\n",
      "train_loss: 0.48939817827627474, train_acc: 0.7936900664664267, train_FPR: 0.6765852497231593, train_TPR: 0.9030323636380825, train_BER: 0.38177644304253877\n",
      "val_loss: 0.47318674519982423, val_acc: 0.8249590983559305, val_FPR: 0.42654504034812435, val_TPR: 0.8984835867223089, val_BER: 0.21903072681290756\n",
      "Time Iteration: 14, Time: 1351.759208202362\n",
      "train_loss: 0.4834556363095608, train_acc: 0.8064229969887229, train_FPR: 0.6565206710800947, train_TPR: 0.8867268943954807, train_BER: 0.3798968883423069\n",
      "val_loss: 0.4595004122455517, val_acc: 0.840705072344889, val_FPR: 0.40839845508113887, val_TPR: 0.9052455134970385, val_BER: 0.20657647079205024\n",
      "Time Iteration: 15, Time: 1447.359190940857\n",
      "train_loss: 0.4800532936617374, train_acc: 0.8331979481678485, train_FPR: 0.6181083729433471, train_TPR: 0.8738467078635067, train_BER: 0.36713083253991996\n",
      "val_loss: 0.48386379814178937, val_acc: 0.8619940096979313, val_FPR: 0.35549886690655774, val_TPR: 0.9009030673223677, val_BER: 0.18229789979209518\n",
      "Time Iteration: 16, Time: 1541.4908409118652\n",
      "train_loss: 0.479306230089291, train_acc: 0.8387246030716098, train_FPR: 0.5940886216031291, train_TPR: 0.8692276658206427, train_BER: 0.35743047789124327\n",
      "val_loss: 0.4849809896620955, val_acc: 0.8744627078607482, val_FPR: 0.302227825095785, val_TPR: 0.8921535830980492, val_BER: 0.16003712099886797\n",
      "Time Iteration: 17, Time: 1636.2002222537994\n",
      "train_loss: 0.4725055571663714, train_acc: 0.859813848540212, train_FPR: 0.5536651391401042, train_TPR: 0.8649591742796826, train_BER: 0.3393529824302104\n",
      "val_loss: 0.4685607740825186, val_acc: 0.8928041064590327, val_FPR: 0.25888183540423954, val_TPR: 0.9008456897366696, val_BER: 0.13401807283378495\n",
      "Time Iteration: 18, Time: 1731.0579371452332\n",
      "train_loss: 0.472740476522192, train_acc: 0.8655298684467317, train_FPR: 0.5463216711633141, train_TPR: 0.8545913459384784, train_BER: 0.3408651626124179\n",
      "val_loss: 0.4541503288796646, val_acc: 0.9052833780324954, val_FPR: 0.23793749389638197, val_TPR: 0.9003051901278424, val_BER: 0.12381615188426963\n",
      "Time Iteration: 19, Time: 1825.7201380729675\n",
      "train_loss: 0.4705815092537303, train_acc: 0.8671462033285812, train_FPR: 0.5364795272961624, train_TPR: 0.859202216851634, train_BER: 0.3336386552222643\n",
      "val_loss: 0.47018674245097647, val_acc: 0.9029067010469316, val_FPR: 0.20542218265726217, val_TPR: 0.8900662523849515, val_BER: 0.11267796513615526\n",
      "Time Iteration: 20, Time: 1921.3469421863556\n",
      "train_loss: 0.4650839721318982, train_acc: 0.8825266930463205, train_FPR: 0.5149519753877579, train_TPR: 0.843585040411242, train_BER: 0.33068346748825794\n",
      "val_loss: 0.4475743313714503, val_acc: 0.9212527599882988, val_FPR: 0.18365455062317593, val_TPR: 0.9003004117319761, val_BER: 0.09667706944559978\n",
      "Time Iteration: 21, Time: 2017.3210458755493\n",
      "train_loss: 0.46437814257075855, train_acc: 0.8861923229684976, train_FPR: 0.5046384330248495, train_TPR: 0.8419883731893084, train_BER: 0.3263250299177707\n",
      "val_loss: 0.4641355390601548, val_acc: 0.9216463464932616, val_FPR: 0.16768557549503893, val_TPR: 0.890457509054646, val_BER: 0.09361403322019651\n",
      "Time Iteration: 22, Time: 2111.235817193985\n",
      "train_loss: 0.46327025182626186, train_acc: 0.896904890873509, train_FPR: 0.4888260041516027, train_TPR: 0.8359171006466827, train_BER: 0.32145445175246\n",
      "val_loss: 0.44715474812018985, val_acc: 0.9333547009882853, val_FPR: 0.14826581169876402, val_TPR: 0.9000165249695493, val_BER: 0.07912464336460737\n",
      "Time Iteration: 23, Time: 2205.2864730358124\n",
      "train_loss: 0.4599445828063382, train_acc: 0.9035102003827088, train_FPR: 0.4763634540775568, train_TPR: 0.8317155681345588, train_BER: 0.3173239429714992\n",
      "val_loss: 0.441405986215641, val_acc: 0.9435337133059685, val_FPR: 0.12683767948314922, val_TPR: 0.8998515137707347, val_BER: 0.06849308285620725\n",
      "Time Iteration: 24, Time: 2300.047623157501\n",
      "train_loss: 0.45762539369950617, train_acc: 0.9037552206795866, train_FPR: 0.4741271355599171, train_TPR: 0.8328405787457833, train_BER: 0.3156432784070671\n",
      "val_loss: 0.44123515992766665, val_acc: 0.9437532461315853, val_FPR: 0.10939324137097238, val_TPR: 0.8997213842458404, val_BER: 0.05983592856256601\n",
      "Time: 2301.8673050403595\n",
      "test_loss: 0.44494462069375673, test_acc: 0.9511207687765372, test_FPR: 0.10535570858205827, test_TPR: 0.9066630334171745, test_BER: 0.054346337582441805\n"
     ]
    }
   ],
   "source": [
    "train_measures, val_measures, test_measure = runner.run(hyperparameters, train_set, test_set,val_set)"
   ],
   "metadata": {
    "collapsed": false,
    "ExecuteTime": {
     "end_time": "2023-12-08T06:01:36.129794Z",
     "start_time": "2023-12-08T05:23:14.242303Z"
    }
   },
   "id": "866e599c7303e206"
  },
  {
   "cell_type": "code",
   "execution_count": 9,
   "outputs": [
    {
     "name": "stdout",
     "output_type": "stream",
     "text": [
      "Saved measures to Experimental_results/S-ADMM/train_measures_n-baiot.csv\n",
      "Saved measures to Experimental_results/S-ADMM/val_measures_n-baiot.csv\n"
     ]
    }
   ],
   "source": [
    "name = \"S-ADMM\" if hyperparameters['rho'] != 0 else \"Local_SVM\" \n",
    "save_global_measure(train_measures, \"train_measures_\"+dataset_name+\".csv\", name)\n",
    "save_global_measure(val_measures, \"val_measures_\"+dataset_name+\".csv\", name)"
   ],
   "metadata": {
    "collapsed": false,
    "ExecuteTime": {
     "end_time": "2023-12-08T06:01:36.179304Z",
     "start_time": "2023-12-08T06:01:36.131156Z"
    }
   },
   "id": "b2a8deb8000d75df"
  }
 ],
 "metadata": {
  "kernelspec": {
   "display_name": "Python 3",
   "language": "python",
   "name": "python3"
  },
  "language_info": {
   "codemirror_mode": {
    "name": "ipython",
    "version": 2
   },
   "file_extension": ".py",
   "mimetype": "text/x-python",
   "name": "python",
   "nbconvert_exporter": "python",
   "pygments_lexer": "ipython2",
   "version": "2.7.6"
  }
 },
 "nbformat": 4,
 "nbformat_minor": 5
}
