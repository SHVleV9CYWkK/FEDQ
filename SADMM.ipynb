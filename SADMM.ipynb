{
 "cells": [
  {
   "cell_type": "code",
   "execution_count": 10,
   "id": "initial_id",
   "metadata": {
    "collapsed": true,
    "ExecuteTime": {
     "end_time": "2023-11-04T06:58:37.325760Z",
     "start_time": "2023-11-04T06:58:37.319127Z"
    }
   },
   "outputs": [],
   "source": [
    "import os\n",
    "from utils import load_client_data\n",
    "import networkx as nx\n",
    "from sadmm_solver import NetworkLassoRunner\n",
    "from utils import save_global_measure"
   ]
  },
  {
   "cell_type": "code",
   "execution_count": 11,
   "outputs": [],
   "source": [
    "seed = 54\n",
    "dataset_name = \"n-baiot\"\n",
    "num_rounds = 25\n",
    "input_dim = 0\n",
    "if dataset_name == \"unsw-nb15\":\n",
    "    input_dim = 47\n",
    "elif dataset_name == \"n-baiot\":\n",
    "    input_dim = 115\n",
    "\n",
    "hyperparameters = {\n",
    "    'sadmm_lambda': 0.1,\n",
    "    'rho': 0,\n",
    "    'c': 0.75,\n",
    "    'n_rounds': num_rounds,\n",
    "    'num_features': input_dim,\n",
    "    'seed': seed\n",
    "}"
   ],
   "metadata": {
    "collapsed": false,
    "ExecuteTime": {
     "end_time": "2023-11-04T06:58:37.334321Z",
     "start_time": "2023-11-04T06:58:37.324779Z"
    }
   },
   "id": "d271e2dd4fe83e25"
  },
  {
   "cell_type": "code",
   "execution_count": 12,
   "outputs": [],
   "source": [
    "client_data_list = load_client_data(os.path.join(dataset_name, \"split\"))"
   ],
   "metadata": {
    "collapsed": false,
    "ExecuteTime": {
     "end_time": "2023-11-04T06:59:01.480258Z",
     "start_time": "2023-11-04T06:58:37.328369Z"
    }
   },
   "id": "f4506a290da2768d"
  },
  {
   "cell_type": "code",
   "execution_count": 13,
   "outputs": [],
   "source": [
    "train_set = [None] * len(client_data_list)\n",
    "test_set = [None] * len(client_data_list)\n",
    "val_set = [None] * len(client_data_list)\n",
    "for idx, client_data in enumerate(client_data_list):\n",
    "    train_data, test_data, val_data = client_data\n",
    "\n",
    "    train_data[1][train_data[1] == 0] = -1\n",
    "    test_data[1][test_data[1] == 0] = -1\n",
    "    val_data[1][val_data[1] == 0] = -1\n",
    "\n",
    "    train_set[idx] = train_data\n",
    "    test_set[idx] = test_data\n",
    "    val_set[idx] = val_data"
   ],
   "metadata": {
    "collapsed": false,
    "ExecuteTime": {
     "end_time": "2023-11-04T06:59:01.969491Z",
     "start_time": "2023-11-04T06:59:01.945828Z"
    }
   },
   "id": "e9adfab6b2f1fcd7"
  },
  {
   "cell_type": "code",
   "execution_count": 14,
   "outputs": [],
   "source": [
    "def build_graph(num_nodes):\n",
    "    print(\"Building a simulated MEC topology for \" + str(num_nodes) + \" nodes.\")\n",
    "    neighbours = [[73, 38, 88, 1, 42], [75, 64, 88, 12, 67], [77, 60, 56, 17, 13], [30, 75, 74, 93, 64],\n",
    "                  [90, 27, 51, 47, 82], [96, 16, 55, 95, 28], [12, 7, 88, 42, 64], [6, 12, 42, 88, 64],\n",
    "                  [48, 18, 80, 47, 61], [11, 33, 85, 44, 87], [34, 15, 58, 50, 43], [9, 33, 85, 84, 87],\n",
    "                  [88, 6, 75, 64, 1], [81, 60, 2, 17, 56], [30, 3, 1, 74, 39], [34, 50, 10, 32, 91],\n",
    "                  [28, 5, 87, 95, 96], [77, 60, 2, 13, 1], [48, 8, 24, 47, 80], [66, 79, 7, 6, 63],\n",
    "                  [89, 81, 13, 50, 92], [25, 28, 95, 87, 49], [52, 54, 26, 53, 71], [43, 97, 62, 58, 10],\n",
    "                  [44, 25, 18, 8, 28], [44, 24, 49, 21, 28], [76, 71, 54, 53, 86], [90, 4, 51, 82, 47],\n",
    "                  [16, 87, 5, 95, 44], [59, 99, 82, 47, 80], [3, 74, 14, 75, 88], [68, 23, 97, 62, 43],\n",
    "                  [91, 45, 35, 15, 60], [11, 9, 85, 44, 18], [15, 10, 50, 58, 32], [32, 60, 91, 93, 45],\n",
    "                  [86, 96, 87, 5, 16], [5, 16, 96, 36, 28], [42, 1, 67, 0, 12], [14, 45, 46, 0, 91],\n",
    "                  [42, 67, 38, 1, 12], [50, 81, 20, 62, 89], [40, 12, 6, 38, 88], [58, 62, 10, 23, 41],\n",
    "                  [24, 25, 49, 28, 16], [91, 32, 46, 39, 14], [45, 1, 14, 78, 39], [80, 51, 59, 48, 82],\n",
    "                  [47, 80, 61, 8, 59], [29, 59, 44, 25, 80], [81, 20, 15, 41, 13], [82, 47, 80, 4, 79],\n",
    "                  [54, 26, 86, 57, 36], [71, 26, 76, 86, 54], [52, 86, 36, 26, 71], [5, 96, 95, 86, 76],\n",
    "                  [2, 60, 77, 93, 13], [54, 52, 36, 98, 86], [43, 10, 34, 62, 50], [29, 99, 47, 80, 51],\n",
    "                  [13, 2, 17, 77, 56], [80, 48, 99, 47, 79], [43, 97, 58, 41, 10], [65, 72, 38, 6, 42],\n",
    "                  [75, 12, 1, 88, 3], [63, 79, 61, 48, 72], [19, 88, 6, 7, 12], [1, 40, 38, 64, 75],\n",
    "                  [23, 97, 43, 62, 58], [94, 70, 22, 52, 57], [94, 69, 22, 52, 57], [53, 26, 86, 76, 54],\n",
    "                  [63, 42, 38, 40, 65], [0, 38, 42, 88, 12], [30, 3, 93, 14, 75], [64, 88, 12, 1, 3],\n",
    "                  [26, 96, 5, 55, 86], [2, 17, 60, 64, 3], [46, 45, 39, 91, 32], [51, 99, 80, 47, 4],\n",
    "                  [47, 99, 51, 48, 59], [13, 50, 20, 60, 2], [51, 47, 80, 29, 90], [85, 84, 99, 61, 49],\n",
    "                  [83, 85, 99, 61, 59], [83, 84, 11, 33, 9], [36, 96, 95, 98, 5], [16, 28, 95, 36, 96],\n",
    "                  [12, 75, 64, 6, 1], [92, 20, 81, 50, 13], [27, 4, 51, 82, 47], [32, 45, 60, 35, 14],\n",
    "                  [89, 20, 81, 13, 41], [3, 74, 30, 56, 60], [69, 70, 22, 52, 57], [96, 5, 86, 16, 87],\n",
    "                  [5, 86, 95, 36, 55], [62, 23, 43, 58, 41], [86, 87, 36, 71, 95], [80, 59, 79, 47, 51]]\n",
    "    G = nx.Graph()\n",
    "    for node_id in range(num_nodes):\n",
    "        G.add_node(node_id)\n",
    "        for neighbour_id in neighbours[node_id]:\n",
    "            G.add_edge(node_id, neighbour_id, weight=1)\n",
    "    return G"
   ],
   "metadata": {
    "collapsed": false,
    "ExecuteTime": {
     "end_time": "2023-11-04T06:59:01.980545Z",
     "start_time": "2023-11-04T06:59:01.970939Z"
    }
   },
   "id": "f995283aad130b9"
  },
  {
   "cell_type": "code",
   "execution_count": 15,
   "outputs": [
    {
     "name": "stdout",
     "output_type": "stream",
     "text": [
      "Building a simulated MEC topology for 100 nodes.\n"
     ]
    }
   ],
   "source": [
    "G = build_graph(100)"
   ],
   "metadata": {
    "collapsed": false,
    "ExecuteTime": {
     "end_time": "2023-11-04T06:59:01.984797Z",
     "start_time": "2023-11-04T06:59:01.981674Z"
    }
   },
   "id": "86c041a69a4a4"
  },
  {
   "cell_type": "code",
   "execution_count": 16,
   "outputs": [],
   "source": [
    "runner = NetworkLassoRunner(G)"
   ],
   "metadata": {
    "collapsed": false,
    "ExecuteTime": {
     "end_time": "2023-11-04T06:59:01.988733Z",
     "start_time": "2023-11-04T06:59:01.984436Z"
    }
   },
   "id": "e91464334250e7dc"
  },
  {
   "cell_type": "code",
   "execution_count": 17,
   "outputs": [
    {
     "name": "stdout",
     "output_type": "stream",
     "text": [
      "Running Stochastic Network Lasso...\n",
      "Time Iteration: 0, Time: 8.835536003112793\n",
      "train_loss: 1.7676539496646007, train_acc: 0.5638382381296476, train_FPR: 0.6434186122432273, train_TPR: 0.6454582535439962, train_BER: 0.4939801793496156\n",
      "val_loss: 1.7003356698574177, val_acc: 0.5733899963700299, val_FPR: 0.594074280692661, val_TPR: 0.5979954406139106, val_BER: 0.4530394200393752\n",
      "Time Iteration: 1, Time: 16.79190707206726\n",
      "train_loss: 1.4761303172423101, train_acc: 0.5591920014993093, train_FPR: 0.6537890702141176, train_TPR: 0.7005562893911811, train_BER: 0.47161639041146836\n",
      "val_loss: 1.5033274776737267, val_acc: 0.5703291873070822, val_FPR: 0.5570401450500223, val_TPR: 0.6424681151822185, val_BER: 0.412286014933902\n",
      "Time Iteration: 2, Time: 24.956676959991455\n",
      "train_loss: 1.2718900672884488, train_acc: 0.5957815020147682, train_FPR: 0.6964655044779515, train_TPR: 0.7426547060521301, train_BER: 0.47190539921291097\n",
      "val_loss: 1.208923830902855, val_acc: 0.616862048783017, val_FPR: 0.5481941416733853, val_TPR: 0.7005040850572131, val_BER: 0.3788450283080861\n",
      "Time Iteration: 3, Time: 33.21891689300537\n",
      "train_loss: 1.0256342842562518, train_acc: 0.6370569337976163, train_FPR: 0.6630834613417078, train_TPR: 0.7328864820655825, train_BER: 0.46009848963806266\n",
      "val_loss: 0.947058803955984, val_acc: 0.6544310007028805, val_FPR: 0.5302554972474156, val_TPR: 0.6900524622857376, val_BER: 0.37510151748083914\n",
      "Time Iteration: 4, Time: 41.27746796607971\n",
      "train_loss: 0.9315881025140009, train_acc: 0.643208515215528, train_FPR: 0.6775773966229329, train_TPR: 0.7465433073133267, train_BER: 0.4605170446548029\n",
      "val_loss: 0.862009596604216, val_acc: 0.6591521900516031, val_FPR: 0.5279128963657439, val_TPR: 0.7166836358850311, val_BER: 0.36061463024035634\n",
      "Time Iteration: 5, Time: 49.44514322280884\n",
      "train_loss: 0.9282998107254536, train_acc: 0.6330303365152716, train_FPR: 0.6723086237428404, train_TPR: 0.77156346837414, train_BER: 0.4453725776843502\n",
      "val_loss: 0.8357429379772132, val_acc: 0.649653665412306, val_FPR: 0.5127679769118857, val_TPR: 0.7501142853208213, val_BER: 0.33632684579553235\n",
      "Time Iteration: 6, Time: 57.478797912597656\n",
      "train_loss: 0.8213896976168611, train_acc: 0.6728914980747054, train_FPR: 0.6573016825617078, train_TPR: 0.7671437628092168, train_BER: 0.4400789598762453\n",
      "val_loss: 0.7335679034090338, val_acc: 0.6989830246210595, val_FPR: 0.5020257006406489, val_TPR: 0.7433819375259627, val_BER: 0.3343218815573429\n",
      "Time Iteration: 7, Time: 65.5558180809021\n",
      "train_loss: 0.9019519328437489, train_acc: 0.667348561187286, train_FPR: 0.6604457148362815, train_TPR: 0.7925300887919617, train_BER: 0.4289578130221598\n",
      "val_loss: 0.8135507318951253, val_acc: 0.6892044843019014, val_FPR: 0.4955972076409803, val_TPR: 0.7673876695445294, val_BER: 0.31910476904822555\n",
      "Time Iteration: 8, Time: 73.8525059223175\n",
      "train_loss: 0.8154573627760786, train_acc: 0.6666429524446706, train_FPR: 0.6501428862804548, train_TPR: 0.7819671035031681, train_BER: 0.42908789138864334\n",
      "val_loss: 0.7592978220305394, val_acc: 0.6845143722453279, val_FPR: 0.45409628903770455, val_TPR: 0.7712598522695541, val_BER: 0.29641821838407517\n",
      "Time Iteration: 9, Time: 82.00200819969177\n",
      "train_loss: 0.7739335159954409, train_acc: 0.6944684538138195, train_FPR: 0.6548810363638705, train_TPR: 0.7952685173158688, train_BER: 0.4248062595240007\n",
      "val_loss: 0.749097555553018, val_acc: 0.7100381579906542, val_FPR: 0.47176079800687093, val_TPR: 0.7751261588771183, val_BER: 0.3033173195648763\n",
      "Time Iteration: 10, Time: 90.12559103965759\n",
      "train_loss: 0.7291280340866089, train_acc: 0.7075511198703366, train_FPR: 0.6481395630437129, train_TPR: 0.8056971270717982, train_BER: 0.4162212179859575\n",
      "val_loss: 0.6906671061385731, val_acc: 0.7272542763392577, val_FPR: 0.42848264244516265, val_TPR: 0.7876704526142936, val_BER: 0.27540609491543455\n",
      "Time Iteration: 11, Time: 98.22285389900208\n",
      "train_loss: 0.7285448943130671, train_acc: 0.6992302109313576, train_FPR: 0.6623421685682557, train_TPR: 0.828349147605172, train_BER: 0.4119965104815418\n",
      "val_loss: 0.6637033978272591, val_acc: 0.7269371666494818, val_FPR: 0.4476730081781529, val_TPR: 0.8047773720912194, val_BER: 0.2764478180434666\n",
      "Time Iteration: 12, Time: 106.94136095046997\n",
      "train_loss: 0.6623286978853105, train_acc: 0.7177076475785583, train_FPR: 0.6617693558095691, train_TPR: 0.8067559396138607, train_BER: 0.4225067080978542\n",
      "val_loss: 0.5927914003961569, val_acc: 0.7475326550909384, val_FPR: 0.46344186704922036, val_TPR: 0.8040139474703761, val_BER: 0.2847139597894221\n",
      "Time Iteration: 13, Time: 115.22982406616211\n",
      "train_loss: 0.6121696877976431, train_acc: 0.7376877079620637, train_FPR: 0.6576183117674964, train_TPR: 0.8338899613315484, train_BER: 0.4068641752179743\n",
      "val_loss: 0.5325115576985187, val_acc: 0.7645521843980042, val_FPR: 0.4136015322238584, val_TPR: 0.8375379827378852, val_BER: 0.24303177474298657\n",
      "Time Iteration: 14, Time: 124.01801300048828\n",
      "train_loss: 0.5523162308162403, train_acc: 0.7422260251412568, train_FPR: 0.6808990603333818, train_TPR: 0.8302499100568831, train_BER: 0.4203245751382496\n",
      "val_loss: 0.48854944773122744, val_acc: 0.7698310522954732, val_FPR: 0.451545712871347, val_TPR: 0.8254118852044628, val_BER: 0.268066913833442\n",
      "Time Iteration: 15, Time: 132.60414814949036\n",
      "train_loss: 0.6313358739770181, train_acc: 0.7164538260338016, train_FPR: 0.6485467369196262, train_TPR: 0.8234316471234693, train_BER: 0.4075575448980783\n",
      "val_loss: 0.6332814612092992, val_acc: 0.7437473073861404, val_FPR: 0.41893581164527044, val_TPR: 0.8183198923385223, val_BER: 0.255307959653374\n",
      "Time Iteration: 16, Time: 141.35241508483887\n",
      "train_loss: 0.6319881204812913, train_acc: 0.7227764267496538, train_FPR: 0.6448659937727922, train_TPR: 0.8390241605644139, train_BER: 0.39792091660418927\n",
      "val_loss: 0.5449050164501767, val_acc: 0.7525846674611776, val_FPR: 0.3995926291188593, val_TPR: 0.8355355616264856, val_BER: 0.237028533746187\n",
      "Time Iteration: 17, Time: 149.75510787963867\n",
      "train_loss: 0.5363824579361793, train_acc: 0.7991425885104139, train_FPR: 0.5668228337941063, train_TPR: 0.7994236255717972, train_BER: 0.3786996041111548\n",
      "val_loss: 0.4580336093455017, val_acc: 0.8329751503212774, val_FPR: 0.34770452712427846, val_TPR: 0.8331568018264152, val_BER: 0.2122738626489317\n",
      "Time Iteration: 18, Time: 158.39194989204407\n",
      "train_loss: 0.5065990293471134, train_acc: 0.7792661926393218, train_FPR: 0.5963092578937925, train_TPR: 0.8114203193620052, train_BER: 0.3874444692658936\n",
      "val_loss: 0.4258922299439061, val_acc: 0.8055601761987395, val_FPR: 0.38118810502590056, val_TPR: 0.8112579662444085, val_BER: 0.23996506939074588\n",
      "Time Iteration: 19, Time: 166.84845900535583\n",
      "train_loss: 0.5644483507415123, train_acc: 0.7789396980065139, train_FPR: 0.5892915170111162, train_TPR: 0.7928180048920653, train_BER: 0.3932367560595255\n",
      "val_loss: 0.5009950719658535, val_acc: 0.8085319143713948, val_FPR: 0.37547751228851567, val_TPR: 0.8315548129913293, val_BER: 0.22696134964859319\n",
      "Time Iteration: 20, Time: 175.59371304512024\n",
      "train_loss: 0.5591359346928911, train_acc: 0.7461405678618482, train_FPR: 0.6207869419184511, train_TPR: 0.82563113923843, train_BER: 0.39257790134001064\n",
      "val_loss: 0.46472175289183226, val_acc: 0.779194582696345, val_FPR: 0.362935883001878, val_TPR: 0.8342690661651467, val_BER: 0.2193334084183658\n",
      "Time Iteration: 21, Time: 184.25434613227844\n",
      "train_loss: 0.48342398343109994, train_acc: 0.8185514917627528, train_FPR: 0.5696836849226143, train_TPR: 0.7783545922036619, train_BER: 0.39066454635947623\n",
      "val_loss: 0.4761130587329248, val_acc: 0.8495260932675126, val_FPR: 0.32029282956188787, val_TPR: 0.8256530446515866, val_BER: 0.20231989245515067\n",
      "Time Iteration: 22, Time: 193.08485198020935\n",
      "train_loss: 0.46077461499860173, train_acc: 0.8200226907159213, train_FPR: 0.5812319440881466, train_TPR: 0.8054243846001146, train_BER: 0.38290377974401585\n",
      "val_loss: 0.40665060719394447, val_acc: 0.856701060771053, val_FPR: 0.3354622209608641, val_TPR: 0.8324339707008825, val_BER: 0.20651412512999073\n",
      "Time Iteration: 23, Time: 201.931823015213\n",
      "train_loss: 0.5077825174358671, train_acc: 0.7933790462866689, train_FPR: 0.5986684258647732, train_TPR: 0.8027032446671855, train_BER: 0.3929825905987935\n",
      "val_loss: 0.4438452618309798, val_acc: 0.8279207378484328, val_FPR: 0.3256168101159303, val_TPR: 0.8218103704126716, val_BER: 0.2069032198516295\n",
      "Time Iteration: 24, Time: 210.5745120048523\n",
      "train_loss: 0.5078518264389547, train_acc: 0.7909916767175282, train_FPR: 0.600963543474363, train_TPR: 0.8252877762949001, train_BER: 0.38283788358973125\n",
      "val_loss: 0.46107402091103694, val_acc: 0.8153138596102799, val_FPR: 0.34368174126236073, val_TPR: 0.831264291233972, val_BER: 0.2112087250141941\n",
      "Time: 212.52758884429932\n",
      "test_loss: 0.449818448831382, test_acc: 0.8287511542289318, test_FPR: 0.32895148464120766, test_TPR: 0.8509507380408895, test_BER: 0.1940003733001591\n"
     ]
    }
   ],
   "source": [
    "train_measures, val_measures, test_measure = runner.run(hyperparameters, train_set, test_set,val_set)"
   ],
   "metadata": {
    "collapsed": false,
    "ExecuteTime": {
     "end_time": "2023-11-04T07:02:34.533191Z",
     "start_time": "2023-11-04T06:59:01.987030Z"
    }
   },
   "id": "866e599c7303e206"
  },
  {
   "cell_type": "code",
   "execution_count": 18,
   "outputs": [
    {
     "name": "stdout",
     "output_type": "stream",
     "text": [
      "Saved measures to Experimental_results/Local_SVM/train_measures_n-baiot.csv\n",
      "Saved measures to Experimental_results/Local_SVM/val_measures_n-baiot.csv\n"
     ]
    }
   ],
   "source": [
    "name = \"S-ADMM\" if hyperparameters['rho'] != 0 else \"Local_SVM\" \n",
    "save_global_measure(train_measures, \"train_measures_\"+dataset_name+\".csv\", name)\n",
    "save_global_measure(val_measures, \"val_measures_\"+dataset_name+\".csv\", name)"
   ],
   "metadata": {
    "collapsed": false,
    "ExecuteTime": {
     "end_time": "2023-11-04T07:02:34.541651Z",
     "start_time": "2023-11-04T07:02:34.530398Z"
    }
   },
   "id": "b2a8deb8000d75df"
  }
 ],
 "metadata": {
  "kernelspec": {
   "display_name": "Python 3",
   "language": "python",
   "name": "python3"
  },
  "language_info": {
   "codemirror_mode": {
    "name": "ipython",
    "version": 2
   },
   "file_extension": ".py",
   "mimetype": "text/x-python",
   "name": "python",
   "nbconvert_exporter": "python",
   "pygments_lexer": "ipython2",
   "version": "2.7.6"
  }
 },
 "nbformat": 4,
 "nbformat_minor": 5
}
