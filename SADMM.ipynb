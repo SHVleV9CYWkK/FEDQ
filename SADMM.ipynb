{
 "cells": [
  {
   "cell_type": "code",
   "execution_count": 1,
   "id": "initial_id",
   "metadata": {
    "collapsed": true,
    "ExecuteTime": {
     "end_time": "2023-10-11T09:00:08.042457Z",
     "start_time": "2023-10-11T09:00:06.417699Z"
    }
   },
   "outputs": [
    {
     "name": "stdout",
     "output_type": "stream",
     "text": [
      "(CVXPY) Oct 11 08:00:08 PM: Encountered unexpected exception importing solver OSQP:\n",
      "ImportError(\"dlopen(/Users/hueybai/miniconda3/envs/DL_Pytorch/lib/python3.10/site-packages/osqp/_osqp.cpython-310-darwin.so, 0x0002): symbol not found in flat namespace '_csc_matrix'\")\n"
     ]
    }
   ],
   "source": [
    "import os\n",
    "from utils import load_client_data\n",
    "import networkx as nx\n",
    "from sadmm_solver import NetworkLassoRunner\n",
    "from utils import save_global_measure"
   ]
  },
  {
   "cell_type": "code",
   "execution_count": 2,
   "outputs": [],
   "source": [
    "seed = 54\n",
    "dataset_name = \"n-baiot\"\n",
    "num_rounds = 25\n",
    "input_dim = 0\n",
    "if dataset_name == \"unsw-nb15\":\n",
    "    input_dim = 47\n",
    "elif dataset_name == \"n-baiot\":\n",
    "    input_dim = 115\n",
    "\n",
    "hyperparameters = {\n",
    "    'sadmm_lambda': 0.002,\n",
    "    'rho': 1.0,\n",
    "    'c': 0.75,\n",
    "    'n_rounds': num_rounds,\n",
    "    'num_features': input_dim,\n",
    "    'seed': seed\n",
    "}"
   ],
   "metadata": {
    "collapsed": false,
    "ExecuteTime": {
     "end_time": "2023-10-11T09:00:08.042649Z",
     "start_time": "2023-10-11T09:00:08.035004Z"
    }
   },
   "id": "d271e2dd4fe83e25"
  },
  {
   "cell_type": "code",
   "execution_count": 3,
   "outputs": [],
   "source": [
    "client_data_list = load_client_data(os.path.join(dataset_name, \"split\"))"
   ],
   "metadata": {
    "collapsed": false,
    "ExecuteTime": {
     "end_time": "2023-10-11T09:00:31.772052Z",
     "start_time": "2023-10-11T09:00:08.037249Z"
    }
   },
   "id": "f4506a290da2768d"
  },
  {
   "cell_type": "code",
   "execution_count": 4,
   "outputs": [],
   "source": [
    "train_set = [None] * len(client_data_list)\n",
    "test_set = [None] * len(client_data_list)\n",
    "val_set = [None] * len(client_data_list)\n",
    "for idx, client_data in enumerate(client_data_list):\n",
    "    train_data, test_data, val_data = client_data\n",
    "\n",
    "    train_data[1][train_data[1] == 0] = -1\n",
    "    test_data[1][test_data[1] == 0] = -1\n",
    "    val_data[1][val_data[1] == 0] = -1\n",
    "\n",
    "    train_set[idx] = train_data\n",
    "    test_set[idx] = test_data\n",
    "    val_set[idx] = val_data"
   ],
   "metadata": {
    "collapsed": false,
    "ExecuteTime": {
     "end_time": "2023-10-11T09:00:31.792202Z",
     "start_time": "2023-10-11T09:00:31.771193Z"
    }
   },
   "id": "e9adfab6b2f1fcd7"
  },
  {
   "cell_type": "code",
   "execution_count": 5,
   "outputs": [],
   "source": [
    "def build_graph(num_nodes):\n",
    "    print(\"Building a simulated MEC topology for \" + str(num_nodes) + \" nodes.\")\n",
    "    neighbours = [[73, 38, 88, 1, 42], [75, 64, 88, 12, 67], [77, 60, 56, 17, 13], [30, 75, 74, 93, 64],\n",
    "                  [90, 27, 51, 47, 82], [96, 16, 55, 95, 28], [12, 7, 88, 42, 64], [6, 12, 42, 88, 64],\n",
    "                  [48, 18, 80, 47, 61], [11, 33, 85, 44, 87], [34, 15, 58, 50, 43], [9, 33, 85, 84, 87],\n",
    "                  [88, 6, 75, 64, 1], [81, 60, 2, 17, 56], [30, 3, 1, 74, 39], [34, 50, 10, 32, 91],\n",
    "                  [28, 5, 87, 95, 96], [77, 60, 2, 13, 1], [48, 8, 24, 47, 80], [66, 79, 7, 6, 63],\n",
    "                  [89, 81, 13, 50, 92], [25, 28, 95, 87, 49], [52, 54, 26, 53, 71], [43, 97, 62, 58, 10],\n",
    "                  [44, 25, 18, 8, 28], [44, 24, 49, 21, 28], [76, 71, 54, 53, 86], [90, 4, 51, 82, 47],\n",
    "                  [16, 87, 5, 95, 44], [59, 99, 82, 47, 80], [3, 74, 14, 75, 88], [68, 23, 97, 62, 43],\n",
    "                  [91, 45, 35, 15, 60], [11, 9, 85, 44, 18], [15, 10, 50, 58, 32], [32, 60, 91, 93, 45],\n",
    "                  [86, 96, 87, 5, 16], [5, 16, 96, 36, 28], [42, 1, 67, 0, 12], [14, 45, 46, 0, 91],\n",
    "                  [42, 67, 38, 1, 12], [50, 81, 20, 62, 89], [40, 12, 6, 38, 88], [58, 62, 10, 23, 41],\n",
    "                  [24, 25, 49, 28, 16], [91, 32, 46, 39, 14], [45, 1, 14, 78, 39], [80, 51, 59, 48, 82],\n",
    "                  [47, 80, 61, 8, 59], [29, 59, 44, 25, 80], [81, 20, 15, 41, 13], [82, 47, 80, 4, 79],\n",
    "                  [54, 26, 86, 57, 36], [71, 26, 76, 86, 54], [52, 86, 36, 26, 71], [5, 96, 95, 86, 76],\n",
    "                  [2, 60, 77, 93, 13], [54, 52, 36, 98, 86], [43, 10, 34, 62, 50], [29, 99, 47, 80, 51],\n",
    "                  [13, 2, 17, 77, 56], [80, 48, 99, 47, 79], [43, 97, 58, 41, 10], [65, 72, 38, 6, 42],\n",
    "                  [75, 12, 1, 88, 3], [63, 79, 61, 48, 72], [19, 88, 6, 7, 12], [1, 40, 38, 64, 75],\n",
    "                  [23, 97, 43, 62, 58], [94, 70, 22, 52, 57], [94, 69, 22, 52, 57], [53, 26, 86, 76, 54],\n",
    "                  [63, 42, 38, 40, 65], [0, 38, 42, 88, 12], [30, 3, 93, 14, 75], [64, 88, 12, 1, 3],\n",
    "                  [26, 96, 5, 55, 86], [2, 17, 60, 64, 3], [46, 45, 39, 91, 32], [51, 99, 80, 47, 4],\n",
    "                  [47, 99, 51, 48, 59], [13, 50, 20, 60, 2], [51, 47, 80, 29, 90], [85, 84, 99, 61, 49],\n",
    "                  [83, 85, 99, 61, 59], [83, 84, 11, 33, 9], [36, 96, 95, 98, 5], [16, 28, 95, 36, 96],\n",
    "                  [12, 75, 64, 6, 1], [92, 20, 81, 50, 13], [27, 4, 51, 82, 47], [32, 45, 60, 35, 14],\n",
    "                  [89, 20, 81, 13, 41], [3, 74, 30, 56, 60], [69, 70, 22, 52, 57], [96, 5, 86, 16, 87],\n",
    "                  [5, 86, 95, 36, 55], [62, 23, 43, 58, 41], [86, 87, 36, 71, 95], [80, 59, 79, 47, 51]]\n",
    "    G = nx.Graph()\n",
    "    for node_id in range(num_nodes):\n",
    "        G.add_node(node_id)\n",
    "        for neighbour_id in neighbours[node_id]:\n",
    "            G.add_edge(node_id, neighbour_id, weight=1)\n",
    "    return G"
   ],
   "metadata": {
    "collapsed": false,
    "ExecuteTime": {
     "end_time": "2023-10-11T09:00:31.810959Z",
     "start_time": "2023-10-11T09:00:31.790300Z"
    }
   },
   "id": "f995283aad130b9"
  },
  {
   "cell_type": "code",
   "execution_count": 6,
   "outputs": [
    {
     "name": "stdout",
     "output_type": "stream",
     "text": [
      "Building a simulated MEC topology for 100 nodes.\n"
     ]
    }
   ],
   "source": [
    "G = build_graph(100)"
   ],
   "metadata": {
    "collapsed": false,
    "ExecuteTime": {
     "end_time": "2023-10-11T09:00:31.811504Z",
     "start_time": "2023-10-11T09:00:31.801646Z"
    }
   },
   "id": "86c041a69a4a4"
  },
  {
   "cell_type": "code",
   "execution_count": 7,
   "outputs": [],
   "source": [
    "runner = NetworkLassoRunner(G)"
   ],
   "metadata": {
    "collapsed": false,
    "ExecuteTime": {
     "end_time": "2023-10-11T09:00:31.811559Z",
     "start_time": "2023-10-11T09:00:31.804498Z"
    }
   },
   "id": "e91464334250e7dc"
  },
  {
   "cell_type": "code",
   "execution_count": 8,
   "outputs": [
    {
     "name": "stdout",
     "output_type": "stream",
     "text": [
      "Running Stochastic Network Lasso...\n",
      "Time Iteration: 0, Time: 8.429728031158447\n",
      "train_loss: 0.6555623835263007, train_acc: 0.5534021906794873, train_FPR: 0.6352125528041237, train_TPR: 0.6409391851063714, train_BER: 0.4921366838488761\n",
      "val_loss: 0.6861473381649326, val_acc: 0.5526164428474801, val_FPR: 0.5938636650805452, val_TPR: 0.5833670524054735, val_BER: 0.46024830633753583\n",
      "Time Iteration: 1, Time: 16.54502010345459\n",
      "train_loss: 0.689910465201273, train_acc: 0.5632535054763791, train_FPR: 0.6245461823891415, train_TPR: 0.6874337651749457, train_BER: 0.4635562086070979\n",
      "val_loss: 0.6744495460706982, val_acc: 0.5787525130216353, val_FPR: 0.5668465109687333, val_TPR: 0.6447550482273746, val_BER: 0.4160457313706793\n",
      "Time Iteration: 2, Time: 24.783689975738525\n",
      "train_loss: 0.654056182964604, train_acc: 0.6086862106056469, train_FPR: 0.6691091855374148, train_TPR: 0.754998648177339, train_BER: 0.45205526868003804\n",
      "val_loss: 0.655595477923944, val_acc: 0.6260402246296748, val_FPR: 0.5340883799551851, val_TPR: 0.696853989972122, val_BER: 0.3736171949915315\n",
      "Time Iteration: 3, Time: 32.865726947784424\n",
      "train_loss: 0.6232245108739094, train_acc: 0.6369216517045745, train_FPR: 0.6657565451872801, train_TPR: 0.7561089631873521, train_BER: 0.44982379099996417\n",
      "val_loss: 0.5960409504347358, val_acc: 0.6570865846757166, val_FPR: 0.5303634003363024, val_TPR: 0.7260668511894821, val_BER: 0.35714827457341014\n",
      "Time Iteration: 4, Time: 41.08699011802673\n",
      "train_loss: 0.6029950934497066, train_acc: 0.6447673929987588, train_FPR: 0.6929705662965131, train_TPR: 0.7933928526617826, train_BER: 0.4447888568173653\n",
      "val_loss: 0.5699276501521977, val_acc: 0.6646492514584349, val_FPR: 0.5261680895908525, val_TPR: 0.7556428051911488, val_BER: 0.34026264219985164\n",
      "Time Iteration: 5, Time: 49.18070602416992\n",
      "train_loss: 0.5730757700089358, train_acc: 0.6443367560683414, train_FPR: 0.6913015456636532, train_TPR: 0.8062685378130845, train_BER: 0.43751650392528424\n",
      "val_loss: 0.5703947136529807, val_acc: 0.6638546183184603, val_FPR: 0.5598156255767313, val_TPR: 0.7563446079364227, val_BER: 0.3567355088201542\n",
      "Time Iteration: 6, Time: 57.331106185913086\n",
      "train_loss: 0.5767466685811415, train_acc: 0.6821465484263857, train_FPR: 0.7077790533854587, train_TPR: 0.805979306424624, train_BER: 0.4458998734804173\n",
      "val_loss: 0.5638695854271805, val_acc: 0.7088708247029146, val_FPR: 0.5544917155398401, val_TPR: 0.7826343442220118, val_BER: 0.3409286856589141\n",
      "Time Iteration: 7, Time: 65.40661025047302\n",
      "train_loss: 0.592211876635658, train_acc: 0.6382139393150402, train_FPR: 0.7258484442429481, train_TPR: 0.839070980062185, train_BER: 0.4383887320903817\n",
      "val_loss: 0.5782667267675581, val_acc: 0.6623383723022307, val_FPR: 0.5450987557610362, val_TPR: 0.7770903017685926, val_BER: 0.3390042269962219\n",
      "Time Iteration: 8, Time: 73.3975670337677\n",
      "train_loss: 0.5675724481801732, train_acc: 0.6966940849350418, train_FPR: 0.6852308329265415, train_TPR: 0.8108733049384829, train_BER: 0.4321787639940291\n",
      "val_loss: 0.5615946280975098, val_acc: 0.7258740124991775, val_FPR: 0.518792714943829, val_TPR: 0.7825047101831902, val_BER: 0.3231440023803194\n",
      "Time Iteration: 9, Time: 81.44727396965027\n",
      "train_loss: 0.5753353855799165, train_acc: 0.6940518167249244, train_FPR: 0.6722636270256527, train_TPR: 0.8116805486010878, train_BER: 0.4252915392122826\n",
      "val_loss: 0.5738919909899289, val_acc: 0.706987218326389, val_FPR: 0.5088781289971058, val_TPR: 0.7834255814374339, val_BER: 0.3177262737798359\n",
      "Time Iteration: 10, Time: 89.96610832214355\n",
      "train_loss: 0.555219450336762, train_acc: 0.7037997244433564, train_FPR: 0.7014088149677259, train_TPR: 0.8303314357163619, train_BER: 0.43053868962568187\n",
      "val_loss: 0.5142008839457343, val_acc: 0.7306302845563638, val_FPR: 0.5143183665835531, val_TPR: 0.8082385764739114, val_BER: 0.308039895054821\n",
      "Time Iteration: 11, Time: 98.15862131118774\n",
      "train_loss: 0.5201916893236913, train_acc: 0.7211378165336684, train_FPR: 0.7218312367693588, train_TPR: 0.858558424217382, train_BER: 0.42663640627598826\n",
      "val_loss: 0.4766759128300121, val_acc: 0.7592415914717624, val_FPR: 0.5150966972893054, val_TPR: 0.8380721674003905, val_BER: 0.29351226494445753\n",
      "Time Iteration: 12, Time: 106.36407017707825\n",
      "train_loss: 0.5273379828903695, train_acc: 0.7325791390384566, train_FPR: 0.6745788004520086, train_TPR: 0.8409494258479597, train_BER: 0.4118146873020244\n",
      "val_loss: 0.49344388065602807, val_acc: 0.7676278392781826, val_FPR: 0.48220368929934565, val_TPR: 0.838141514445423, val_BER: 0.27703108742696136\n",
      "Time Iteration: 13, Time: 114.73771500587463\n",
      "train_loss: 0.5232863293097271, train_acc: 0.7236165800238322, train_FPR: 0.7234350411423471, train_TPR: 0.8591043054870213, train_BER: 0.4271653678276628\n",
      "val_loss: 0.47983207845629017, val_acc: 0.7511141122805879, val_FPR: 0.5384123713330334, val_TPR: 0.8436472688813157, val_BER: 0.3023825512258588\n",
      "Time Iteration: 14, Time: 123.11601209640503\n",
      "train_loss: 0.5051339823881615, train_acc: 0.7565235468039084, train_FPR: 0.662524332824107, train_TPR: 0.8614889254402006, train_BER: 0.3955177036919534\n",
      "val_loss: 0.49789120960399486, val_acc: 0.7799056261160091, val_FPR: 0.463552934540762, val_TPR: 0.8402883601171095, val_BER: 0.26663228721182636\n",
      "Time Iteration: 15, Time: 131.42884302139282\n",
      "train_loss: 0.5198745991845614, train_acc: 0.7372731280618772, train_FPR: 0.6636569969809736, train_TPR: 0.8766931011594734, train_BER: 0.3884819479107503\n",
      "val_loss: 0.5000128480246773, val_acc: 0.7610528506336047, val_FPR: 0.4276002357117711, val_TPR: 0.8535262927869792, val_BER: 0.2420369714623959\n",
      "Time Iteration: 16, Time: 139.61788606643677\n",
      "train_loss: 0.5185453365027466, train_acc: 0.7458133016997119, train_FPR: 0.6540135620671069, train_TPR: 0.8510304485977092, train_BER: 0.396491556734699\n",
      "val_loss: 0.4946590641617707, val_acc: 0.7754696756148887, val_FPR: 0.39574256558849924, val_TPR: 0.8528580546823018, val_BER: 0.22644225545309873\n",
      "Time Iteration: 17, Time: 147.92556309700012\n",
      "train_loss: 0.5094771512448634, train_acc: 0.7617129588089219, train_FPR: 0.6456372726562729, train_TPR: 0.8491977327847354, train_BER: 0.39321976993576885\n",
      "val_loss: 0.4853947553272428, val_acc: 0.7942047927200337, val_FPR: 0.4112056301197461, val_TPR: 0.8519320478057396, val_BER: 0.2346367911570032\n",
      "Time Iteration: 18, Time: 156.2239601612091\n",
      "train_loss: 0.4875523950374297, train_acc: 0.7661897529217646, train_FPR: 0.6631222346766517, train_TPR: 0.870775303096484, train_BER: 0.3911734657900838\n",
      "val_loss: 0.4524818742717192, val_acc: 0.788728523521395, val_FPR: 0.42408828060509735, val_TPR: 0.864712067963349, val_BER: 0.23468810632087414\n",
      "Time Iteration: 19, Time: 164.496178150177\n",
      "train_loss: 0.47713171468631105, train_acc: 0.7942757820811505, train_FPR: 0.6335141491350641, train_TPR: 0.8618156466686919, train_BER: 0.38084925123318614\n",
      "val_loss: 0.44975198952723516, val_acc: 0.8239311737049776, val_FPR: 0.4044356413219999, val_TPR: 0.861905230391455, val_BER: 0.22626520546527257\n",
      "Time Iteration: 20, Time: 172.7625551223755\n",
      "train_loss: 0.4804468835046948, train_acc: 0.7872726314966441, train_FPR: 0.6392494880962184, train_TPR: 0.86770611677085, train_BER: 0.38077168566268427\n",
      "val_loss: 0.449558779683854, val_acc: 0.8151147938557538, val_FPR: 0.41553114682856956, val_TPR: 0.8775390256281435, val_BER: 0.2239960606002133\n",
      "Time Iteration: 21, Time: 181.00834202766418\n",
      "train_loss: 0.4752960582699568, train_acc: 0.7946732221025329, train_FPR: 0.6335583659986467, train_TPR: 0.8580408744325555, train_BER: 0.38275874578304553\n",
      "val_loss: 0.458419365133292, val_acc: 0.8332088841553004, val_FPR: 0.37608181003599095, val_TPR: 0.8614134578654992, val_BER: 0.21233417608524593\n",
      "Time Iteration: 22, Time: 189.3171420097351\n",
      "train_loss: 0.47075463365280934, train_acc: 0.7856465579492459, train_FPR: 0.6552251517277596, train_TPR: 0.8778644347422769, train_BER: 0.38368035849274146\n",
      "val_loss: 0.4402070411323863, val_acc: 0.8180195694274505, val_FPR: 0.4030358972864564, val_TPR: 0.8780370399106286, val_BER: 0.21749942868791383\n",
      "Time Iteration: 23, Time: 197.7084710597992\n",
      "train_loss: 0.4790480903793564, train_acc: 0.789105041509474, train_FPR: 0.6449407457319015, train_TPR: 0.8754654108518998, train_BER: 0.37973766744000076\n",
      "val_loss: 0.4561084970942566, val_acc: 0.8195039964536788, val_FPR: 0.3854221592010689, val_TPR: 0.8655951587149409, val_BER: 0.2149135002430639\n",
      "Time Iteration: 24, Time: 206.09635710716248\n",
      "train_loss: 0.47951343604376256, train_acc: 0.7976828276480014, train_FPR: 0.6134655466421478, train_TPR: 0.8574398378499977, train_BER: 0.37301285439607507\n",
      "val_loss: 0.46723747421310063, val_acc: 0.8282878102385323, val_FPR: 0.36792715124556763, val_TPR: 0.86123670925425, val_BER: 0.20834522099565878\n",
      "Time: 208.00558733940125\n",
      "test_loss: 0.45815703970422333, test_acc: 0.8301301057674659, test_FPR: 0.3739556030704547, test_TPR: 0.8759607010629088, test_BER: 0.20399745100377295\n"
     ]
    }
   ],
   "source": [
    "train_measures, val_measures, test_measure = runner.run(hyperparameters, train_set, test_set,val_set)"
   ],
   "metadata": {
    "collapsed": false,
    "ExecuteTime": {
     "end_time": "2023-10-11T09:03:59.827028Z",
     "start_time": "2023-10-11T09:00:31.806873Z"
    }
   },
   "id": "866e599c7303e206"
  },
  {
   "cell_type": "code",
   "execution_count": 9,
   "outputs": [
    {
     "name": "stdout",
     "output_type": "stream",
     "text": [
      "Saved measures to Experimental_results/S-ADMM/train_measures_n-baiot.csv\n",
      "Saved measures to Experimental_results/S-ADMM/val_measures_n-baiot.csv\n"
     ]
    }
   ],
   "source": [
    "save_global_measure(train_measures, \"train_measures_\"+dataset_name+\".csv\", \"S-ADMM\")\n",
    "save_global_measure(val_measures, \"val_measures_\"+dataset_name+\".csv\", \"S-ADMM\")"
   ],
   "metadata": {
    "collapsed": false,
    "ExecuteTime": {
     "end_time": "2023-10-11T09:03:59.836121Z",
     "start_time": "2023-10-11T09:03:59.822351Z"
    }
   },
   "id": "b2a8deb8000d75df"
  }
 ],
 "metadata": {
  "kernelspec": {
   "display_name": "Python 3",
   "language": "python",
   "name": "python3"
  },
  "language_info": {
   "codemirror_mode": {
    "name": "ipython",
    "version": 2
   },
   "file_extension": ".py",
   "mimetype": "text/x-python",
   "name": "python",
   "nbconvert_exporter": "python",
   "pygments_lexer": "ipython2",
   "version": "2.7.6"
  }
 },
 "nbformat": 4,
 "nbformat_minor": 5
}
