{
 "cells": [
  {
   "cell_type": "markdown",
   "source": [
    "Import the necessary dependent libraries"
   ],
   "metadata": {
    "collapsed": false
   }
  },
  {
   "cell_type": "code",
   "execution_count": 1,
   "outputs": [],
   "source": [
    "import os\n",
    "from module import MLPModule\n",
    "from utils import aggregate_weights, save_global_measure, load_client_data, calculate_global_measures\n",
    "from tqdm import tqdm\n",
    "import torch\n",
    "from client import Client\n",
    "import time"
   ],
   "metadata": {
    "collapsed": false,
    "ExecuteTime": {
     "end_time": "2023-12-07T03:46:59.389490Z",
     "start_time": "2023-12-07T03:46:57.849140Z"
    }
   }
  },
  {
   "cell_type": "markdown",
   "source": [
    "Set the necessary parameters and hyperparameters for the experiment and model"
   ],
   "metadata": {
    "collapsed": false
   }
  },
  {
   "cell_type": "code",
   "execution_count": 2,
   "outputs": [],
   "source": [
    "seed = 54\n",
    "dataset_name = \"n-baiot\"\n",
    "num_rounds = 25\n",
    "input_dim = 0\n",
    "\n",
    "if torch.cuda.is_available():\n",
    "    device = torch.device(\"cuda\")\n",
    "# elif torch.backends.mps.is_available():\n",
    "#     device = torch.device(\"mps:0\")\n",
    "else:\n",
    "    device = torch.device(\"cpu\")\n",
    "\n",
    "hyperparameters = {\n",
    "    'input_dim': input_dim,\n",
    "    'lr': 0.001,\n",
    "    'hidden_neurons_num': 512,\n",
    "    'batch_size': 128,\n",
    "    'seed': seed,\n",
    "    'device': device\n",
    "}"
   ],
   "metadata": {
    "collapsed": false,
    "ExecuteTime": {
     "end_time": "2023-12-07T03:46:59.394396Z",
     "start_time": "2023-12-07T03:46:59.390887Z"
    }
   }
  },
  {
   "cell_type": "raw",
   "source": [
    "Get all client data"
   ],
   "metadata": {
    "collapsed": false
   }
  },
  {
   "cell_type": "code",
   "execution_count": 3,
   "metadata": {
    "collapsed": true,
    "ExecuteTime": {
     "end_time": "2023-12-07T03:47:21.149992Z",
     "start_time": "2023-12-07T03:46:59.393287Z"
    }
   },
   "outputs": [],
   "source": [
    "client_data_list = load_client_data(os.path.join(dataset_name, \"split\"), device)"
   ]
  },
  {
   "cell_type": "code",
   "execution_count": 4,
   "outputs": [],
   "source": [
    "def process_client_data(data_list, keep_columns):\n",
    "    processed_data_list = []\n",
    "\n",
    "    for client_data in data_list:\n",
    "        X_train, Y_train = client_data[0]\n",
    "        processed_X_train = X_train[:, keep_columns]\n",
    "        processed_train = (processed_X_train, Y_train)\n",
    "\n",
    "        X_val, Y_val = client_data[1]\n",
    "        processed_X_val = X_val[:, keep_columns]\n",
    "        processed_val = (processed_X_val, Y_val)\n",
    "\n",
    "        X_test, Y_test = client_data[2]\n",
    "        processed_X_test = X_test[:, keep_columns]\n",
    "        processed_test = (processed_X_test, Y_test)\n",
    "\n",
    "        processed_client_data = (processed_train, processed_val, processed_test)\n",
    "        processed_data_list.append(processed_client_data)\n",
    "\n",
    "    return processed_data_list"
   ],
   "metadata": {
    "collapsed": false,
    "ExecuteTime": {
     "end_time": "2023-12-07T03:47:21.155362Z",
     "start_time": "2023-12-07T03:47:21.151575Z"
    }
   }
  },
  {
   "cell_type": "code",
   "execution_count": 5,
   "outputs": [],
   "source": [
    "columns_to_keep = [0, 2, 4, 6, 7, 8, 11, 12, 13, 14, 15, 16, 17, 28, 29, 38, 39]\n",
    "if dataset_name == \"n-baiot\":\n",
    "    columns_to_keep = [0, 3, 6, 30, 37, 44, 31, 38, 45, 32, 39, 46, 60, 63, 66, 75, 82, 89, 76, 83, 90]\n",
    "client_data_list = process_client_data(client_data_list, columns_to_keep)\n",
    "hyperparameters['input_dim'] = len(columns_to_keep)"
   ],
   "metadata": {
    "collapsed": false,
    "ExecuteTime": {
     "end_time": "2023-12-07T03:47:21.426519Z",
     "start_time": "2023-12-07T03:47:21.156223Z"
    }
   }
  },
  {
   "cell_type": "markdown",
   "source": [
    "Generate clients"
   ],
   "metadata": {
    "collapsed": false
   }
  },
  {
   "cell_type": "code",
   "execution_count": 6,
   "outputs": [],
   "source": [
    "def create_clients(client_data, hyperparameter):\n",
    "    client_list = []\n",
    "    for i, (train_set, test_set, val_set) in enumerate(client_data):\n",
    "        c = Client(\n",
    "            id=i,\n",
    "            hyperparameters=hyperparameter,\n",
    "            train_set=train_set,\n",
    "            test_set=test_set,\n",
    "            val_set=val_set\n",
    "        )\n",
    "        client_list.append(c)\n",
    "    return client_list\n",
    "clients = create_clients(client_data_list, hyperparameters)"
   ],
   "metadata": {
    "collapsed": false,
    "ExecuteTime": {
     "end_time": "2023-12-07T03:47:21.458876Z",
     "start_time": "2023-12-07T03:47:21.427099Z"
    }
   }
  },
  {
   "cell_type": "markdown",
   "source": [
    "FedAvg training process"
   ],
   "metadata": {
    "collapsed": false
   }
  },
  {
   "cell_type": "code",
   "execution_count": 7,
   "outputs": [],
   "source": [
    "# Initialize model\n",
    "global_model = MLPModule(hyperparameters)\n",
    "\n",
    "# Pre-trained\n",
    "model_weights_list = []\n",
    "client_n_samples_list = {}\n",
    "for client in clients:\n",
    "    client.receive_global_model(global_model)\n",
    "    client_model_parameters, client_measures, client_n_samples = client.local_fit_and_upload_parameters()\n",
    "    client_n_samples_list[client.id] = client_n_samples\n",
    "    model_weights_list.append(client_model_parameters)\n",
    "    \n",
    "global_model.set_parameters(aggregate_weights(model_weights_list, client_n_samples_list))"
   ],
   "metadata": {
    "collapsed": false,
    "ExecuteTime": {
     "end_time": "2023-12-07T03:48:20.615012Z",
     "start_time": "2023-12-07T03:47:21.459639Z"
    }
   }
  },
  {
   "cell_type": "code",
   "execution_count": 8,
   "outputs": [
    {
     "name": "stderr",
     "output_type": "stream",
     "text": [
      "  4%|▍         | 1/25 [00:55<22:10, 55.46s/it]"
     ]
    },
    {
     "name": "stdout",
     "output_type": "stream",
     "text": [
      "Global Train Set Loss: 0.35237836485052554\n",
      "Global Train Set Accuracy: 0.8855949277949189\n",
      "Global Train Set FPR: 0.5663305512451771\n",
      "Global Train Set TPR: 0.8884891691654901\n",
      "Global Train Set BER: 0.33892069103984346\n",
      "Global Validation Set Loss: 0.14491426150545966\n",
      "Global Validation Set Accuracy: 0.9835914303582998\n",
      "Global Validation Set FPR: 0.16968653007012763\n",
      "Global Validation Set TPR: 0.9743422630046432\n",
      "Global Validation Set BER: 0.09767213353274229\n"
     ]
    },
    {
     "name": "stderr",
     "output_type": "stream",
     "text": [
      "  8%|▊         | 2/25 [01:44<19:42, 51.42s/it]"
     ]
    },
    {
     "name": "stdout",
     "output_type": "stream",
     "text": [
      "Global Train Set Loss: 0.3424606733703211\n",
      "Global Train Set Accuracy: 0.8921381058838201\n",
      "Global Train Set FPR: 0.5506329713276363\n",
      "Global Train Set TPR: 0.886084858639\n",
      "Global Train Set BER: 0.3322740563443183\n",
      "Global Validation Set Loss: 0.12495363773821426\n",
      "Global Validation Set Accuracy: 0.9963657295287512\n",
      "Global Validation Set FPR: 0.09348543133328198\n",
      "Global Validation Set TPR: 0.9781195267649561\n",
      "Global Validation Set BER: 0.05768295228416307\n"
     ]
    },
    {
     "ename": "KeyboardInterrupt",
     "evalue": "",
     "output_type": "error",
     "traceback": [
      "\u001B[0;31m---------------------------------------------------------------------------\u001B[0m",
      "\u001B[0;31mKeyboardInterrupt\u001B[0m                         Traceback (most recent call last)",
      "Cell \u001B[0;32mIn[8], line 21\u001B[0m\n\u001B[1;32m     18\u001B[0m client\u001B[38;5;241m.\u001B[39mreceive_global_model(global_model)\n\u001B[1;32m     20\u001B[0m \u001B[38;5;66;03m# The client trains the model locally\u001B[39;00m\n\u001B[0;32m---> 21\u001B[0m client_model_parameters, client_measures, client_n_samples \u001B[38;5;241m=\u001B[39m \u001B[43mclient\u001B[49m\u001B[38;5;241;43m.\u001B[39;49m\u001B[43mlocal_fit_and_upload_parameters\u001B[49m\u001B[43m(\u001B[49m\u001B[43m)\u001B[49m\n\u001B[1;32m     22\u001B[0m client_n_samples_list[client\u001B[38;5;241m.\u001B[39mid] \u001B[38;5;241m=\u001B[39m client_n_samples\n\u001B[1;32m     23\u001B[0m model_weights_list\u001B[38;5;241m.\u001B[39mappend(client_model_parameters)\n",
      "File \u001B[0;32m~/Documents/DataSpell/FEDQ/client.py:23\u001B[0m, in \u001B[0;36mClient.local_fit_and_upload_parameters\u001B[0;34m(self)\u001B[0m\n\u001B[1;32m     22\u001B[0m \u001B[38;5;28;01mdef\u001B[39;00m \u001B[38;5;21mlocal_fit_and_upload_parameters\u001B[39m(\u001B[38;5;28mself\u001B[39m):\n\u001B[0;32m---> 23\u001B[0m     \u001B[38;5;28;43mself\u001B[39;49m\u001B[38;5;241;43m.\u001B[39;49m\u001B[43mlocal_module\u001B[49m\u001B[38;5;241;43m.\u001B[39;49m\u001B[43mfit\u001B[49m\u001B[43m(\u001B[49m\u001B[38;5;28;43mself\u001B[39;49m\u001B[38;5;241;43m.\u001B[39;49m\u001B[43mtrain_set\u001B[49m\u001B[43m[\u001B[49m\u001B[38;5;241;43m0\u001B[39;49m\u001B[43m]\u001B[49m\u001B[43m,\u001B[49m\u001B[43m \u001B[49m\u001B[38;5;28;43mself\u001B[39;49m\u001B[38;5;241;43m.\u001B[39;49m\u001B[43mtrain_set\u001B[49m\u001B[43m[\u001B[49m\u001B[38;5;241;43m1\u001B[39;49m\u001B[43m]\u001B[49m\u001B[43m)\u001B[49m\n\u001B[1;32m     24\u001B[0m     measures \u001B[38;5;241m=\u001B[39m \u001B[38;5;28mself\u001B[39m\u001B[38;5;241m.\u001B[39mevaluate()\n\u001B[1;32m     25\u001B[0m     parameters \u001B[38;5;241m=\u001B[39m \u001B[38;5;28mself\u001B[39m\u001B[38;5;241m.\u001B[39mlocal_module\u001B[38;5;241m.\u001B[39mget_parameters()\n",
      "File \u001B[0;32m~/Documents/DataSpell/FEDQ/module.py:64\u001B[0m, in \u001B[0;36mMLPModule.fit\u001B[0;34m(self, X, y, weights)\u001B[0m\n\u001B[1;32m     62\u001B[0m targets \u001B[38;5;241m=\u001B[39m targets\u001B[38;5;241m.\u001B[39msqueeze()\n\u001B[1;32m     63\u001B[0m losses \u001B[38;5;241m=\u001B[39m \u001B[38;5;28mself\u001B[39m\u001B[38;5;241m.\u001B[39mcriterion(outputs, targets)\n\u001B[0;32m---> 64\u001B[0m weighted_loss \u001B[38;5;241m=\u001B[39m \u001B[43m(\u001B[49m\u001B[43mlosses\u001B[49m\u001B[43m \u001B[49m\u001B[38;5;241;43m*\u001B[39;49m\u001B[43m \u001B[49m\u001B[43msample_weights\u001B[49m\u001B[43m)\u001B[49m\u001B[38;5;241;43m.\u001B[39;49m\u001B[43mmean\u001B[49m\u001B[43m(\u001B[49m\u001B[43m)\u001B[49m\n\u001B[1;32m     65\u001B[0m weighted_loss\u001B[38;5;241m.\u001B[39mbackward()\n\u001B[1;32m     66\u001B[0m \u001B[38;5;28mself\u001B[39m\u001B[38;5;241m.\u001B[39moptimizer\u001B[38;5;241m.\u001B[39mstep()\n",
      "\u001B[0;31mKeyboardInterrupt\u001B[0m: "
     ]
    }
   ],
   "source": [
    "# Record training results\n",
    "record_global_train_measures = [None] * num_rounds\n",
    "record_global_val_measures = [None] * num_rounds\n",
    "\n",
    "train_time_record = [None] * num_rounds\n",
    "start_time = time.time()\n",
    "\n",
    "pbar = tqdm(total=num_rounds)\n",
    "# Perform num_rounds rounds of training\n",
    "for idx in range(num_rounds):\n",
    "    model_weights_list = []\n",
    "    client_n_samples_list = {}\n",
    "    all_client_train_measures = { 'accuracy': {}, 'fpr': {}, 'tpr': {}, 'ber': {}, 'loss': {} }\n",
    "    all_client_val_measures = { 'accuracy': {}, 'fpr': {}, 'tpr': {}, 'ber': {}, 'loss': {} }\n",
    "    \n",
    "    for client in clients:\n",
    "        # Client receives new global model\n",
    "        client.receive_global_model(global_model)\n",
    "\n",
    "        # The client trains the model locally\n",
    "        client_model_parameters, client_measures, client_n_samples = client.local_fit_and_upload_parameters()\n",
    "        client_n_samples_list[client.id] = client_n_samples\n",
    "        model_weights_list.append(client_model_parameters)\n",
    "        for key in all_client_train_measures:\n",
    "            all_client_train_measures[key][client.id] = (client_measures['train'][key])\n",
    "            all_client_val_measures[key][client.id] = (client_measures['val'][key])\n",
    "\n",
    "    global_train_measures, global_val_measures = calculate_global_measures(clients,\n",
    "                                                                           all_client_train_measures,\n",
    "                                                                           all_client_val_measures,\n",
    "                                                                           display_result=True)\n",
    "    record_global_train_measures[idx] = global_train_measures\n",
    "    record_global_val_measures[idx] = global_val_measures\n",
    "\n",
    "    # Aggregate new global model\n",
    "    global_model.set_parameters(aggregate_weights(model_weights_list, client_n_samples_list))\n",
    "\n",
    "    train_time_record[idx] = time.time() - start_time\n",
    "    pbar.update(1)\n",
    "    \n",
    "pbar.reset()"
   ],
   "metadata": {
    "collapsed": false,
    "ExecuteTime": {
     "end_time": "2023-12-07T03:50:20.498124Z",
     "start_time": "2023-12-07T03:48:20.617539Z"
    }
   }
  },
  {
   "cell_type": "markdown",
   "source": [
    "Save experiment results"
   ],
   "metadata": {
    "collapsed": false
   }
  },
  {
   "cell_type": "code",
   "execution_count": null,
   "outputs": [],
   "source": [
    "save_global_measure(record_global_train_measures, \"train_measures_\"+dataset_name+\".csv\", \"FedTrust\")\n",
    "save_global_measure(record_global_val_measures, \"val_measures_\"+dataset_name+\".csv\", \"FedTrust\")"
   ],
   "metadata": {
    "collapsed": false,
    "ExecuteTime": {
     "end_time": "2023-12-07T03:50:20.502701Z",
     "start_time": "2023-12-07T03:50:20.498688Z"
    }
   }
  },
  {
   "cell_type": "markdown",
   "source": [
    "Test the performance of the model on the unseen test set"
   ],
   "metadata": {
    "collapsed": false
   }
  },
  {
   "cell_type": "code",
   "execution_count": null,
   "outputs": [],
   "source": [
    "all_client_measures = {\n",
    "    'accuracy': [],\n",
    "    'fpr': [],\n",
    "    'tpr': [],\n",
    "    'ber': [],\n",
    "    'loss': []\n",
    "}\n",
    "client_n_samples_list = {}\n",
    "for client in clients:\n",
    "    client.receive_global_model(global_model)\n",
    "    client_measures, client_n_samples = client.evaluate_test_set()\n",
    "    client_n_samples_list[client.id] = client_n_samples\n",
    "\n",
    "    for key in all_client_measures:\n",
    "        all_client_measures[key].append(client_measures[key])\n",
    "\n",
    "global_measures = {}\n",
    "for key in all_client_measures:\n",
    "    global_measures[key] = sum([all_client_measures[key][c.id] * client_n_samples_list[c.id] for c in clients]) / sum(client_n_samples_list.values())\n",
    "\n",
    "print(\"Global Test Set Loss:\", global_measures['loss'])\n",
    "print(\"Global Test Set Accuracy:\", global_measures['accuracy'])\n",
    "print(\"Global Test Set FPR:\", global_measures['fpr'])\n",
    "print(\"Global Test Set TPR:\", global_measures['tpr'])\n",
    "print(\"Global Test Set BER:\", global_measures['ber'])"
   ],
   "metadata": {
    "collapsed": false,
    "ExecuteTime": {
     "start_time": "2023-12-07T03:50:20.500075Z"
    }
   }
  }
 ],
 "metadata": {
  "kernelspec": {
   "display_name": "Python 3",
   "language": "python",
   "name": "python3"
  },
  "language_info": {
   "codemirror_mode": {
    "name": "ipython",
    "version": 2
   },
   "file_extension": ".py",
   "mimetype": "text/x-python",
   "name": "python",
   "nbconvert_exporter": "python",
   "pygments_lexer": "ipython2",
   "version": "2.7.6"
  }
 },
 "nbformat": 4,
 "nbformat_minor": 0
}
