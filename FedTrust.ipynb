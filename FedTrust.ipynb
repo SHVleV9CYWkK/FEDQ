{
 "cells": [
  {
   "cell_type": "markdown",
   "source": [
    "Import the necessary dependent libraries"
   ],
   "metadata": {
    "collapsed": false
   }
  },
  {
   "cell_type": "code",
   "execution_count": 1,
   "outputs": [],
   "source": [
    "import os\n",
    "from module import MLPModule\n",
    "from utils import aggregate_weights, save_global_measure, load_client_data, calculate_global_measures\n",
    "from tqdm import tqdm\n",
    "import torch\n",
    "from client import Client"
   ],
   "metadata": {
    "collapsed": false,
    "ExecuteTime": {
     "end_time": "2023-10-23T06:33:11.502618Z",
     "start_time": "2023-10-23T06:33:09.971415Z"
    }
   }
  },
  {
   "cell_type": "markdown",
   "source": [
    "Set the necessary parameters and hyperparameters for the experiment and model"
   ],
   "metadata": {
    "collapsed": false
   }
  },
  {
   "cell_type": "code",
   "execution_count": 2,
   "outputs": [],
   "source": [
    "seed = 54\n",
    "dataset_name = \"n-baiot\"\n",
    "num_rounds = 25\n",
    "input_dim = 0\n",
    "\n",
    "if torch.cuda.is_available():\n",
    "    device = torch.device(\"cuda\")\n",
    "# elif torch.backends.mps.is_available():\n",
    "#     device = torch.device(\"mps:0\")\n",
    "else:\n",
    "    device = torch.device(\"cpu\")\n",
    "\n",
    "hyperparameters = {\n",
    "    'input_dim': input_dim,\n",
    "    'lr': 0.001,\n",
    "    'hidden_neurons_num': 512,\n",
    "    'batch_size': 128,\n",
    "    'seed': seed,\n",
    "    'device': device\n",
    "}"
   ],
   "metadata": {
    "collapsed": false,
    "ExecuteTime": {
     "end_time": "2023-10-23T06:33:11.509658Z",
     "start_time": "2023-10-23T06:33:11.504308Z"
    }
   }
  },
  {
   "cell_type": "raw",
   "source": [
    "Get all client data"
   ],
   "metadata": {
    "collapsed": false
   }
  },
  {
   "cell_type": "code",
   "execution_count": 3,
   "metadata": {
    "collapsed": true,
    "ExecuteTime": {
     "end_time": "2023-10-23T06:33:33.548110Z",
     "start_time": "2023-10-23T06:33:11.506696Z"
    }
   },
   "outputs": [],
   "source": [
    "client_data_list = load_client_data(os.path.join(dataset_name, \"split\"), device)"
   ]
  },
  {
   "cell_type": "code",
   "execution_count": 4,
   "outputs": [],
   "source": [
    "def process_client_data(data_list, keep_columns):\n",
    "    processed_data_list = []\n",
    "\n",
    "    for client_data in data_list:\n",
    "        X_train, Y_train = client_data[0]\n",
    "        processed_X_train = X_train[:, keep_columns]\n",
    "        processed_train = (processed_X_train, Y_train)\n",
    "\n",
    "        X_val, Y_val = client_data[1]\n",
    "        processed_X_val = X_val[:, keep_columns]\n",
    "        processed_val = (processed_X_val, Y_val)\n",
    "\n",
    "        X_test, Y_test = client_data[2]\n",
    "        processed_X_test = X_test[:, keep_columns]\n",
    "        processed_test = (processed_X_test, Y_test)\n",
    "\n",
    "        processed_client_data = (processed_train, processed_val, processed_test)\n",
    "        processed_data_list.append(processed_client_data)\n",
    "\n",
    "    return processed_data_list"
   ],
   "metadata": {
    "collapsed": false,
    "ExecuteTime": {
     "end_time": "2023-10-23T06:33:33.559291Z",
     "start_time": "2023-10-23T06:33:33.549935Z"
    }
   }
  },
  {
   "cell_type": "code",
   "execution_count": 5,
   "outputs": [],
   "source": [
    "columns_to_keep = [0, 2, 4, 6, 7, 8, 11, 12, 13, 14, 15, 16, 17, 28, 29, 38, 39]\n",
    "if dataset_name == \"n-baiot\":\n",
    "    columns_to_keep = [0, 3, 6, 30, 37, 44, 31, 38, 45, 32, 39, 46, 60, 63, 66, 75, 82, 89, 76, 83, 90]\n",
    "client_data_list = process_client_data(client_data_list, columns_to_keep)\n",
    "hyperparameters['input_dim'] = len(columns_to_keep)"
   ],
   "metadata": {
    "collapsed": false,
    "ExecuteTime": {
     "end_time": "2023-10-23T06:33:33.846084Z",
     "start_time": "2023-10-23T06:33:33.553614Z"
    }
   }
  },
  {
   "cell_type": "markdown",
   "source": [
    "Generate clients"
   ],
   "metadata": {
    "collapsed": false
   }
  },
  {
   "cell_type": "code",
   "execution_count": 6,
   "outputs": [],
   "source": [
    "def create_clients(client_data, hyperparameter):\n",
    "    client_list = []\n",
    "    for i, (train_set, test_set, val_set) in enumerate(client_data):\n",
    "        c = Client(\n",
    "            id=i,\n",
    "            hyperparameters=hyperparameter,\n",
    "            train_set=train_set,\n",
    "            test_set=test_set,\n",
    "            val_set=val_set\n",
    "        )\n",
    "        client_list.append(c)\n",
    "    return client_list\n",
    "clients = create_clients(client_data_list, hyperparameters)"
   ],
   "metadata": {
    "collapsed": false,
    "ExecuteTime": {
     "end_time": "2023-10-23T06:33:33.876626Z",
     "start_time": "2023-10-23T06:33:33.847142Z"
    }
   }
  },
  {
   "cell_type": "markdown",
   "source": [
    "FedAvg training process"
   ],
   "metadata": {
    "collapsed": false
   }
  },
  {
   "cell_type": "code",
   "execution_count": 7,
   "outputs": [],
   "source": [
    "# Initialize model\n",
    "global_model = MLPModule(hyperparameters)\n",
    "\n",
    "# Pre-trained\n",
    "model_weights_list = []\n",
    "client_n_samples_list = {}\n",
    "for client in clients:\n",
    "    client.receive_global_model(global_model)\n",
    "    client_model_parameters, client_measures, client_n_samples = client.local_fit_and_upload_parameters()\n",
    "    client_n_samples_list[client.id] = client_n_samples\n",
    "    model_weights_list.append(client_model_parameters)\n",
    "    \n",
    "global_model.set_parameters(aggregate_weights(model_weights_list, client_n_samples_list))"
   ],
   "metadata": {
    "collapsed": false,
    "ExecuteTime": {
     "end_time": "2023-10-23T06:34:15.311845Z",
     "start_time": "2023-10-23T06:33:33.876238Z"
    }
   }
  },
  {
   "cell_type": "code",
   "execution_count": 8,
   "outputs": [
    {
     "name": "stderr",
     "output_type": "stream",
     "text": [
      "  4%|▍         | 1/25 [00:40<16:07, 40.32s/it]"
     ]
    },
    {
     "name": "stdout",
     "output_type": "stream",
     "text": [
      "Global Train Set Loss: 0.3245374543008779\n",
      "Global Train Set Accuracy: 0.8512858724198814\n",
      "Global Train Set FPR: 0.580530196545936\n",
      "Global Train Set TPR: 0.8561349479387258\n",
      "Global Train Set BER: 0.3571976243036049\n",
      "Global Validation Set Loss: 0.20218206264819666\n",
      "Global Validation Set Accuracy: 0.8896984106989878\n",
      "Global Validation Set FPR: 0.34437682093677296\n",
      "Global Validation Set TPR: 0.8743494384217513\n",
      "Global Validation Set BER: 0.1900136912575108\n"
     ]
    },
    {
     "name": "stderr",
     "output_type": "stream",
     "text": [
      "  8%|▊         | 2/25 [01:20<15:24, 40.21s/it]"
     ]
    },
    {
     "name": "stdout",
     "output_type": "stream",
     "text": [
      "Global Train Set Loss: 0.2847062147513999\n",
      "Global Train Set Accuracy: 0.9021369464907845\n",
      "Global Train Set FPR: 0.48741504999435165\n",
      "Global Train Set TPR: 0.8372423002624305\n",
      "Global Train Set BER: 0.3200863748659607\n",
      "Global Validation Set Loss: 0.1515230894777387\n",
      "Global Validation Set Accuracy: 0.9432002210104682\n",
      "Global Validation Set FPR: 0.20128610347914144\n",
      "Global Validation Set TPR: 0.8955144610440631\n",
      "Global Validation Set BER: 0.10788582121753913\n"
     ]
    },
    {
     "name": "stderr",
     "output_type": "stream",
     "text": [
      " 12%|█▏        | 3/25 [02:01<14:53, 40.63s/it]"
     ]
    },
    {
     "name": "stdout",
     "output_type": "stream",
     "text": [
      "Global Train Set Loss: 0.28079344930778055\n",
      "Global Train Set Accuracy: 0.9052725853806952\n",
      "Global Train Set FPR: 0.48100684482365247\n",
      "Global Train Set TPR: 0.8339968061173814\n",
      "Global Train Set BER: 0.31850501935313547\n",
      "Global Validation Set Loss: 0.14623026470576306\n",
      "Global Validation Set Accuracy: 0.9485111479099027\n",
      "Global Validation Set FPR: 0.1774785444783252\n",
      "Global Validation Set TPR: 0.8993179128818237\n",
      "Global Validation Set BER: 0.09408031579825087\n"
     ]
    },
    {
     "name": "stderr",
     "output_type": "stream",
     "text": [
      " 16%|█▌        | 4/25 [02:43<14:23, 41.11s/it]"
     ]
    },
    {
     "name": "stdout",
     "output_type": "stream",
     "text": [
      "Global Train Set Loss: 0.28021027125266845\n",
      "Global Train Set Accuracy: 0.9060273244937427\n",
      "Global Train Set FPR: 0.47993540326679424\n",
      "Global Train Set TPR: 0.8343631535960552\n",
      "Global Train Set BER: 0.31778612483536944\n",
      "Global Validation Set Loss: 0.1462634313142812\n",
      "Global Validation Set Accuracy: 0.9488533325706715\n",
      "Global Validation Set FPR: 0.17218968891179337\n",
      "Global Validation Set TPR: 0.9025106577532805\n",
      "Global Validation Set BER: 0.08983951557925651\n"
     ]
    },
    {
     "name": "stderr",
     "output_type": "stream",
     "text": [
      " 20%|██        | 5/25 [03:24<13:43, 41.18s/it]"
     ]
    },
    {
     "name": "stdout",
     "output_type": "stream",
     "text": [
      "Global Train Set Loss: 0.28008824244315317\n",
      "Global Train Set Accuracy: 0.9058858040696292\n",
      "Global Train Set FPR: 0.4792111039487969\n",
      "Global Train Set TPR: 0.8337583461751169\n",
      "Global Train Set BER: 0.31772637888684013\n",
      "Global Validation Set Loss: 0.1468104397718333\n",
      "Global Validation Set Accuracy: 0.9480771923646951\n",
      "Global Validation Set FPR: 0.17200023619415997\n",
      "Global Validation Set TPR: 0.9028403073241126\n",
      "Global Validation Set BER: 0.08957996443502383\n"
     ]
    },
    {
     "name": "stderr",
     "output_type": "stream",
     "text": [
      " 24%|██▍       | 6/25 [04:05<13:00, 41.07s/it]"
     ]
    },
    {
     "name": "stdout",
     "output_type": "stream",
     "text": [
      "Global Train Set Loss: 0.2786917693018257\n",
      "Global Train Set Accuracy: 0.9072706796273279\n",
      "Global Train Set FPR: 0.47704928015625614\n",
      "Global Train Set TPR: 0.833899542425976\n",
      "Global Train Set BER: 0.31657486886514\n",
      "Global Validation Set Loss: 0.14584627760285115\n",
      "Global Validation Set Accuracy: 0.9490895112787041\n",
      "Global Validation Set FPR: 0.16790918947959352\n",
      "Global Validation Set TPR: 0.9025828088443114\n",
      "Global Validation Set BER: 0.08766319031764107\n"
     ]
    },
    {
     "name": "stderr",
     "output_type": "stream",
     "text": [
      " 28%|██▊       | 7/25 [04:46<12:18, 41.01s/it]"
     ]
    },
    {
     "name": "stdout",
     "output_type": "stream",
     "text": [
      "Global Train Set Loss: 0.276761580456839\n",
      "Global Train Set Accuracy: 0.9092522705886082\n",
      "Global Train Set FPR: 0.4739607785094276\n",
      "Global Train Set TPR: 0.8339780202621755\n",
      "Global Train Set BER: 0.31499137912362596\n",
      "Global Validation Set Loss: 0.14373213970383217\n",
      "Global Validation Set Accuracy: 0.9517546750170481\n",
      "Global Validation Set FPR: 0.16428498863433727\n",
      "Global Validation Set TPR: 0.9026205012934537\n",
      "Global Validation Set BER: 0.08583224367044183\n"
     ]
    },
    {
     "name": "stderr",
     "output_type": "stream",
     "text": [
      " 32%|███▏      | 8/25 [05:28<11:41, 41.27s/it]"
     ]
    },
    {
     "name": "stdout",
     "output_type": "stream",
     "text": [
      "Global Train Set Loss: 0.27622551359957775\n",
      "Global Train Set Accuracy: 0.9102109724537364\n",
      "Global Train Set FPR: 0.4724376589454429\n",
      "Global Train Set TPR: 0.8334633148436048\n",
      "Global Train Set BER: 0.3144871720509188\n",
      "Global Validation Set Loss: 0.14320954188693982\n",
      "Global Validation Set Accuracy: 0.952319241138106\n",
      "Global Validation Set FPR: 0.17136177271162584\n",
      "Global Validation Set TPR: 0.9065850946294229\n",
      "Global Validation Set BER: 0.08738833904110145\n"
     ]
    },
    {
     "name": "stderr",
     "output_type": "stream",
     "text": [
      " 36%|███▌      | 9/25 [06:10<11:03, 41.46s/it]"
     ]
    },
    {
     "name": "stdout",
     "output_type": "stream",
     "text": [
      "Global Train Set Loss: 0.2755909646628037\n",
      "Global Train Set Accuracy: 0.9107962548790829\n",
      "Global Train Set FPR: 0.47128068070789125\n",
      "Global Train Set TPR: 0.8332510842553791\n",
      "Global Train Set BER: 0.314014798226256\n",
      "Global Validation Set Loss: 0.14247056579354356\n",
      "Global Validation Set Accuracy: 0.9547552338420229\n",
      "Global Validation Set FPR: 0.17891329500431322\n",
      "Global Validation Set TPR: 0.9066913467295394\n",
      "Global Validation Set BER: 0.09111097413738686\n"
     ]
    },
    {
     "name": "stderr",
     "output_type": "stream",
     "text": [
      " 40%|████      | 10/25 [06:51<10:21, 41.42s/it]"
     ]
    },
    {
     "name": "stdout",
     "output_type": "stream",
     "text": [
      "Global Train Set Loss: 0.2744897994274657\n",
      "Global Train Set Accuracy: 0.9118232042155351\n",
      "Global Train Set FPR: 0.4693568493241044\n",
      "Global Train Set TPR: 0.832497704556795\n",
      "Global Train Set BER: 0.3134295723836548\n",
      "Global Validation Set Loss: 0.1411437806610648\n",
      "Global Validation Set Accuracy: 0.9557974189226749\n",
      "Global Validation Set FPR: 0.17682274959374567\n",
      "Global Validation Set TPR: 0.9067501383933638\n",
      "Global Validation Set BER: 0.0900363056001908\n"
     ]
    },
    {
     "name": "stderr",
     "output_type": "stream",
     "text": [
      " 44%|████▍     | 11/25 [07:32<09:37, 41.28s/it]"
     ]
    },
    {
     "name": "stdout",
     "output_type": "stream",
     "text": [
      "Global Train Set Loss: 0.27428092133812076\n",
      "Global Train Set Accuracy: 0.9122984740723491\n",
      "Global Train Set FPR: 0.46822056109018617\n",
      "Global Train Set TPR: 0.8325820040445205\n",
      "Global Train Set BER: 0.3128192785228328\n",
      "Global Validation Set Loss: 0.14087051006632872\n",
      "Global Validation Set Accuracy: 0.957030439688182\n",
      "Global Validation Set FPR: 0.1756124380781046\n",
      "Global Validation Set TPR: 0.9067616162955631\n",
      "Global Validation Set BER: 0.08942541089127082\n"
     ]
    },
    {
     "name": "stderr",
     "output_type": "stream",
     "text": [
      " 48%|████▊     | 12/25 [08:13<08:56, 41.24s/it]"
     ]
    },
    {
     "name": "stdout",
     "output_type": "stream",
     "text": [
      "Global Train Set Loss: 0.27309092303745136\n",
      "Global Train Set Accuracy: 0.9130815330893906\n",
      "Global Train Set FPR: 0.46685660850343624\n",
      "Global Train Set TPR: 0.8324141823943343\n",
      "Global Train Set BER: 0.3122212130545511\n",
      "Global Validation Set Loss: 0.1395104721546826\n",
      "Global Validation Set Accuracy: 0.9583447865179625\n",
      "Global Validation Set FPR: 0.17302736022910278\n",
      "Global Validation Set TPR: 0.9070462427151047\n",
      "Global Validation Set BER: 0.08799055875699917\n"
     ]
    },
    {
     "name": "stderr",
     "output_type": "stream",
     "text": [
      " 52%|█████▏    | 13/25 [08:54<08:14, 41.24s/it]"
     ]
    },
    {
     "name": "stdout",
     "output_type": "stream",
     "text": [
      "Global Train Set Loss: 0.27252826467815794\n",
      "Global Train Set Accuracy: 0.9138857532164195\n",
      "Global Train Set FPR: 0.465467225982769\n",
      "Global Train Set TPR: 0.8314873623572242\n",
      "Global Train Set BER: 0.3119899318127722\n",
      "Global Validation Set Loss: 0.13875212204330756\n",
      "Global Validation Set Accuracy: 0.9635998132310841\n",
      "Global Validation Set FPR: 0.1673060043380995\n",
      "Global Validation Set TPR: 0.9070825789223754\n",
      "Global Validation Set BER: 0.08511171270786218\n"
     ]
    },
    {
     "name": "stderr",
     "output_type": "stream",
     "text": [
      " 56%|█████▌    | 14/25 [09:34<07:29, 40.87s/it]"
     ]
    },
    {
     "name": "stdout",
     "output_type": "stream",
     "text": [
      "Global Train Set Loss: 0.2725031420438702\n",
      "Global Train Set Accuracy: 0.9142302765002128\n",
      "Global Train Set FPR: 0.46507680795575296\n",
      "Global Train Set TPR: 0.8315466103228323\n",
      "Global Train Set BER: 0.3117650988164604\n",
      "Global Validation Set Loss: 0.13862688561644979\n",
      "Global Validation Set Accuracy: 0.9636196177198957\n",
      "Global Validation Set FPR: 0.16698559302115867\n",
      "Global Validation Set TPR: 0.9070988670760814\n",
      "Global Validation Set BER: 0.08494336297253864\n"
     ]
    },
    {
     "name": "stderr",
     "output_type": "stream",
     "text": [
      " 60%|██████    | 15/25 [10:16<06:50, 41.05s/it]"
     ]
    },
    {
     "name": "stdout",
     "output_type": "stream",
     "text": [
      "Global Train Set Loss: 0.27171095306350024\n",
      "Global Train Set Accuracy: 0.9147297487301514\n",
      "Global Train Set FPR: 0.4639465098187946\n",
      "Global Train Set TPR: 0.8315532636877543\n",
      "Global Train Set BER: 0.31119662306552026\n",
      "Global Validation Set Loss: 0.13782325369053394\n",
      "Global Validation Set Accuracy: 0.9642167594114245\n",
      "Global Validation Set FPR: 0.16645760235085663\n",
      "Global Validation Set TPR: 0.9071043604261934\n",
      "Global Validation Set BER: 0.08467662096233176\n"
     ]
    },
    {
     "name": "stderr",
     "output_type": "stream",
     "text": [
      " 64%|██████▍   | 16/25 [10:58<06:11, 41.24s/it]"
     ]
    },
    {
     "name": "stdout",
     "output_type": "stream",
     "text": [
      "Global Train Set Loss: 0.27161503312250734\n",
      "Global Train Set Accuracy: 0.9149642316001639\n",
      "Global Train Set FPR: 0.46363680318121003\n",
      "Global Train Set TPR: 0.8309216567094907\n",
      "Global Train Set BER: 0.31135757323585983\n",
      "Global Validation Set Loss: 0.1375988665591816\n",
      "Global Validation Set Accuracy: 0.9644411920385817\n",
      "Global Validation Set FPR: 0.1650526440408674\n",
      "Global Validation Set TPR: 0.9071426790638664\n",
      "Global Validation Set BER: 0.08395498248850077\n"
     ]
    },
    {
     "name": "stderr",
     "output_type": "stream",
     "text": [
      " 68%|██████▊   | 17/25 [11:39<05:29, 41.16s/it]"
     ]
    },
    {
     "name": "stdout",
     "output_type": "stream",
     "text": [
      "Global Train Set Loss: 0.2710841416668369\n",
      "Global Train Set Accuracy: 0.9153530231460708\n",
      "Global Train Set FPR: 0.46318946730558\n",
      "Global Train Set TPR: 0.8309475397669249\n",
      "Global Train Set BER: 0.31112096376932746\n",
      "Global Validation Set Loss: 0.13715862047043978\n",
      "Global Validation Set Accuracy: 0.9644212239674943\n",
      "Global Validation Set FPR: 0.15517221154753233\n",
      "Global Validation Set TPR: 0.9071569964475159\n",
      "Global Validation Set BER: 0.07900760755000821\n"
     ]
    },
    {
     "name": "stderr",
     "output_type": "stream",
     "text": [
      " 72%|███████▏  | 18/25 [12:19<04:46, 40.90s/it]"
     ]
    },
    {
     "name": "stdout",
     "output_type": "stream",
     "text": [
      "Global Train Set Loss: 0.27108042137650523\n",
      "Global Train Set Accuracy: 0.9170191068359179\n",
      "Global Train Set FPR: 0.46143721779282026\n",
      "Global Train Set TPR: 0.8310872891977801\n",
      "Global Train Set BER: 0.31017496429752023\n",
      "Global Validation Set Loss: 0.13720044860975347\n",
      "Global Validation Set Accuracy: 0.9645141550969822\n",
      "Global Validation Set FPR: 0.154577763829086\n",
      "Global Validation Set TPR: 0.9071566872162066\n",
      "Global Validation Set BER: 0.07871053830643981\n"
     ]
    },
    {
     "name": "stderr",
     "output_type": "stream",
     "text": [
      " 76%|███████▌  | 19/25 [13:01<04:06, 41.16s/it]"
     ]
    },
    {
     "name": "stdout",
     "output_type": "stream",
     "text": [
      "Global Train Set Loss: 0.27042530902357953\n",
      "Global Train Set Accuracy: 0.9171379500781482\n",
      "Global Train Set FPR: 0.461315964534918\n",
      "Global Train Set TPR: 0.831162294897282\n",
      "Global Train Set BER: 0.3100768348188179\n",
      "Global Validation Set Loss: 0.1366984167810743\n",
      "Global Validation Set Accuracy: 0.9653252104346376\n",
      "Global Validation Set FPR: 0.15325511430179842\n",
      "Global Validation Set TPR: 0.9071677988396948\n",
      "Global Validation Set BER: 0.07804365773105199\n"
     ]
    },
    {
     "name": "stderr",
     "output_type": "stream",
     "text": [
      " 80%|████████  | 20/25 [13:42<03:26, 41.26s/it]"
     ]
    },
    {
     "name": "stdout",
     "output_type": "stream",
     "text": [
      "Global Train Set Loss: 0.27014431284379403\n",
      "Global Train Set Accuracy: 0.9172165570458121\n",
      "Global Train Set FPR: 0.46091409386165444\n",
      "Global Train Set TPR: 0.8313398730255284\n",
      "Global Train Set BER: 0.30978711041806284\n",
      "Global Validation Set Loss: 0.13663736199747128\n",
      "Global Validation Set Accuracy: 0.9653212940638949\n",
      "Global Validation Set FPR: 0.15382410654792808\n",
      "Global Validation Set TPR: 0.9071843110206456\n",
      "Global Validation Set BER: 0.07831989776364154\n"
     ]
    },
    {
     "name": "stderr",
     "output_type": "stream",
     "text": [
      " 84%|████████▍ | 21/25 [14:23<02:44, 41.10s/it]"
     ]
    },
    {
     "name": "stdout",
     "output_type": "stream",
     "text": [
      "Global Train Set Loss: 0.2700989795548234\n",
      "Global Train Set Accuracy: 0.9173808090423475\n",
      "Global Train Set FPR: 0.46068594437111493\n",
      "Global Train Set TPR: 0.8313452486948905\n",
      "Global Train Set BER: 0.309670347838112\n",
      "Global Validation Set Loss: 0.13632270593250906\n",
      "Global Validation Set Accuracy: 0.9654801326965037\n",
      "Global Validation Set FPR: 0.15353005451201607\n",
      "Global Validation Set TPR: 0.9071901175344818\n",
      "Global Validation Set BER: 0.0781699684887673\n"
     ]
    },
    {
     "name": "stderr",
     "output_type": "stream",
     "text": [
      " 88%|████████▊ | 22/25 [15:03<02:02, 40.70s/it]"
     ]
    },
    {
     "name": "stdout",
     "output_type": "stream",
     "text": [
      "Global Train Set Loss: 0.2701341386898728\n",
      "Global Train Set Accuracy: 0.9173349370633455\n",
      "Global Train Set FPR: 0.46071836754795414\n",
      "Global Train Set TPR: 0.8313612317550373\n",
      "Global Train Set BER: 0.30967856789645803\n",
      "Global Validation Set Loss: 0.13653878659620605\n",
      "Global Validation Set Accuracy: 0.9654515782451919\n",
      "Global Validation Set FPR: 0.1537904716153782\n",
      "Global Validation Set TPR: 0.9071898493739066\n",
      "Global Validation Set BER: 0.07830031112073593\n"
     ]
    },
    {
     "name": "stderr",
     "output_type": "stream",
     "text": [
      " 92%|█████████▏| 23/25 [15:43<01:21, 40.52s/it]"
     ]
    },
    {
     "name": "stdout",
     "output_type": "stream",
     "text": [
      "Global Train Set Loss: 0.2698731307750343\n",
      "Global Train Set Accuracy: 0.9174765802523787\n",
      "Global Train Set FPR: 0.46057171784117\n",
      "Global Train Set TPR: 0.8313701948377787\n",
      "Global Train Set BER: 0.30960076150169547\n",
      "Global Validation Set Loss: 0.1360894244675942\n",
      "Global Validation Set Accuracy: 0.9655199079116893\n",
      "Global Validation Set FPR: 0.15351055997263147\n",
      "Global Validation Set TPR: 0.9072288487420355\n",
      "Global Validation Set BER: 0.07814085561529821\n"
     ]
    },
    {
     "name": "stderr",
     "output_type": "stream",
     "text": [
      " 96%|█████████▌| 24/25 [16:23<00:40, 40.37s/it]"
     ]
    },
    {
     "name": "stdout",
     "output_type": "stream",
     "text": [
      "Global Train Set Loss: 0.2695671130087738\n",
      "Global Train Set Accuracy: 0.9171365041632137\n",
      "Global Train Set FPR: 0.4605950282537839\n",
      "Global Train Set TPR: 0.8279835615213393\n",
      "Global Train Set BER: 0.31130573336622236\n",
      "Global Validation Set Loss: 0.13573431949817677\n",
      "Global Validation Set Accuracy: 0.9656930586367203\n",
      "Global Validation Set FPR: 0.15246560498089287\n",
      "Global Validation Set TPR: 0.9072335421656093\n",
      "Global Validation Set BER: 0.07761603140764191\n"
     ]
    },
    {
     "name": "stderr",
     "output_type": "stream",
     "text": [
      "  0%|          | 0/25 [00:00<?, ?it/s]         "
     ]
    },
    {
     "name": "stdout",
     "output_type": "stream",
     "text": [
      "Global Train Set Loss: 0.2691223174125145\n",
      "Global Train Set Accuracy: 0.9171483345249776\n",
      "Global Train Set FPR: 0.460502339819925\n",
      "Global Train Set TPR: 0.8281471421072323\n",
      "Global Train Set BER: 0.31117759885634655\n",
      "Global Validation Set Loss: 0.1352994129072618\n",
      "Global Validation Set Accuracy: 0.9662335754345753\n",
      "Global Validation Set FPR: 0.1515168935718104\n",
      "Global Validation Set TPR: 0.9072362405745185\n",
      "Global Validation Set BER: 0.07714032649864602\n"
     ]
    }
   ],
   "source": [
    "# Record training results\n",
    "record_global_train_measures = [None] * num_rounds\n",
    "record_global_val_measures = [None] * num_rounds\n",
    "\n",
    "pbar = tqdm(total=num_rounds)\n",
    "# Perform num_rounds rounds of training\n",
    "for idx in range(num_rounds):\n",
    "    model_weights_list = []\n",
    "    client_n_samples_list = {}\n",
    "    all_client_train_measures = { 'accuracy': {}, 'fpr': {}, 'tpr': {}, 'ber': {}, 'loss': {} }\n",
    "    all_client_val_measures = { 'accuracy': {}, 'fpr': {}, 'tpr': {}, 'ber': {}, 'loss': {} }\n",
    "    \n",
    "    for client in clients:\n",
    "        # Client receives new global model\n",
    "        client.receive_global_model(global_model)\n",
    "\n",
    "        # The client trains the model locally\n",
    "        client_model_parameters, client_measures, client_n_samples = client.local_fit_and_upload_parameters()\n",
    "        client_n_samples_list[client.id] = client_n_samples\n",
    "        model_weights_list.append(client_model_parameters)\n",
    "        for key in all_client_train_measures:\n",
    "            all_client_train_measures[key][client.id] = (client_measures['train'][key])\n",
    "            all_client_val_measures[key][client.id] = (client_measures['val'][key])\n",
    "\n",
    "    global_train_measures, global_val_measures = calculate_global_measures(clients,\n",
    "                                                                           all_client_train_measures,\n",
    "                                                                           all_client_val_measures,\n",
    "                                                                           display_result=True)\n",
    "    record_global_train_measures[idx] = global_train_measures\n",
    "    record_global_val_measures[idx] = global_val_measures\n",
    "\n",
    "    pbar.update(1)\n",
    "\n",
    "    # Aggregate new global model\n",
    "    global_model.set_parameters(aggregate_weights(model_weights_list, client_n_samples_list))\n",
    "    \n",
    "pbar.reset()"
   ],
   "metadata": {
    "collapsed": false,
    "ExecuteTime": {
     "end_time": "2023-10-23T06:51:19.624591Z",
     "start_time": "2023-10-23T06:34:15.314811Z"
    }
   }
  },
  {
   "cell_type": "markdown",
   "source": [
    "Save experiment results"
   ],
   "metadata": {
    "collapsed": false
   }
  },
  {
   "cell_type": "code",
   "execution_count": 9,
   "outputs": [
    {
     "name": "stdout",
     "output_type": "stream",
     "text": [
      "Saved measures to Experimental_results/FedTrust/train_measures_n-baiot.csv\n",
      "Saved measures to Experimental_results/FedTrust/val_measures_n-baiot.csv\n"
     ]
    }
   ],
   "source": [
    "save_global_measure(record_global_train_measures, \"train_measures_\"+dataset_name+\".csv\", \"FedTrust\")\n",
    "save_global_measure(record_global_val_measures, \"val_measures_\"+dataset_name+\".csv\", \"FedTrust\")"
   ],
   "metadata": {
    "collapsed": false,
    "ExecuteTime": {
     "end_time": "2023-10-23T06:51:19.629172Z",
     "start_time": "2023-10-23T06:51:19.624212Z"
    }
   }
  },
  {
   "cell_type": "markdown",
   "source": [
    "Test the performance of the model on the unseen test set"
   ],
   "metadata": {
    "collapsed": false
   }
  },
  {
   "cell_type": "code",
   "execution_count": 10,
   "outputs": [
    {
     "name": "stdout",
     "output_type": "stream",
     "text": [
      "Global Test Set Loss: 0.0992762065479118\n",
      "Global Test Set Accuracy: 0.9822230937664373\n",
      "Global Test Set FPR: 0.18820480251049926\n",
      "Global Test Set TPR: 0.9887116955918488\n",
      "Global Test Set BER: 0.09441157017008425\n"
     ]
    }
   ],
   "source": [
    "all_client_measures = {\n",
    "    'accuracy': [],\n",
    "    'fpr': [],\n",
    "    'tpr': [],\n",
    "    'ber': [],\n",
    "    'loss': []\n",
    "}\n",
    "client_n_samples_list = {}\n",
    "for client in clients:\n",
    "    client.receive_global_model(global_model)\n",
    "    client_measures, client_n_samples = client.evaluate_test_set()\n",
    "    client_n_samples_list[client.id] = client_n_samples\n",
    "\n",
    "    for key in all_client_measures:\n",
    "        all_client_measures[key].append(client_measures[key])\n",
    "\n",
    "global_measures = {}\n",
    "for key in all_client_measures:\n",
    "    global_measures[key] = sum([all_client_measures[key][c.id] * client_n_samples_list[c.id] for c in clients]) / sum(client_n_samples_list.values())\n",
    "\n",
    "print(\"Global Test Set Loss:\", global_measures['loss'])\n",
    "print(\"Global Test Set Accuracy:\", global_measures['accuracy'])\n",
    "print(\"Global Test Set FPR:\", global_measures['fpr'])\n",
    "print(\"Global Test Set TPR:\", global_measures['tpr'])\n",
    "print(\"Global Test Set BER:\", global_measures['ber'])"
   ],
   "metadata": {
    "collapsed": false,
    "ExecuteTime": {
     "end_time": "2023-10-23T06:51:21.875065Z",
     "start_time": "2023-10-23T06:51:19.631346Z"
    }
   }
  }
 ],
 "metadata": {
  "kernelspec": {
   "display_name": "Python 3",
   "language": "python",
   "name": "python3"
  },
  "language_info": {
   "codemirror_mode": {
    "name": "ipython",
    "version": 2
   },
   "file_extension": ".py",
   "mimetype": "text/x-python",
   "name": "python",
   "nbconvert_exporter": "python",
   "pygments_lexer": "ipython2",
   "version": "2.7.6"
  }
 },
 "nbformat": 4,
 "nbformat_minor": 0
}
