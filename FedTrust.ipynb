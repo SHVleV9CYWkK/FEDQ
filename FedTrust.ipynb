{
 "cells": [
  {
   "cell_type": "markdown",
   "source": [
    "Import the necessary dependent libraries"
   ],
   "metadata": {
    "collapsed": false
   }
  },
  {
   "cell_type": "code",
   "execution_count": 1,
   "outputs": [],
   "source": [
    "import os\n",
    "from module import MLPModule\n",
    "from utils import aggregate_weights, save_global_measure, load_client_data, calculate_global_measures\n",
    "from tqdm import tqdm\n",
    "import torch\n",
    "from client import Client"
   ],
   "metadata": {
    "collapsed": false,
    "ExecuteTime": {
     "end_time": "2023-10-26T00:59:35.899727Z",
     "start_time": "2023-10-26T00:59:34.584966Z"
    }
   }
  },
  {
   "cell_type": "markdown",
   "source": [
    "Set the necessary parameters and hyperparameters for the experiment and model"
   ],
   "metadata": {
    "collapsed": false
   }
  },
  {
   "cell_type": "code",
   "execution_count": 2,
   "outputs": [],
   "source": [
    "seed = 54\n",
    "dataset_name = \"unsw-nb15\"\n",
    "num_rounds = 25\n",
    "input_dim = 0\n",
    "\n",
    "if torch.cuda.is_available():\n",
    "    device = torch.device(\"cuda\")\n",
    "# elif torch.backends.mps.is_available():\n",
    "#     device = torch.device(\"mps:0\")\n",
    "else:\n",
    "    device = torch.device(\"cpu\")\n",
    "\n",
    "hyperparameters = {\n",
    "    'input_dim': input_dim,\n",
    "    'lr': 0.001,\n",
    "    'hidden_neurons_num': 512,\n",
    "    'batch_size': 128,\n",
    "    'seed': seed,\n",
    "    'device': device\n",
    "}"
   ],
   "metadata": {
    "collapsed": false,
    "ExecuteTime": {
     "end_time": "2023-10-26T00:59:35.900059Z",
     "start_time": "2023-10-26T00:59:35.890226Z"
    }
   }
  },
  {
   "cell_type": "raw",
   "source": [
    "Get all client data"
   ],
   "metadata": {
    "collapsed": false
   }
  },
  {
   "cell_type": "code",
   "execution_count": 3,
   "metadata": {
    "collapsed": true,
    "ExecuteTime": {
     "end_time": "2023-10-26T00:59:40.001008Z",
     "start_time": "2023-10-26T00:59:35.892711Z"
    }
   },
   "outputs": [],
   "source": [
    "client_data_list = load_client_data(os.path.join(dataset_name, \"split\"), device)"
   ]
  },
  {
   "cell_type": "code",
   "execution_count": 4,
   "outputs": [],
   "source": [
    "def process_client_data(data_list, keep_columns):\n",
    "    processed_data_list = []\n",
    "\n",
    "    for client_data in data_list:\n",
    "        X_train, Y_train = client_data[0]\n",
    "        processed_X_train = X_train[:, keep_columns]\n",
    "        processed_train = (processed_X_train, Y_train)\n",
    "\n",
    "        X_val, Y_val = client_data[1]\n",
    "        processed_X_val = X_val[:, keep_columns]\n",
    "        processed_val = (processed_X_val, Y_val)\n",
    "\n",
    "        X_test, Y_test = client_data[2]\n",
    "        processed_X_test = X_test[:, keep_columns]\n",
    "        processed_test = (processed_X_test, Y_test)\n",
    "\n",
    "        processed_client_data = (processed_train, processed_val, processed_test)\n",
    "        processed_data_list.append(processed_client_data)\n",
    "\n",
    "    return processed_data_list"
   ],
   "metadata": {
    "collapsed": false,
    "ExecuteTime": {
     "end_time": "2023-10-26T00:59:40.006860Z",
     "start_time": "2023-10-26T00:59:40.002174Z"
    }
   }
  },
  {
   "cell_type": "code",
   "execution_count": 5,
   "outputs": [],
   "source": [
    "columns_to_keep = [0, 2, 4, 6, 7, 8, 11, 12, 13, 14, 15, 16, 17, 28, 29, 38, 39]\n",
    "if dataset_name == \"n-baiot\":\n",
    "    columns_to_keep = [0, 3, 6, 30, 37, 44, 31, 38, 45, 32, 39, 46, 60, 63, 66, 75, 82, 89, 76, 83, 90]\n",
    "client_data_list = process_client_data(client_data_list, columns_to_keep)\n",
    "hyperparameters['input_dim'] = len(columns_to_keep)"
   ],
   "metadata": {
    "collapsed": false,
    "ExecuteTime": {
     "end_time": "2023-10-26T00:59:40.059288Z",
     "start_time": "2023-10-26T00:59:40.006680Z"
    }
   }
  },
  {
   "cell_type": "markdown",
   "source": [
    "Generate clients"
   ],
   "metadata": {
    "collapsed": false
   }
  },
  {
   "cell_type": "code",
   "execution_count": 6,
   "outputs": [],
   "source": [
    "def create_clients(client_data, hyperparameter):\n",
    "    client_list = []\n",
    "    for i, (train_set, test_set, val_set) in enumerate(client_data):\n",
    "        c = Client(\n",
    "            id=i,\n",
    "            hyperparameters=hyperparameter,\n",
    "            train_set=train_set,\n",
    "            test_set=test_set,\n",
    "            val_set=val_set\n",
    "        )\n",
    "        client_list.append(c)\n",
    "    return client_list\n",
    "clients = create_clients(client_data_list, hyperparameters)"
   ],
   "metadata": {
    "collapsed": false,
    "ExecuteTime": {
     "end_time": "2023-10-26T00:59:40.089372Z",
     "start_time": "2023-10-26T00:59:40.060694Z"
    }
   }
  },
  {
   "cell_type": "markdown",
   "source": [
    "FedAvg training process"
   ],
   "metadata": {
    "collapsed": false
   }
  },
  {
   "cell_type": "code",
   "execution_count": 7,
   "outputs": [],
   "source": [
    "# Initialize model\n",
    "global_model = MLPModule(hyperparameters)\n",
    "\n",
    "# Pre-trained\n",
    "model_weights_list = []\n",
    "client_n_samples_list = {}\n",
    "for client in clients:\n",
    "    client.receive_global_model(global_model)\n",
    "    client_model_parameters, client_measures, client_n_samples = client.local_fit_and_upload_parameters()\n",
    "    client_n_samples_list[client.id] = client_n_samples\n",
    "    model_weights_list.append(client_model_parameters)\n",
    "    \n",
    "global_model.set_parameters(aggregate_weights(model_weights_list, client_n_samples_list))"
   ],
   "metadata": {
    "collapsed": false,
    "ExecuteTime": {
     "end_time": "2023-10-26T00:59:53.280785Z",
     "start_time": "2023-10-26T00:59:40.089062Z"
    }
   }
  },
  {
   "cell_type": "code",
   "execution_count": 8,
   "outputs": [
    {
     "name": "stderr",
     "output_type": "stream",
     "text": [
      "  4%|▍         | 1/25 [00:13<05:28, 13.70s/it]"
     ]
    },
    {
     "name": "stdout",
     "output_type": "stream",
     "text": [
      "Global Train Set Loss: 0.3996258521731434\n",
      "Global Train Set Accuracy: 0.8272163144367685\n",
      "Global Train Set FPR: 0.14281994768518083\n",
      "Global Train Set TPR: 0.27600130164572706\n",
      "Global Train Set BER: 0.4284093230197268\n",
      "Global Validation Set Loss: 0.3157757683821993\n",
      "Global Validation Set Accuracy: 0.8580285725913508\n",
      "Global Validation Set FPR: 0.04747662970694575\n",
      "Global Validation Set TPR: 0.30399923825843767\n",
      "Global Validation Set BER: 0.2617386957242541\n"
     ]
    },
    {
     "name": "stderr",
     "output_type": "stream",
     "text": [
      "  8%|▊         | 2/25 [00:27<05:14, 13.67s/it]"
     ]
    },
    {
     "name": "stdout",
     "output_type": "stream",
     "text": [
      "Global Train Set Loss: 0.36509207318031534\n",
      "Global Train Set Accuracy: 0.8330123014877523\n",
      "Global Train Set FPR: 0.1444068370324117\n",
      "Global Train Set TPR: 0.3031451460711775\n",
      "Global Train Set BER: 0.41563084548061724\n",
      "Global Validation Set Loss: 0.27932165986643365\n",
      "Global Validation Set Accuracy: 0.8644856985398723\n",
      "Global Validation Set FPR: 0.038813899221871624\n",
      "Global Validation Set TPR: 0.339988874192472\n",
      "Global Validation Set BER: 0.23941251251469986\n"
     ]
    },
    {
     "name": "stderr",
     "output_type": "stream",
     "text": [
      " 12%|█▏        | 3/25 [00:41<05:01, 13.72s/it]"
     ]
    },
    {
     "name": "stdout",
     "output_type": "stream",
     "text": [
      "Global Train Set Loss: 0.3584143579023467\n",
      "Global Train Set Accuracy: 0.8540228607528628\n",
      "Global Train Set FPR: 0.14527350993406332\n",
      "Global Train Set TPR: 0.3430147642894148\n",
      "Global Train Set BER: 0.3961293728223241\n",
      "Global Validation Set Loss: 0.2735769113579475\n",
      "Global Validation Set Accuracy: 0.8812678562202569\n",
      "Global Validation Set FPR: 0.034591573418789545\n",
      "Global Validation Set TPR: 0.3774758846045562\n",
      "Global Validation Set BER: 0.2185578444071166\n"
     ]
    },
    {
     "name": "stderr",
     "output_type": "stream",
     "text": [
      " 16%|█▌        | 4/25 [00:54<04:49, 13.78s/it]"
     ]
    },
    {
     "name": "stdout",
     "output_type": "stream",
     "text": [
      "Global Train Set Loss: 0.3565718728965069\n",
      "Global Train Set Accuracy: 0.8641044473079205\n",
      "Global Train Set FPR: 0.14638718507440301\n",
      "Global Train Set TPR: 0.3617194055281835\n",
      "Global Train Set BER: 0.38733388977310973\n",
      "Global Validation Set Loss: 0.2723357422169368\n",
      "Global Validation Set Accuracy: 0.8955631141126845\n",
      "Global Validation Set FPR: 0.03294604599531307\n",
      "Global Validation Set TPR: 0.40396972471186887\n",
      "Global Validation Set BER: 0.2044881606417221\n"
     ]
    },
    {
     "name": "stderr",
     "output_type": "stream",
     "text": [
      " 20%|██        | 5/25 [01:08<04:35, 13.79s/it]"
     ]
    },
    {
     "name": "stdout",
     "output_type": "stream",
     "text": [
      "Global Train Set Loss: 0.355455017293341\n",
      "Global Train Set Accuracy: 0.8664338258243519\n",
      "Global Train Set FPR: 0.14522848948570155\n",
      "Global Train Set TPR: 0.3670972588903216\n",
      "Global Train Set BER: 0.38406561529768984\n",
      "Global Validation Set Loss: 0.27159518471326033\n",
      "Global Validation Set Accuracy: 0.8985898391255941\n",
      "Global Validation Set FPR: 0.03155008006640576\n",
      "Global Validation Set TPR: 0.410647628360258\n",
      "Global Validation Set BER: 0.2004512258530739\n"
     ]
    },
    {
     "name": "stderr",
     "output_type": "stream",
     "text": [
      " 24%|██▍       | 6/25 [01:22<04:22, 13.83s/it]"
     ]
    },
    {
     "name": "stdout",
     "output_type": "stream",
     "text": [
      "Global Train Set Loss: 0.35471136969827993\n",
      "Global Train Set Accuracy: 0.866895166384828\n",
      "Global Train Set FPR: 0.1444319856492493\n",
      "Global Train Set TPR: 0.3729405964615782\n",
      "Global Train Set BER: 0.38074569459383534\n",
      "Global Validation Set Loss: 0.2708706025207707\n",
      "Global Validation Set Accuracy: 0.898749047593112\n",
      "Global Validation Set FPR: 0.03001577204223672\n",
      "Global Validation Set TPR: 0.4164058711166959\n",
      "Global Validation Set BER: 0.19680495046277044\n"
     ]
    },
    {
     "name": "stderr",
     "output_type": "stream",
     "text": [
      " 28%|██▊       | 7/25 [01:36<04:10, 13.90s/it]"
     ]
    },
    {
     "name": "stdout",
     "output_type": "stream",
     "text": [
      "Global Train Set Loss: 0.3528543787873918\n",
      "Global Train Set Accuracy: 0.868184114868398\n",
      "Global Train Set FPR: 0.14374137892010275\n",
      "Global Train Set TPR: 0.37904672833598246\n",
      "Global Train Set BER: 0.37734732529206\n",
      "Global Validation Set Loss: 0.2689472590271431\n",
      "Global Validation Set Accuracy: 0.8997275718497169\n",
      "Global Validation Set FPR: 0.030422496177538876\n",
      "Global Validation Set TPR: 0.4275418337175198\n",
      "Global Validation Set BER: 0.1914403312300096\n"
     ]
    },
    {
     "name": "stderr",
     "output_type": "stream",
     "text": [
      " 32%|███▏      | 8/25 [01:50<03:55, 13.88s/it]"
     ]
    },
    {
     "name": "stdout",
     "output_type": "stream",
     "text": [
      "Global Train Set Loss: 0.35184663568241936\n",
      "Global Train Set Accuracy: 0.8704295883499418\n",
      "Global Train Set FPR: 0.14337029588831818\n",
      "Global Train Set TPR: 0.3854535170631123\n",
      "Global Train Set BER: 0.3739583894126028\n",
      "Global Validation Set Loss: 0.2681979379274411\n",
      "Global Validation Set Accuracy: 0.9019999776466199\n",
      "Global Validation Set FPR: 0.029667527339643646\n",
      "Global Validation Set TPR: 0.43442242370931267\n",
      "Global Validation Set BER: 0.18762255181516554\n"
     ]
    },
    {
     "name": "stderr",
     "output_type": "stream",
     "text": [
      " 36%|███▌      | 9/25 [02:04<03:41, 13.82s/it]"
     ]
    },
    {
     "name": "stdout",
     "output_type": "stream",
     "text": [
      "Global Train Set Loss: 0.35026905077880405\n",
      "Global Train Set Accuracy: 0.8712897726556126\n",
      "Global Train Set FPR: 0.14225394277600728\n",
      "Global Train Set TPR: 0.3883504974658378\n",
      "Global Train Set BER: 0.37195172265508475\n",
      "Global Validation Set Loss: 0.26676039757687275\n",
      "Global Validation Set Accuracy: 0.9025244410877191\n",
      "Global Validation Set FPR: 0.024073755920077114\n",
      "Global Validation Set TPR: 0.43811836252826225\n",
      "Global Validation Set BER: 0.1829776966959075\n"
     ]
    },
    {
     "name": "stderr",
     "output_type": "stream",
     "text": [
      " 40%|████      | 10/25 [02:18<03:27, 13.86s/it]"
     ]
    },
    {
     "name": "stdout",
     "output_type": "stream",
     "text": [
      "Global Train Set Loss: 0.3481804911333083\n",
      "Global Train Set Accuracy: 0.8721036445848115\n",
      "Global Train Set FPR: 0.1410847746326042\n",
      "Global Train Set TPR: 0.39067817266436544\n",
      "Global Train Set BER: 0.3702033009841192\n",
      "Global Validation Set Loss: 0.26474568352293715\n",
      "Global Validation Set Accuracy: 0.904501213237712\n",
      "Global Validation Set FPR: 0.021342421949902504\n",
      "Global Validation Set TPR: 0.4426863704189137\n",
      "Global Validation Set BER: 0.17932802576549445\n"
     ]
    },
    {
     "name": "stderr",
     "output_type": "stream",
     "text": [
      " 44%|████▍     | 11/25 [02:32<03:14, 13.91s/it]"
     ]
    },
    {
     "name": "stdout",
     "output_type": "stream",
     "text": [
      "Global Train Set Loss: 0.3469085130678567\n",
      "Global Train Set Accuracy: 0.8723260724168982\n",
      "Global Train Set FPR: 0.1412896750743188\n",
      "Global Train Set TPR: 0.39219377879130446\n",
      "Global Train Set BER: 0.36954794814150693\n",
      "Global Validation Set Loss: 0.26363401477471626\n",
      "Global Validation Set Accuracy: 0.9066096095574298\n",
      "Global Validation Set FPR: 0.019759044669404802\n",
      "Global Validation Set TPR: 0.4465594422440041\n",
      "Global Validation Set BER: 0.17659980121270027\n"
     ]
    },
    {
     "name": "stderr",
     "output_type": "stream",
     "text": [
      " 48%|████▊     | 12/25 [02:46<03:01, 14.00s/it]"
     ]
    },
    {
     "name": "stdout",
     "output_type": "stream",
     "text": [
      "Global Train Set Loss: 0.3451123958722555\n",
      "Global Train Set Accuracy: 0.8732955319895539\n",
      "Global Train Set FPR: 0.14129778999111475\n",
      "Global Train Set TPR: 0.39639461818437466\n",
      "Global Train Set BER: 0.3674515859033699\n",
      "Global Validation Set Loss: 0.26207196706733676\n",
      "Global Validation Set Accuracy: 0.9072126036320414\n",
      "Global Validation Set FPR: 0.019591968562025993\n",
      "Global Validation Set TPR: 0.4515922245588019\n",
      "Global Validation Set BER: 0.17399987200161207\n"
     ]
    },
    {
     "name": "stderr",
     "output_type": "stream",
     "text": [
      " 52%|█████▏    | 13/25 [03:00<02:46, 13.91s/it]"
     ]
    },
    {
     "name": "stdout",
     "output_type": "stream",
     "text": [
      "Global Train Set Loss: 0.34519435937435006\n",
      "Global Train Set Accuracy: 0.8732856518643599\n",
      "Global Train Set FPR: 0.14135628453542384\n",
      "Global Train Set TPR: 0.39804755554231763\n",
      "Global Train Set BER: 0.366654364496553\n",
      "Global Validation Set Loss: 0.2626184726376094\n",
      "Global Validation Set Accuracy: 0.9075222970692868\n",
      "Global Validation Set FPR: 0.018812103345744558\n",
      "Global Validation Set TPR: 0.45364920985693025\n",
      "Global Validation Set BER: 0.17258144674440723\n"
     ]
    },
    {
     "name": "stderr",
     "output_type": "stream",
     "text": [
      " 56%|█████▌    | 14/25 [03:13<02:32, 13.88s/it]"
     ]
    },
    {
     "name": "stdout",
     "output_type": "stream",
     "text": [
      "Global Train Set Loss: 0.3451436154485319\n",
      "Global Train Set Accuracy: 0.874570616546074\n",
      "Global Train Set FPR: 0.14276926279639307\n",
      "Global Train Set TPR: 0.4016242001102843\n",
      "Global Train Set BER: 0.3655725313430544\n",
      "Global Validation Set Loss: 0.2632784629011662\n",
      "Global Validation Set Accuracy: 0.9075356889508177\n",
      "Global Validation Set FPR: 0.02085921080488018\n",
      "Global Validation Set TPR: 0.4585114254953229\n",
      "Global Validation Set BER: 0.17117389265477875\n"
     ]
    },
    {
     "name": "stderr",
     "output_type": "stream",
     "text": [
      " 60%|██████    | 15/25 [03:27<02:18, 13.86s/it]"
     ]
    },
    {
     "name": "stdout",
     "output_type": "stream",
     "text": [
      "Global Train Set Loss: 0.3445456147810323\n",
      "Global Train Set Accuracy: 0.8749936289493497\n",
      "Global Train Set FPR: 0.14476300029343528\n",
      "Global Train Set TPR: 0.4020697350592347\n",
      "Global Train Set BER: 0.3663466326171001\n",
      "Global Validation Set Loss: 0.2630189762015497\n",
      "Global Validation Set Accuracy: 0.9080541827938637\n",
      "Global Validation Set FPR: 0.0205428537058491\n",
      "Global Validation Set TPR: 0.4592461844486531\n",
      "Global Validation Set BER: 0.170648334628598\n"
     ]
    },
    {
     "name": "stderr",
     "output_type": "stream",
     "text": [
      " 64%|██████▍   | 16/25 [03:41<02:04, 13.84s/it]"
     ]
    },
    {
     "name": "stdout",
     "output_type": "stream",
     "text": [
      "Global Train Set Loss: 0.34391475925916\n",
      "Global Train Set Accuracy: 0.8760008846609401\n",
      "Global Train Set FPR: 0.1454235236071825\n",
      "Global Train Set TPR: 0.40376406115722113\n",
      "Global Train Set BER: 0.3658297312249805\n",
      "Global Validation Set Loss: 0.26252860271231676\n",
      "Global Validation Set Accuracy: 0.9095445757690412\n",
      "Global Validation Set FPR: 0.019968881413770068\n",
      "Global Validation Set TPR: 0.46128583323625505\n",
      "Global Validation Set BER: 0.1693415240887576\n"
     ]
    },
    {
     "name": "stderr",
     "output_type": "stream",
     "text": [
      " 68%|██████▊   | 17/25 [03:55<01:50, 13.85s/it]"
     ]
    },
    {
     "name": "stdout",
     "output_type": "stream",
     "text": [
      "Global Train Set Loss: 0.3433742316802145\n",
      "Global Train Set Accuracy: 0.8765145003380368\n",
      "Global Train Set FPR: 0.14548763748872043\n",
      "Global Train Set TPR: 0.40490606535701595\n",
      "Global Train Set BER: 0.36529078606585214\n",
      "Global Validation Set Loss: 0.2622500265254577\n",
      "Global Validation Set Accuracy: 0.9088905951479014\n",
      "Global Validation Set FPR: 0.02103606207728073\n",
      "Global Validation Set TPR: 0.46237662132511625\n",
      "Global Validation Set BER: 0.1693297203760823\n"
     ]
    },
    {
     "name": "stderr",
     "output_type": "stream",
     "text": [
      " 72%|███████▏  | 18/25 [04:09<01:37, 13.90s/it]"
     ]
    },
    {
     "name": "stdout",
     "output_type": "stream",
     "text": [
      "Global Train Set Loss: 0.3427445206136596\n",
      "Global Train Set Accuracy: 0.8768814863678053\n",
      "Global Train Set FPR: 0.14557163651647181\n",
      "Global Train Set TPR: 0.40538495489964044\n",
      "Global Train Set BER: 0.3650933408084157\n",
      "Global Validation Set Loss: 0.26193187900917053\n",
      "Global Validation Set Accuracy: 0.910211645639263\n",
      "Global Validation Set FPR: 0.020440648856764155\n",
      "Global Validation Set TPR: 0.4623435841453851\n",
      "Global Validation Set BER: 0.16904853235568956\n"
     ]
    },
    {
     "name": "stderr",
     "output_type": "stream",
     "text": [
      " 76%|███████▌  | 19/25 [04:23<01:23, 13.91s/it]"
     ]
    },
    {
     "name": "stdout",
     "output_type": "stream",
     "text": [
      "Global Train Set Loss: 0.34260110843833125\n",
      "Global Train Set Accuracy: 0.877426988151861\n",
      "Global Train Set FPR: 0.14694852022501032\n",
      "Global Train Set TPR: 0.4063869432502837\n",
      "Global Train Set BER: 0.36528078848736323\n",
      "Global Validation Set Loss: 0.2619323796099431\n",
      "Global Validation Set Accuracy: 0.9110725819514678\n",
      "Global Validation Set FPR: 0.02129784642755061\n",
      "Global Validation Set TPR: 0.46407532138143437\n",
      "Global Validation Set BER: 0.16861126252305814\n"
     ]
    },
    {
     "name": "stderr",
     "output_type": "stream",
     "text": [
      " 80%|████████  | 20/25 [04:37<01:09, 13.90s/it]"
     ]
    },
    {
     "name": "stdout",
     "output_type": "stream",
     "text": [
      "Global Train Set Loss: 0.3422664137691374\n",
      "Global Train Set Accuracy: 0.8800362367133836\n",
      "Global Train Set FPR: 0.14923051103812512\n",
      "Global Train Set TPR: 0.40944589537877946\n",
      "Global Train Set BER: 0.36489230782967286\n",
      "Global Validation Set Loss: 0.26200408476798853\n",
      "Global Validation Set Accuracy: 0.9131129243985862\n",
      "Global Validation Set FPR: 0.02102107346927878\n",
      "Global Validation Set TPR: 0.4670672836769781\n",
      "Global Validation Set BER: 0.16697689489615036\n"
     ]
    },
    {
     "name": "stderr",
     "output_type": "stream",
     "text": [
      " 84%|████████▍ | 21/25 [04:51<00:55, 13.93s/it]"
     ]
    },
    {
     "name": "stdout",
     "output_type": "stream",
     "text": [
      "Global Train Set Loss: 0.3415279732600976\n",
      "Global Train Set Accuracy: 0.8836433064240521\n",
      "Global Train Set FPR: 0.14995746047395742\n",
      "Global Train Set TPR: 0.41444808666084737\n",
      "Global Train Set BER: 0.36275468690655494\n",
      "Global Validation Set Loss: 0.2615400540923727\n",
      "Global Validation Set Accuracy: 0.9192074108917971\n",
      "Global Validation Set FPR: 0.01878414108343836\n",
      "Global Validation Set TPR: 0.4740830068722498\n",
      "Global Validation Set BER: 0.16235056710559426\n"
     ]
    },
    {
     "name": "stderr",
     "output_type": "stream",
     "text": [
      " 88%|████████▊ | 22/25 [05:04<00:41, 13.82s/it]"
     ]
    },
    {
     "name": "stdout",
     "output_type": "stream",
     "text": [
      "Global Train Set Loss: 0.34104539678786394\n",
      "Global Train Set Accuracy: 0.8865865913206855\n",
      "Global Train Set FPR: 0.1497449036657989\n",
      "Global Train Set TPR: 0.4196952658230924\n",
      "Global Train Set BER: 0.3600248189213533\n",
      "Global Validation Set Loss: 0.2611410736880343\n",
      "Global Validation Set Accuracy: 0.9228960925201167\n",
      "Global Validation Set FPR: 0.0193729469326493\n",
      "Global Validation Set TPR: 0.4805938059070441\n",
      "Global Validation Set BER: 0.15938957051280256\n"
     ]
    },
    {
     "name": "stderr",
     "output_type": "stream",
     "text": [
      " 92%|█████████▏| 23/25 [05:18<00:27, 13.84s/it]"
     ]
    },
    {
     "name": "stdout",
     "output_type": "stream",
     "text": [
      "Global Train Set Loss: 0.34012716344220684\n",
      "Global Train Set Accuracy: 0.8871990456900265\n",
      "Global Train Set FPR: 0.15012579568720216\n",
      "Global Train Set TPR: 0.42040663345124946\n",
      "Global Train Set BER: 0.3598595811179763\n",
      "Global Validation Set Loss: 0.2605209383747952\n",
      "Global Validation Set Accuracy: 0.9240548824570419\n",
      "Global Validation Set FPR: 0.018608957473854933\n",
      "Global Validation Set TPR: 0.4825370801087508\n",
      "Global Validation Set BER: 0.1580359386825521\n"
     ]
    },
    {
     "name": "stderr",
     "output_type": "stream",
     "text": [
      " 96%|█████████▌| 24/25 [05:32<00:13, 13.82s/it]"
     ]
    },
    {
     "name": "stdout",
     "output_type": "stream",
     "text": [
      "Global Train Set Loss: 0.3402873408680388\n",
      "Global Train Set Accuracy: 0.8874314246447468\n",
      "Global Train Set FPR: 0.14987928359858077\n",
      "Global Train Set TPR: 0.42094682030447444\n",
      "Global Train Set BER: 0.35946623164705316\n",
      "Global Validation Set Loss: 0.26102198483165673\n",
      "Global Validation Set Accuracy: 0.924381495381253\n",
      "Global Validation Set FPR: 0.01806519511000287\n",
      "Global Validation Set TPR: 0.483421479676337\n",
      "Global Validation Set BER: 0.15732185771683282\n"
     ]
    },
    {
     "name": "stderr",
     "output_type": "stream",
     "text": [
      "  0%|          | 0/25 [00:00<?, ?it/s]         "
     ]
    },
    {
     "name": "stdout",
     "output_type": "stream",
     "text": [
      "Global Train Set Loss: 0.33977771320310024\n",
      "Global Train Set Accuracy: 0.8874850994785081\n",
      "Global Train Set FPR: 0.14973713966641602\n",
      "Global Train Set TPR: 0.4214193657947861\n",
      "Global Train Set BER: 0.359158886935815\n",
      "Global Validation Set Loss: 0.2609236231286386\n",
      "Global Validation Set Accuracy: 0.9248847779664762\n",
      "Global Validation Set FPR: 0.017204335625303328\n",
      "Global Validation Set TPR: 0.4853973071959786\n",
      "Global Validation Set BER: 0.15590351421466228\n"
     ]
    }
   ],
   "source": [
    "# Record training results\n",
    "record_global_train_measures = [None] * num_rounds\n",
    "record_global_val_measures = [None] * num_rounds\n",
    "\n",
    "pbar = tqdm(total=num_rounds)\n",
    "# Perform num_rounds rounds of training\n",
    "for idx in range(num_rounds):\n",
    "    model_weights_list = []\n",
    "    client_n_samples_list = {}\n",
    "    all_client_train_measures = { 'accuracy': {}, 'fpr': {}, 'tpr': {}, 'ber': {}, 'loss': {} }\n",
    "    all_client_val_measures = { 'accuracy': {}, 'fpr': {}, 'tpr': {}, 'ber': {}, 'loss': {} }\n",
    "    \n",
    "    for client in clients:\n",
    "        # Client receives new global model\n",
    "        client.receive_global_model(global_model)\n",
    "\n",
    "        # The client trains the model locally\n",
    "        client_model_parameters, client_measures, client_n_samples = client.local_fit_and_upload_parameters()\n",
    "        client_n_samples_list[client.id] = client_n_samples\n",
    "        model_weights_list.append(client_model_parameters)\n",
    "        for key in all_client_train_measures:\n",
    "            all_client_train_measures[key][client.id] = (client_measures['train'][key])\n",
    "            all_client_val_measures[key][client.id] = (client_measures['val'][key])\n",
    "\n",
    "    global_train_measures, global_val_measures = calculate_global_measures(clients,\n",
    "                                                                           all_client_train_measures,\n",
    "                                                                           all_client_val_measures,\n",
    "                                                                           display_result=True)\n",
    "    record_global_train_measures[idx] = global_train_measures\n",
    "    record_global_val_measures[idx] = global_val_measures\n",
    "\n",
    "    pbar.update(1)\n",
    "\n",
    "    # Aggregate new global model\n",
    "    global_model.set_parameters(aggregate_weights(model_weights_list, client_n_samples_list))\n",
    "    \n",
    "pbar.reset()"
   ],
   "metadata": {
    "collapsed": false,
    "ExecuteTime": {
     "end_time": "2023-10-26T01:05:39.615439Z",
     "start_time": "2023-10-26T00:59:53.282895Z"
    }
   }
  },
  {
   "cell_type": "markdown",
   "source": [
    "Save experiment results"
   ],
   "metadata": {
    "collapsed": false
   }
  },
  {
   "cell_type": "code",
   "execution_count": 9,
   "outputs": [
    {
     "name": "stdout",
     "output_type": "stream",
     "text": [
      "Saved measures to Experimental_results/FedTrust/train_measures_unsw-nb15.csv\n",
      "Saved measures to Experimental_results/FedTrust/val_measures_unsw-nb15.csv\n"
     ]
    }
   ],
   "source": [
    "save_global_measure(record_global_train_measures, \"train_measures_\"+dataset_name+\".csv\", \"FedTrust\")\n",
    "save_global_measure(record_global_val_measures, \"val_measures_\"+dataset_name+\".csv\", \"FedTrust\")"
   ],
   "metadata": {
    "collapsed": false,
    "ExecuteTime": {
     "end_time": "2023-10-26T01:05:39.622716Z",
     "start_time": "2023-10-26T01:05:39.616262Z"
    }
   }
  },
  {
   "cell_type": "markdown",
   "source": [
    "Test the performance of the model on the unseen test set"
   ],
   "metadata": {
    "collapsed": false
   }
  },
  {
   "cell_type": "code",
   "execution_count": 10,
   "outputs": [
    {
     "name": "stdout",
     "output_type": "stream",
     "text": [
      "Global Test Set Loss: 0.2849678733798533\n",
      "Global Test Set Accuracy: 0.8855191418167503\n",
      "Global Test Set FPR: 0.00016290764224234115\n",
      "Global Test Set TPR: 0.027515634977215864\n",
      "Global Test Set BER: 0.40550678759715253\n"
     ]
    }
   ],
   "source": [
    "all_client_measures = {\n",
    "    'accuracy': [],\n",
    "    'fpr': [],\n",
    "    'tpr': [],\n",
    "    'ber': [],\n",
    "    'loss': []\n",
    "}\n",
    "client_n_samples_list = {}\n",
    "for client in clients:\n",
    "    client.receive_global_model(global_model)\n",
    "    client_measures, client_n_samples = client.evaluate_test_set()\n",
    "    client_n_samples_list[client.id] = client_n_samples\n",
    "\n",
    "    for key in all_client_measures:\n",
    "        all_client_measures[key].append(client_measures[key])\n",
    "\n",
    "global_measures = {}\n",
    "for key in all_client_measures:\n",
    "    global_measures[key] = sum([all_client_measures[key][c.id] * client_n_samples_list[c.id] for c in clients]) / sum(client_n_samples_list.values())\n",
    "\n",
    "print(\"Global Test Set Loss:\", global_measures['loss'])\n",
    "print(\"Global Test Set Accuracy:\", global_measures['accuracy'])\n",
    "print(\"Global Test Set FPR:\", global_measures['fpr'])\n",
    "print(\"Global Test Set TPR:\", global_measures['tpr'])\n",
    "print(\"Global Test Set BER:\", global_measures['ber'])"
   ],
   "metadata": {
    "collapsed": false,
    "ExecuteTime": {
     "end_time": "2023-10-26T01:05:40.447914Z",
     "start_time": "2023-10-26T01:05:39.622870Z"
    }
   }
  }
 ],
 "metadata": {
  "kernelspec": {
   "display_name": "Python 3",
   "language": "python",
   "name": "python3"
  },
  "language_info": {
   "codemirror_mode": {
    "name": "ipython",
    "version": 2
   },
   "file_extension": ".py",
   "mimetype": "text/x-python",
   "name": "python",
   "nbconvert_exporter": "python",
   "pygments_lexer": "ipython2",
   "version": "2.7.6"
  }
 },
 "nbformat": 4,
 "nbformat_minor": 0
}
