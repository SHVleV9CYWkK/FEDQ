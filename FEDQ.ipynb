{
 "cells": [
  {
   "cell_type": "markdown",
   "source": [
    "Import the necessary dependent libraries"
   ],
   "metadata": {
    "collapsed": false
   }
  },
  {
   "cell_type": "code",
   "execution_count": 1,
   "outputs": [],
   "source": [
    "import os\n",
    "from module import MLPModule\n",
    "from utils import aggregate_weights, save_global_measure, load_client_data, calculate_global_measures\n",
    "from tqdm import tqdm\n",
    "import torch\n",
    "from client import EMClient\n",
    "from client_selector import ClientSelector"
   ],
   "metadata": {
    "collapsed": false,
    "ExecuteTime": {
     "end_time": "2023-10-24T05:47:09.764553Z",
     "start_time": "2023-10-24T05:47:08.255507Z"
    }
   }
  },
  {
   "cell_type": "markdown",
   "source": [
    "Set the necessary parameters and hyperparameters for the experiment and model"
   ],
   "metadata": {
    "collapsed": false
   }
  },
  {
   "cell_type": "code",
   "execution_count": 2,
   "outputs": [],
   "source": [
    "seed = 54\n",
    "dataset_name = \"n-baiot\"\n",
    "selector_type = 'dqn'\n",
    "num_rounds = 25\n",
    "input_dim = 0\n",
    "n_mix_distribute = 2\n",
    "select_num = 30\n",
    "\n",
    "if dataset_name == \"unsw-nb15\":\n",
    "    input_dim = 47\n",
    "elif dataset_name == \"n-baiot\":\n",
    "    input_dim = 115\n",
    "\n",
    "if torch.cuda.is_available():\n",
    "    device = torch.device(\"cuda\")\n",
    "# elif torch.backends.mps.is_available():\n",
    "#     device = torch.device(\"mps:0\")\n",
    "else:\n",
    "    device = torch.device(\"cpu\")\n",
    "\n",
    "hyperparameters = {\n",
    "    'input_dim': input_dim,\n",
    "    'lr': 0.005,\n",
    "    'models_num': n_mix_distribute,\n",
    "    'hidden_neurons_num': 512,\n",
    "    'batch_size': 128,\n",
    "    'seed': seed,\n",
    "    'device': device\n",
    "} \n",
    "\n",
    "select_hyperparameters = {\n",
    "    'enable': True,\n",
    "    'is_train': False,\n",
    "    'type_name': selector_type,\n",
    "    'lr': 0.001,\n",
    "    'global_models_num': n_mix_distribute,\n",
    "    'pca_n_components': 15,\n",
    "    'buffer_batch_size': 16,\n",
    "    'buffer_size': 1000,\n",
    "    'reward_lambda_value': 64,\n",
    "    'target_accuracy': 0.99,\n",
    "    'epsilon_start': 0.8,\n",
    "    'epsilon_end': 0.2,\n",
    "    'epsilon_decay': 100,\n",
    "    'gamma': 0.99,\n",
    "    'model_path': \"./dqn_models/17-10-2023_16-04-52_unsw-nb15\",\n",
    "    'seed': seed,\n",
    "    'device': device\n",
    "}"
   ],
   "metadata": {
    "collapsed": false,
    "ExecuteTime": {
     "end_time": "2023-10-24T05:47:09.769389Z",
     "start_time": "2023-10-24T05:47:09.767250Z"
    }
   }
  },
  {
   "cell_type": "raw",
   "source": [
    "Get all client data"
   ],
   "metadata": {
    "collapsed": false
   }
  },
  {
   "cell_type": "code",
   "execution_count": 3,
   "metadata": {
    "collapsed": true,
    "ExecuteTime": {
     "end_time": "2023-10-24T05:47:31.150315Z",
     "start_time": "2023-10-24T05:47:09.769785Z"
    }
   },
   "outputs": [],
   "source": [
    "client_data_list = load_client_data(os.path.join(dataset_name, \"split\"), device)"
   ]
  },
  {
   "cell_type": "markdown",
   "source": [
    "Generate clients"
   ],
   "metadata": {
    "collapsed": false
   }
  },
  {
   "cell_type": "code",
   "execution_count": 4,
   "outputs": [],
   "source": [
    "def create_clients(client_data, hyperparameter):\n",
    "    client_list = []\n",
    "    for i, (train_set, test_set, val_set) in enumerate(client_data):\n",
    "        c = EMClient(\n",
    "            id=i,\n",
    "            hyperparameters=hyperparameter,\n",
    "            train_set=train_set,\n",
    "            test_set=test_set,\n",
    "            val_set=val_set,\n",
    "        )\n",
    "        client_list.append(c)\n",
    "    return client_list\n",
    "clients = create_clients(client_data_list, hyperparameters)"
   ],
   "metadata": {
    "collapsed": false,
    "ExecuteTime": {
     "end_time": "2023-10-24T05:47:31.242516Z",
     "start_time": "2023-10-24T05:47:31.151427Z"
    }
   }
  },
  {
   "cell_type": "markdown",
   "source": [
    "Generate client selector"
   ],
   "metadata": {
    "collapsed": false
   }
  },
  {
   "cell_type": "code",
   "execution_count": 5,
   "outputs": [
    {
     "name": "stdout",
     "output_type": "stream",
     "text": [
      "DQN selection of clients\n",
      "Successfully loaded model\n"
     ]
    }
   ],
   "source": [
    "selector = ClientSelector(clients, select_num, select_hyperparameters)"
   ],
   "metadata": {
    "collapsed": false,
    "ExecuteTime": {
     "end_time": "2023-10-24T05:47:31.252172Z",
     "start_time": "2023-10-24T05:47:31.243646Z"
    }
   }
  },
  {
   "cell_type": "markdown",
   "source": [
    "FedEM training process"
   ],
   "metadata": {
    "collapsed": false
   }
  },
  {
   "cell_type": "code",
   "execution_count": 6,
   "outputs": [],
   "source": [
    "# Initialize multiple global models for each mixture distribution\n",
    "global_models = [MLPModule(hyperparameters) for _ in range(n_mix_distribute)]\n",
    "\n",
    "# Pre-trained\n",
    "model_weights_lists = [[] for _ in range(n_mix_distribute)]\n",
    "client_n_samples_list = {}\n",
    "\n",
    "for client in clients:\n",
    "    client.receive_global_model(global_models)\n",
    "    client_models_parameters, client_measures, client_n_samples = client.local_fit_and_upload_parameters()\n",
    "    client_n_samples_list[client.id] = client_n_samples\n",
    "\n",
    "    for i in range(n_mix_distribute):\n",
    "        model_weights_lists[i].append(client_models_parameters[i])\n",
    "\n",
    "for i in range(n_mix_distribute):\n",
    "    global_models[i].set_parameters(aggregate_weights(model_weights_lists[i], client_n_samples_list))\n",
    "    \n",
    "selector.fit_pca(global_models, model_weights_lists)"
   ],
   "metadata": {
    "collapsed": false,
    "ExecuteTime": {
     "end_time": "2023-10-24T05:49:11.576346Z",
     "start_time": "2023-10-24T05:47:31.250641Z"
    }
   }
  },
  {
   "cell_type": "code",
   "execution_count": 7,
   "outputs": [
    {
     "name": "stderr",
     "output_type": "stream",
     "text": [
      "  4%|▍         | 1/25 [00:21<08:45, 21.90s/it]"
     ]
    },
    {
     "name": "stdout",
     "output_type": "stream",
     "text": [
      "Global Train Set Loss: 0.3564854662808674\n",
      "Global Train Set Accuracy: 0.8074460676269654\n",
      "Global Train Set FPR: 0.5821795848608596\n",
      "Global Train Set TPR: 0.8908942604195896\n",
      "Global Train Set BER: 0.3456426622206351\n",
      "Global Validation Set Loss: 0.25452951711527405\n",
      "Global Validation Set Accuracy: 0.8398555383362363\n",
      "Global Validation Set FPR: 0.3709891613759337\n",
      "Global Validation Set TPR: 0.9312680529362287\n",
      "Global Validation Set BER: 0.18652722088651916\n"
     ]
    },
    {
     "name": "stderr",
     "output_type": "stream",
     "text": [
      "  8%|▊         | 2/25 [00:42<08:10, 21.31s/it]"
     ]
    },
    {
     "name": "stdout",
     "output_type": "stream",
     "text": [
      "Global Train Set Loss: 0.22129732094064142\n",
      "Global Train Set Accuracy: 0.9428741362823874\n",
      "Global Train Set FPR: 0.34944328064585195\n",
      "Global Train Set TPR: 0.8691362780749348\n",
      "Global Train Set BER: 0.24015350128545848\n",
      "Global Validation Set Loss: 0.09967576938431169\n",
      "Global Validation Set Accuracy: 0.9952607477672912\n",
      "Global Validation Set FPR: 0.05776326187657201\n",
      "Global Validation Set TPR: 0.9643562250510924\n",
      "Global Validation Set BER: 0.030036851746073158\n"
     ]
    },
    {
     "name": "stderr",
     "output_type": "stream",
     "text": [
      " 12%|█▏        | 3/25 [01:03<07:46, 21.23s/it]"
     ]
    },
    {
     "name": "stdout",
     "output_type": "stream",
     "text": [
      "Global Train Set Loss: 0.21526188774339824\n",
      "Global Train Set Accuracy: 0.9453413645112726\n",
      "Global Train Set FPR: 0.3435514733614559\n",
      "Global Train Set TPR: 0.8694139087791487\n",
      "Global Train Set BER: 0.23706878229115352\n",
      "Global Validation Set Loss: 0.08625092949801491\n",
      "Global Validation Set Accuracy: 0.9950362082489543\n",
      "Global Validation Set FPR: 0.03706381221428087\n",
      "Global Validation Set TPR: 0.9645711706154017\n",
      "Global Validation Set BER: 0.019579654132772958\n"
     ]
    },
    {
     "name": "stderr",
     "output_type": "stream",
     "text": [
      " 16%|█▌        | 4/25 [01:24<07:21, 21.05s/it]"
     ]
    },
    {
     "name": "stdout",
     "output_type": "stream",
     "text": [
      "Global Train Set Loss: 0.21419352962889812\n",
      "Global Train Set Accuracy: 0.9463027063085808\n",
      "Global Train Set FPR: 0.34201624263722347\n",
      "Global Train Set TPR: 0.8695523892510562\n",
      "Global Train Set BER: 0.23623192669308357\n",
      "Global Validation Set Loss: 0.08510445876467422\n",
      "Global Validation Set Accuracy: 0.9953384374577837\n",
      "Global Validation Set FPR: 0.022551467907389246\n",
      "Global Validation Set TPR: 0.964681256980356\n",
      "Global Validation Set BER: 0.012268438796849917\n"
     ]
    },
    {
     "name": "stderr",
     "output_type": "stream",
     "text": [
      " 20%|██        | 5/25 [01:46<07:03, 21.16s/it]"
     ]
    },
    {
     "name": "stdout",
     "output_type": "stream",
     "text": [
      "Global Train Set Loss: 0.21338968541188008\n",
      "Global Train Set Accuracy: 0.9452770512702543\n",
      "Global Train Set FPR: 0.343894463206482\n",
      "Global Train Set TPR: 0.869626107550008\n",
      "Global Train Set BER: 0.23713417782823684\n",
      "Global Validation Set Loss: 0.08607530484643702\n",
      "Global Validation Set Accuracy: 0.9931124351554086\n",
      "Global Validation Set FPR: 0.0268382217937738\n",
      "Global Validation Set TPR: 0.9625821371859342\n",
      "Global Validation Set BER: 0.015461375637253106\n"
     ]
    },
    {
     "name": "stderr",
     "output_type": "stream",
     "text": [
      " 24%|██▍       | 6/25 [02:07<06:41, 21.12s/it]"
     ]
    },
    {
     "name": "stdout",
     "output_type": "stream",
     "text": [
      "Global Train Set Loss: 0.211812629881529\n",
      "Global Train Set Accuracy: 0.9454562331488591\n",
      "Global Train Set FPR: 0.3774119127775973\n",
      "Global Train Set TPR: 0.8803133881590128\n",
      "Global Train Set BER: 0.2485492623092923\n",
      "Global Validation Set Loss: 0.08765403590602307\n",
      "Global Validation Set Accuracy: 0.992054491606967\n",
      "Global Validation Set FPR: 0.02314706568511696\n",
      "Global Validation Set TPR: 0.9615759570394214\n",
      "Global Validation Set BER: 0.014118887656181123\n"
     ]
    },
    {
     "name": "stderr",
     "output_type": "stream",
     "text": [
      " 28%|██▊       | 7/25 [02:27<06:16, 20.93s/it]"
     ]
    },
    {
     "name": "stdout",
     "output_type": "stream",
     "text": [
      "Global Train Set Loss: 0.21220826326170586\n",
      "Global Train Set Accuracy: 0.9454555391103746\n",
      "Global Train Set FPR: 0.34468691658259465\n",
      "Global Train Set TPR: 0.8697516294176723\n",
      "Global Train Set BER: 0.2374676435824611\n",
      "Global Validation Set Loss: 0.09129583252449727\n",
      "Global Validation Set Accuracy: 0.9916447980716279\n",
      "Global Validation Set FPR: 0.027462958083538477\n",
      "Global Validation Set TPR: 0.961502921193128\n",
      "Global Validation Set BER: 0.016313351778538612\n"
     ]
    },
    {
     "name": "stderr",
     "output_type": "stream",
     "text": [
      " 32%|███▏      | 8/25 [02:48<05:55, 20.92s/it]"
     ]
    },
    {
     "name": "stdout",
     "output_type": "stream",
     "text": [
      "Global Train Set Loss: 0.21213437914909405\n",
      "Global Train Set Accuracy: 0.9455511797863927\n",
      "Global Train Set FPR: 0.3444551431453817\n",
      "Global Train Set TPR: 0.8698024963017458\n",
      "Global Train Set BER: 0.23732632342181795\n",
      "Global Validation Set Loss: 0.09746663376773784\n",
      "Global Validation Set Accuracy: 0.9905874118567098\n",
      "Global Validation Set FPR: 0.023489329858328224\n",
      "Global Validation Set TPR: 0.9604007574520939\n",
      "Global Validation Set BER: 0.01487761953645048\n"
     ]
    },
    {
     "name": "stderr",
     "output_type": "stream",
     "text": [
      " 36%|███▌      | 9/25 [03:09<05:34, 20.90s/it]"
     ]
    },
    {
     "name": "stdout",
     "output_type": "stream",
     "text": [
      "Global Train Set Loss: 0.2115440629212113\n",
      "Global Train Set Accuracy: 0.9465040821919454\n",
      "Global Train Set FPR: 0.342535058819511\n",
      "Global Train Set TPR: 0.8698082066002261\n",
      "Global Train Set BER: 0.2363634261096424\n",
      "Global Validation Set Loss: 0.10909144649256113\n",
      "Global Validation Set Accuracy: 0.9906096212036061\n",
      "Global Validation Set FPR: 0.024521912473203795\n",
      "Global Validation Set TPR: 0.9604116492239092\n",
      "Global Validation Set BER: 0.01538846495798059\n"
     ]
    },
    {
     "name": "stderr",
     "output_type": "stream",
     "text": [
      " 40%|████      | 10/25 [03:30<05:14, 20.99s/it]"
     ]
    },
    {
     "name": "stdout",
     "output_type": "stream",
     "text": [
      "Global Train Set Loss: 0.21136740006568897\n",
      "Global Train Set Accuracy: 0.9466621899238191\n",
      "Global Train Set FPR: 0.3423334857442228\n",
      "Global Train Set TPR: 0.8698613635386262\n",
      "Global Train Set BER: 0.23623606110279816\n",
      "Global Validation Set Loss: 0.112258648178918\n",
      "Global Validation Set Accuracy: 0.9915900110302014\n",
      "Global Validation Set FPR: 0.021804388048280523\n",
      "Global Validation Set TPR: 0.9604049316865697\n",
      "Global Validation Set BER: 0.014033061514188748\n"
     ]
    },
    {
     "name": "stderr",
     "output_type": "stream",
     "text": [
      " 44%|████▍     | 11/25 [03:52<04:55, 21.14s/it]"
     ]
    },
    {
     "name": "stdout",
     "output_type": "stream",
     "text": [
      "Global Train Set Loss: 0.21062813081705092\n",
      "Global Train Set Accuracy: 0.9468783147932351\n",
      "Global Train Set FPR: 0.3418186332048563\n",
      "Global Train Set TPR: 0.8698556050312564\n",
      "Global Train Set BER: 0.23598151408679985\n",
      "Global Validation Set Loss: 0.11906940933893963\n",
      "Global Validation Set Accuracy: 0.990681668933867\n",
      "Global Validation Set FPR: 0.017259881565647204\n",
      "Global Validation Set TPR: 0.9604705216495744\n",
      "Global Validation Set BER: 0.011728013291369662\n"
     ]
    },
    {
     "name": "stderr",
     "output_type": "stream",
     "text": [
      " 48%|████▊     | 12/25 [04:13<04:34, 21.15s/it]"
     ]
    },
    {
     "name": "stdout",
     "output_type": "stream",
     "text": [
      "Global Train Set Loss: 0.20969129186088048\n",
      "Global Train Set Accuracy: 0.9467123621416182\n",
      "Global Train Set FPR: 0.3417104054759205\n",
      "Global Train Set TPR: 0.8695854513391426\n",
      "Global Train Set BER: 0.23606247706838884\n",
      "Global Validation Set Loss: 0.12265733682574903\n",
      "Global Validation Set Accuracy: 0.9916650654622845\n",
      "Global Validation Set FPR: 0.02015017243861104\n",
      "Global Validation Set TPR: 0.9604817188625656\n",
      "Global Validation Set BER: 0.013167560121355993\n"
     ]
    },
    {
     "name": "stderr",
     "output_type": "stream",
     "text": [
      " 52%|█████▏    | 13/25 [04:34<04:13, 21.08s/it]"
     ]
    },
    {
     "name": "stdout",
     "output_type": "stream",
     "text": [
      "Global Train Set Loss: 0.20990297418191742\n",
      "Global Train Set Accuracy: 0.9467131365054942\n",
      "Global Train Set FPR: 0.34155705146657145\n",
      "Global Train Set TPR: 0.869704824640775\n",
      "Global Train Set BER: 0.23592611341289813\n",
      "Global Validation Set Loss: 0.1311061877286283\n",
      "Global Validation Set Accuracy: 0.9909458760535708\n",
      "Global Validation Set FPR: 0.017170755901008805\n",
      "Global Validation Set TPR: 0.9604999678135484\n",
      "Global Validation Set BER: 0.01166872737706351\n"
     ]
    },
    {
     "name": "stderr",
     "output_type": "stream",
     "text": [
      " 56%|█████▌    | 14/25 [04:54<03:50, 20.97s/it]"
     ]
    },
    {
     "name": "stdout",
     "output_type": "stream",
     "text": [
      "Global Train Set Loss: 0.21039174673067768\n",
      "Global Train Set Accuracy: 0.9472541499990944\n",
      "Global Train Set FPR: 0.3378880886921797\n",
      "Global Train Set TPR: 0.8695126021130756\n",
      "Global Train Set BER: 0.23418774328955194\n",
      "Global Validation Set Loss: 0.1442340853250174\n",
      "Global Validation Set Accuracy: 0.9883982523273128\n",
      "Global Validation Set FPR: 0.020836249527244274\n",
      "Global Validation Set TPR: 0.9602831586694582\n",
      "Global Validation Set BER: 0.013609878762226324\n"
     ]
    },
    {
     "name": "stderr",
     "output_type": "stream",
     "text": [
      " 60%|██████    | 15/25 [05:13<03:23, 20.35s/it]"
     ]
    },
    {
     "name": "stdout",
     "output_type": "stream",
     "text": [
      "Global Train Set Loss: 0.21087426690854066\n",
      "Global Train Set Accuracy: 0.9471610230180981\n",
      "Global Train Set FPR: 0.33792747418165203\n",
      "Global Train Set TPR: 0.8696216412198093\n",
      "Global Train Set BER: 0.23415291648092126\n",
      "Global Validation Set Loss: 0.15065405593258355\n",
      "Global Validation Set Accuracy: 0.9870306746651789\n",
      "Global Validation Set FPR: 0.020478209204196386\n",
      "Global Validation Set TPR: 0.9591672839882854\n",
      "Global Validation Set BER: 0.013988795941288783\n"
     ]
    },
    {
     "name": "stderr",
     "output_type": "stream",
     "text": [
      " 64%|██████▍   | 16/25 [05:34<03:04, 20.49s/it]"
     ]
    },
    {
     "name": "stdout",
     "output_type": "stream",
     "text": [
      "Global Train Set Loss: 0.21167469197361377\n",
      "Global Train Set Accuracy: 0.9473111409302221\n",
      "Global Train Set FPR: 0.33723050181526754\n",
      "Global Train Set TPR: 0.8694147876712133\n",
      "Global Train Set BER: 0.23390785707202708\n",
      "Global Validation Set Loss: 0.1534388425353501\n",
      "Global Validation Set Accuracy: 0.9871902411502717\n",
      "Global Validation Set FPR: 0.040962161968008844\n",
      "Global Validation Set TPR: 0.959177385870326\n",
      "Global Validation Set BER: 0.02422572138217476\n"
     ]
    },
    {
     "name": "stderr",
     "output_type": "stream",
     "text": [
      " 68%|██████▊   | 17/25 [05:55<02:43, 20.47s/it]"
     ]
    },
    {
     "name": "stdout",
     "output_type": "stream",
     "text": [
      "Global Train Set Loss: 0.21289327572589398\n",
      "Global Train Set Accuracy: 0.9470965659462834\n",
      "Global Train Set FPR: 0.3374370188345567\n",
      "Global Train Set TPR: 0.8694388528045527\n",
      "Global Train Set BER: 0.233999083015002\n",
      "Global Validation Set Loss: 0.1561425908800935\n",
      "Global Validation Set Accuracy: 0.9859203563370365\n",
      "Global Validation Set FPR: 0.025972708220721293\n",
      "Global Validation Set TPR: 0.9591759970177728\n",
      "Global Validation Set BER: 0.016731688934807677\n"
     ]
    },
    {
     "name": "stderr",
     "output_type": "stream",
     "text": [
      " 72%|███████▏  | 18/25 [06:16<02:24, 20.70s/it]"
     ]
    },
    {
     "name": "stdout",
     "output_type": "stream",
     "text": [
      "Global Train Set Loss: 0.21304215690812853\n",
      "Global Train Set Accuracy: 0.9470265662389136\n",
      "Global Train Set FPR: 0.33747552566874905\n",
      "Global Train Set TPR: 0.8694694804158452\n",
      "Global Train Set BER: 0.2340030226264519\n",
      "Global Validation Set Loss: 0.1565021090404249\n",
      "Global Validation Set Accuracy: 0.985838719835437\n",
      "Global Validation Set FPR: 0.02523036561198499\n",
      "Global Validation Set TPR: 0.9591411417598565\n",
      "Global Validation Set BER: 0.016377945259397435\n"
     ]
    },
    {
     "name": "stderr",
     "output_type": "stream",
     "text": [
      " 76%|███████▌  | 19/25 [06:37<02:04, 20.80s/it]"
     ]
    },
    {
     "name": "stdout",
     "output_type": "stream",
     "text": [
      "Global Train Set Loss: 0.213470105129567\n",
      "Global Train Set Accuracy: 0.9467748530757412\n",
      "Global Train Set FPR: 0.33798619934529045\n",
      "Global Train Set TPR: 0.8695619964238853\n",
      "Global Train Set BER: 0.23421210146070254\n",
      "Global Validation Set Loss: 0.15745141655336856\n",
      "Global Validation Set Accuracy: 0.9855345609524611\n",
      "Global Validation Set FPR: 0.026457480456519536\n",
      "Global Validation Set TPR: 0.9591734746164996\n",
      "Global Validation Set BER: 0.01697533625334322\n"
     ]
    },
    {
     "name": "stderr",
     "output_type": "stream",
     "text": [
      " 80%|████████  | 20/25 [06:57<01:42, 20.57s/it]"
     ]
    },
    {
     "name": "stdout",
     "output_type": "stream",
     "text": [
      "Global Train Set Loss: 0.21479440406936906\n",
      "Global Train Set Accuracy: 0.9464244626975804\n",
      "Global Train Set FPR: 0.33854548654336103\n",
      "Global Train Set TPR: 0.8698517998474558\n",
      "Global Train Set BER: 0.2343468433479527\n",
      "Global Validation Set Loss: 0.16020947899568092\n",
      "Global Validation Set Accuracy: 0.9832384329162319\n",
      "Global Validation Set FPR: 0.03001486276785884\n",
      "Global Validation Set TPR: 0.9591549118568091\n",
      "Global Validation Set BER: 0.018763308788858162\n"
     ]
    },
    {
     "name": "stderr",
     "output_type": "stream",
     "text": [
      " 84%|████████▍ | 21/25 [07:18<01:23, 20.84s/it]"
     ]
    },
    {
     "name": "stdout",
     "output_type": "stream",
     "text": [
      "Global Train Set Loss: 0.21428868550842906\n",
      "Global Train Set Accuracy: 0.9464509678320611\n",
      "Global Train Set FPR: 0.3385968653285344\n",
      "Global Train Set TPR: 0.8699416079680494\n",
      "Global Train Set BER: 0.23432762868024254\n",
      "Global Validation Set Loss: 0.15946946443083201\n",
      "Global Validation Set Accuracy: 0.9836389416309438\n",
      "Global Validation Set FPR: 0.04999525034209147\n",
      "Global Validation Set TPR: 0.9591733493873732\n",
      "Global Validation Set BER: 0.028744283810692453\n"
     ]
    },
    {
     "name": "stderr",
     "output_type": "stream",
     "text": [
      " 88%|████████▊ | 22/25 [07:40<01:02, 20.96s/it]"
     ]
    },
    {
     "name": "stdout",
     "output_type": "stream",
     "text": [
      "Global Train Set Loss: 0.21588448749315198\n",
      "Global Train Set Accuracy: 0.9461198705462833\n",
      "Global Train Set FPR: 0.33930963196491354\n",
      "Global Train Set TPR: 0.8703451156370685\n",
      "Global Train Set BER: 0.23448225816392243\n",
      "Global Validation Set Loss: 0.16027811082807983\n",
      "Global Validation Set Accuracy: 0.982906178785262\n",
      "Global Validation Set FPR: 0.03142908091908945\n",
      "Global Validation Set TPR: 0.9592288337781255\n",
      "Global Validation Set BER: 0.01943345690381527\n"
     ]
    },
    {
     "name": "stderr",
     "output_type": "stream",
     "text": [
      " 92%|█████████▏| 23/25 [08:00<00:41, 20.81s/it]"
     ]
    },
    {
     "name": "stdout",
     "output_type": "stream",
     "text": [
      "Global Train Set Loss: 0.21560443451910913\n",
      "Global Train Set Accuracy: 0.9464728508122583\n",
      "Global Train Set FPR: 0.3388939024790989\n",
      "Global Train Set TPR: 0.8704639327196433\n",
      "Global Train Set BER: 0.23421498487972767\n",
      "Global Validation Set Loss: 0.15882652595539376\n",
      "Global Validation Set Accuracy: 0.9833311383997937\n",
      "Global Validation Set FPR: 0.03107081687610602\n",
      "Global Validation Set TPR: 0.9592018157448625\n",
      "Global Validation Set BER: 0.019267833898955075\n"
     ]
    },
    {
     "name": "stderr",
     "output_type": "stream",
     "text": [
      " 96%|█████████▌| 24/25 [08:20<00:20, 20.71s/it]"
     ]
    },
    {
     "name": "stdout",
     "output_type": "stream",
     "text": [
      "Global Train Set Loss: 0.21494612249685738\n",
      "Global Train Set Accuracy: 0.9464854550972207\n",
      "Global Train Set FPR: 0.33879513100336217\n",
      "Global Train Set TPR: 0.870159209107618\n",
      "Global Train Set BER: 0.23431796094787202\n",
      "Global Validation Set Loss: 0.1602703723943003\n",
      "Global Validation Set Accuracy: 0.9858141197690318\n",
      "Global Validation Set FPR: 0.02641452271092049\n",
      "Global Validation Set TPR: 0.9591596476185734\n",
      "Global Validation Set BER: 0.01696077087950692\n"
     ]
    },
    {
     "name": "stderr",
     "output_type": "stream",
     "text": [
      "100%|██████████| 25/25 [08:42<00:00, 20.87s/it]"
     ]
    },
    {
     "name": "stdout",
     "output_type": "stream",
     "text": [
      "Global Train Set Loss: 0.21650740987837333\n",
      "Global Train Set Accuracy: 0.9451772991465828\n",
      "Global Train Set FPR: 0.3414562242732902\n",
      "Global Train Set TPR: 0.8705391109380488\n",
      "Global Train Set BER: 0.23545855666762067\n",
      "Global Validation Set Loss: 0.15998834145939908\n",
      "Global Validation Set Accuracy: 0.9829222690265278\n",
      "Global Validation Set FPR: 0.04704352234344312\n",
      "Global Validation Set TPR: 0.9590679939481014\n",
      "Global Validation Set BER: 0.0273210975310042\n"
     ]
    }
   ],
   "source": [
    "# Record training results\n",
    "record_global_train_measures = [None] * num_rounds\n",
    "record_global_val_measures = [None] * num_rounds\n",
    "\n",
    "pbar = tqdm(total=num_rounds)\n",
    "pbar.reset()\n",
    "# Perform num_rounds rounds of training\n",
    "for idx in range(num_rounds):\n",
    "    client_n_samples_list = {}\n",
    "\n",
    "    all_client_train_measures = { 'accuracy': {}, 'fpr': {}, 'tpr': {}, 'ber': {}, 'loss': {} }\n",
    "    all_client_val_measures = { 'accuracy': {}, 'fpr': {}, 'tpr': {}, 'ber': {}, 'loss': {} }\n",
    "\n",
    "    selected_client = selector.sample_clients(global_models, model_weights_lists)\n",
    "    model_weights_lists = [[] for _ in range(n_mix_distribute)]\n",
    "\n",
    "    for client in selected_client:\n",
    "        # Client receives new global models\n",
    "        client.receive_global_model(global_models)\n",
    "\n",
    "        # The client trains the models locally\n",
    "        client_models_parameters, client_measures, client_n_samples = client.local_fit_and_upload_parameters()\n",
    "        client_n_samples_list[client.id] = client_n_samples\n",
    "\n",
    "        for i in range(n_mix_distribute):\n",
    "            model_weights_lists[i].append(client_models_parameters[i])\n",
    "\n",
    "        for key in all_client_train_measures:\n",
    "            all_client_train_measures[key][client.id] = (client_measures['train'][key])\n",
    "            all_client_val_measures[key][client.id] = (client_measures['val'][key])\n",
    "\n",
    "    global_train_measures, global_val_measures = calculate_global_measures(selected_client,\n",
    "                                                                           all_client_train_measures,\n",
    "                                                                           all_client_val_measures,\n",
    "                                                                           display_result=True)\n",
    "    record_global_train_measures[idx] = global_train_measures\n",
    "    record_global_val_measures[idx] = global_val_measures\n",
    "\n",
    "    # Aggregate new global models\n",
    "    for i in range(n_mix_distribute):\n",
    "        global_models[i].set_parameters(aggregate_weights(model_weights_lists[i], client_n_samples_list))\n",
    "\n",
    "    selector.update_dqn(global_models, model_weights_lists, global_val_measures['accuracy'])\n",
    "    pbar.update(1)"
   ],
   "metadata": {
    "collapsed": false,
    "ExecuteTime": {
     "end_time": "2023-10-24T05:57:53.938194Z",
     "start_time": "2023-10-24T05:49:11.723682Z"
    }
   }
  },
  {
   "cell_type": "markdown",
   "source": [
    "Save experiment results"
   ],
   "metadata": {
    "collapsed": false
   }
  },
  {
   "cell_type": "code",
   "execution_count": 8,
   "outputs": [
    {
     "name": "stdout",
     "output_type": "stream",
     "text": [
      "Saved measures to Experimental_results/FedEM_dqn_30/train_measures_n-baiot.csv\n",
      "Saved measures to Experimental_results/FedEM_dqn_30/val_measures_n-baiot.csv\n"
     ]
    }
   ],
   "source": [
    "suffix_name = \"\"\n",
    "if select_num != 100 and selector_type != \"random\":\n",
    "    suffix_name = \"_dqn_\"+str(select_num)\n",
    "elif select_num != 100: \n",
    "    suffix_name = \"_random_\"+str(select_num)\n",
    "    \n",
    "save_global_measure(record_global_train_measures, \"train_measures_\"+dataset_name+\".csv\", \"FedEM\"+suffix_name)\n",
    "save_global_measure(record_global_val_measures, \"val_measures_\"+dataset_name+\".csv\", \"FedEM\"+suffix_name)"
   ],
   "metadata": {
    "collapsed": false,
    "ExecuteTime": {
     "end_time": "2023-10-24T05:57:53.942169Z",
     "start_time": "2023-10-24T05:57:53.936483Z"
    }
   }
  },
  {
   "cell_type": "markdown",
   "source": [
    "Save DQN model"
   ],
   "metadata": {
    "collapsed": false
   }
  },
  {
   "cell_type": "code",
   "execution_count": 9,
   "outputs": [],
   "source": [
    "selector.save_model(dataset_name)"
   ],
   "metadata": {
    "collapsed": false,
    "ExecuteTime": {
     "end_time": "2023-10-24T05:57:53.942330Z",
     "start_time": "2023-10-24T05:57:53.940705Z"
    }
   }
  },
  {
   "cell_type": "markdown",
   "source": [
    "Test the performance of the model on the unseen test set"
   ],
   "metadata": {
    "collapsed": false
   }
  },
  {
   "cell_type": "code",
   "execution_count": 10,
   "outputs": [
    {
     "name": "stdout",
     "output_type": "stream",
     "text": [
      "Global Test Set Loss: 0.07198309101843382\n",
      "Global Test Set Accuracy: 0.9941475176682385\n",
      "Global Test Set FPR: 0.026303188812686725\n",
      "Global Test Set TPR: 0.9864316147533704\n",
      "Global Test Set BER: 0.014600803740417173\n"
     ]
    }
   ],
   "source": [
    "all_client_measures = {\n",
    "    'accuracy': [],\n",
    "    'fpr': [],\n",
    "    'tpr': [],\n",
    "    'ber': [],\n",
    "    'loss': []\n",
    "}\n",
    "client_n_samples_list = {}\n",
    "\n",
    "# Iterate over clients and evaluate using each global model\n",
    "for client in clients:\n",
    "    client_n_samples = 0\n",
    "    client_measures_sum = {\n",
    "        'accuracy': 0,\n",
    "        'fpr': 0,\n",
    "        'tpr': 0,\n",
    "        'ber': 0,\n",
    "        'loss': 0\n",
    "    }\n",
    "\n",
    "    # Client receives new global models\n",
    "    client.receive_global_model(global_models)\n",
    "\n",
    "    # Evaluate using each global model and aggregate results\n",
    "    for global_model in global_models:\n",
    "        client_measures, current_n_samples = client.evaluate_test_set()\n",
    "        client_n_samples += current_n_samples\n",
    "        for key in client_measures:\n",
    "            client_measures_sum[key] += client_measures[key]\n",
    "\n",
    "    # Average the measures over all models\n",
    "    for key in client_measures_sum:\n",
    "        client_measures_sum[key] /= len(global_models)\n",
    "\n",
    "    client_n_samples_list[client.id] = client_n_samples\n",
    "\n",
    "    for key in all_client_measures:\n",
    "        all_client_measures[key].append(client_measures_sum[key])\n",
    "\n",
    "global_measures = {}\n",
    "for key in all_client_measures:\n",
    "    global_measures[key] = sum([all_client_measures[key][c.id] * client_n_samples_list[c.id] for c in clients]) / sum(client_n_samples_list.values())\n",
    "\n",
    "print(\"Global Test Set Loss:\", global_measures['loss'])\n",
    "print(\"Global Test Set Accuracy:\", global_measures['accuracy'])\n",
    "print(\"Global Test Set FPR:\", global_measures['fpr'])\n",
    "print(\"Global Test Set TPR:\", global_measures['tpr'])\n",
    "print(\"Global Test Set BER:\", global_measures['ber'])"
   ],
   "metadata": {
    "collapsed": false,
    "ExecuteTime": {
     "end_time": "2023-10-24T05:58:00.066362Z",
     "start_time": "2023-10-24T05:57:53.945040Z"
    }
   }
  }
 ],
 "metadata": {
  "kernelspec": {
   "display_name": "Python 3",
   "language": "python",
   "name": "python3"
  },
  "language_info": {
   "codemirror_mode": {
    "name": "ipython",
    "version": 2
   },
   "file_extension": ".py",
   "mimetype": "text/x-python",
   "name": "python",
   "nbconvert_exporter": "python",
   "pygments_lexer": "ipython2",
   "version": "2.7.6"
  }
 },
 "nbformat": 4,
 "nbformat_minor": 0
}
