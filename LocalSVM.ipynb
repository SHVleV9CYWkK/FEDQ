{
 "cells": [
  {
   "cell_type": "code",
   "execution_count": 10,
   "id": "initial_id",
   "metadata": {
    "collapsed": true,
    "ExecuteTime": {
     "end_time": "2023-10-25T06:49:57.535603Z",
     "start_time": "2023-10-25T06:49:57.519971Z"
    }
   },
   "outputs": [],
   "source": [
    "import os\n",
    "from utils import load_client_data\n",
    "from local_svm import LocalSVM\n",
    "from utils import save_global_measure"
   ]
  },
  {
   "cell_type": "code",
   "execution_count": 11,
   "outputs": [],
   "source": [
    "seed = 54\n",
    "dataset_name = \"n-baiot\""
   ],
   "metadata": {
    "collapsed": false,
    "ExecuteTime": {
     "end_time": "2023-10-25T06:49:57.536492Z",
     "start_time": "2023-10-25T06:49:57.523767Z"
    }
   },
   "id": "2be7470e0cb8b4db"
  },
  {
   "cell_type": "code",
   "execution_count": 12,
   "outputs": [],
   "source": [
    "client_data_list = load_client_data(os.path.join(dataset_name, \"split\"))"
   ],
   "metadata": {
    "collapsed": false,
    "ExecuteTime": {
     "end_time": "2023-10-25T06:50:21.130926Z",
     "start_time": "2023-10-25T06:49:57.527089Z"
    }
   },
   "id": "d031cad95bcd09d4"
  },
  {
   "cell_type": "code",
   "execution_count": 13,
   "outputs": [],
   "source": [
    "train_set = [None] * len(client_data_list)\n",
    "test_set = [None] * len(client_data_list)\n",
    "val_set = [None] * len(client_data_list)\n",
    "for idx, client_data in enumerate(client_data_list):\n",
    "    train_data, test_data, val_data = client_data\n",
    "\n",
    "    train_data[1][train_data[1] == 0] = -1\n",
    "    test_data[1][test_data[1] == 0] = -1\n",
    "    val_data[1][val_data[1] == 0] = -1\n",
    "\n",
    "    train_set[idx] = train_data\n",
    "    test_set[idx] = test_data\n",
    "    val_set[idx] = val_data"
   ],
   "metadata": {
    "collapsed": false,
    "ExecuteTime": {
     "end_time": "2023-10-25T06:50:21.145557Z",
     "start_time": "2023-10-25T06:50:21.131250Z"
    }
   },
   "id": "2126b46bef1cf619"
  },
  {
   "cell_type": "code",
   "execution_count": 14,
   "outputs": [],
   "source": [
    "local_svm = LocalSVM(train_set, test_set, val_set, seed=seed)"
   ],
   "metadata": {
    "collapsed": false,
    "ExecuteTime": {
     "end_time": "2023-10-25T06:50:21.239912Z",
     "start_time": "2023-10-25T06:50:21.146955Z"
    }
   },
   "id": "e350ecf4e52cbf7d"
  },
  {
   "cell_type": "code",
   "execution_count": 15,
   "outputs": [
    {
     "name": "stderr",
     "output_type": "stream",
     "text": [
      "100%|██████████| 100/100 [00:57<00:00,  1.74it/s]\n"
     ]
    }
   ],
   "source": [
    "local_svm.fit_all_client()"
   ],
   "metadata": {
    "collapsed": false,
    "ExecuteTime": {
     "end_time": "2023-10-25T06:51:18.607326Z",
     "start_time": "2023-10-25T06:50:21.240232Z"
    }
   },
   "id": "76108a46d52be48e"
  },
  {
   "cell_type": "code",
   "execution_count": 16,
   "outputs": [
    {
     "name": "stdout",
     "output_type": "stream",
     "text": [
      "Global Train Set Loss: 48.91529943744908\n",
      "Global Train Set Accuracy: 74.25435028127504\n",
      "Global Train Set FPR: 54.4827335367378\n",
      "Global Train Set TPR: 75.1064091594756\n",
      "Global Train Set BER: 38.24816218863079\n",
      "Global Validation Set Loss: 52.98192233899573\n",
      "Global Validation Set Accuracy: 76.95145447000763\n",
      "Global Validation Set FPR: 31.26203593393785\n",
      "Global Validation Set TPR: 77.6563317129552\n",
      "Global Validation Set BER: 21.97785211049134\n"
     ]
    }
   ],
   "source": [
    "record_train_measures, record_val_measures = local_svm.calculate_measures()"
   ],
   "metadata": {
    "collapsed": false,
    "ExecuteTime": {
     "end_time": "2023-10-25T06:58:10.728202Z",
     "start_time": "2023-10-25T06:51:18.647638Z"
    }
   },
   "id": "6948c6af2b75ba7"
  },
  {
   "cell_type": "code",
   "execution_count": 17,
   "outputs": [
    {
     "name": "stdout",
     "output_type": "stream",
     "text": [
      "Saved measures to Experimental_results/Local_SVM/train_measures_n-baiot.csv\n",
      "Saved measures to Experimental_results/Local_SVM/val_measures_n-baiot.csv\n"
     ]
    }
   ],
   "source": [
    "save_global_measure([record_train_measures], \"train_measures_\"+dataset_name+\".csv\", \"Local_SVM\")\n",
    "save_global_measure([record_val_measures], \"val_measures_\"+dataset_name+\".csv\", \"Local_SVM\")"
   ],
   "metadata": {
    "collapsed": false,
    "ExecuteTime": {
     "end_time": "2023-10-25T06:58:10.753894Z",
     "start_time": "2023-10-25T06:58:10.710278Z"
    }
   },
   "id": "65a686d1f8e7c203"
  },
  {
   "cell_type": "code",
   "execution_count": 18,
   "outputs": [
    {
     "name": "stdout",
     "output_type": "stream",
     "text": [
      "Global Test Set Loss: 52.98192233899573\n",
      "Global Test Set Accuracy: 76.95145447000763\n",
      "Global Test Set FPR: 31.26203593393785\n",
      "Global Test Set TPR: 77.6563317129552\n",
      "Global Test Set BER: 21.97785211049134\n"
     ]
    }
   ],
   "source": [
    "global_measures = local_svm.calculate_measures_test_set()\n",
    "\n",
    "print(\"Global Test Set Loss:\", global_measures['loss'])\n",
    "print(\"Global Test Set Accuracy:\", global_measures['accuracy'])\n",
    "print(\"Global Test Set FPR:\", global_measures['fpr'])\n",
    "print(\"Global Test Set TPR:\", global_measures['tpr'])\n",
    "print(\"Global Test Set BER:\", global_measures['ber'])"
   ],
   "metadata": {
    "collapsed": false,
    "ExecuteTime": {
     "end_time": "2023-10-25T07:00:21.906427Z",
     "start_time": "2023-10-25T06:58:10.744233Z"
    }
   },
   "id": "48f3d9a98156c238"
  }
 ],
 "metadata": {
  "kernelspec": {
   "display_name": "Python 3",
   "language": "python",
   "name": "python3"
  },
  "language_info": {
   "codemirror_mode": {
    "name": "ipython",
    "version": 2
   },
   "file_extension": ".py",
   "mimetype": "text/x-python",
   "name": "python",
   "nbconvert_exporter": "python",
   "pygments_lexer": "ipython2",
   "version": "2.7.6"
  }
 },
 "nbformat": 4,
 "nbformat_minor": 5
}
