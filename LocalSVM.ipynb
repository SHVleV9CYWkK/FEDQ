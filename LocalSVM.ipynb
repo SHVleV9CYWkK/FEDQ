{
 "cells": [
  {
   "cell_type": "code",
   "execution_count": 10,
   "id": "initial_id",
   "metadata": {
    "collapsed": true,
    "ExecuteTime": {
     "end_time": "2023-11-04T05:10:58.135679Z",
     "start_time": "2023-11-04T05:10:58.101317Z"
    }
   },
   "outputs": [],
   "source": [
    "import os\n",
    "from utils import load_client_data\n",
    "from local_svm import LocalSVM\n",
    "from utils import save_global_measure"
   ]
  },
  {
   "cell_type": "code",
   "execution_count": 11,
   "outputs": [],
   "source": [
    "seed = 54\n",
    "dataset_name = \"n-baiot\""
   ],
   "metadata": {
    "collapsed": false,
    "ExecuteTime": {
     "end_time": "2023-11-04T05:10:58.151344Z",
     "start_time": "2023-11-04T05:10:58.121908Z"
    }
   },
   "id": "2be7470e0cb8b4db"
  },
  {
   "cell_type": "code",
   "execution_count": 12,
   "outputs": [],
   "source": [
    "client_data_list = load_client_data(os.path.join(dataset_name, \"split\"))"
   ],
   "metadata": {
    "collapsed": false,
    "ExecuteTime": {
     "end_time": "2023-11-04T05:11:19.124507Z",
     "start_time": "2023-11-04T05:10:58.122147Z"
    }
   },
   "id": "d031cad95bcd09d4"
  },
  {
   "cell_type": "code",
   "execution_count": 13,
   "outputs": [],
   "source": [
    "train_set = [None] * len(client_data_list)\n",
    "test_set = [None] * len(client_data_list)\n",
    "val_set = [None] * len(client_data_list)\n",
    "for idx, client_data in enumerate(client_data_list):\n",
    "    train_data, test_data, val_data = client_data\n",
    "\n",
    "    train_data[1][train_data[1] == 0] = -1\n",
    "    test_data[1][test_data[1] == 0] = -1\n",
    "    val_data[1][val_data[1] == 0] = -1\n",
    "\n",
    "    train_set[idx] = train_data\n",
    "    test_set[idx] = test_data\n",
    "    val_set[idx] = val_data"
   ],
   "metadata": {
    "collapsed": false,
    "ExecuteTime": {
     "end_time": "2023-11-04T05:11:19.142058Z",
     "start_time": "2023-11-04T05:11:19.124691Z"
    }
   },
   "id": "2126b46bef1cf619"
  },
  {
   "cell_type": "code",
   "execution_count": 14,
   "outputs": [],
   "source": [
    "local_svm = LocalSVM(train_set, test_set, val_set, seed=seed)"
   ],
   "metadata": {
    "collapsed": false,
    "ExecuteTime": {
     "end_time": "2023-11-04T05:11:19.226881Z",
     "start_time": "2023-11-04T05:11:19.144025Z"
    }
   },
   "id": "e350ecf4e52cbf7d"
  },
  {
   "cell_type": "code",
   "execution_count": 15,
   "outputs": [
    {
     "name": "stderr",
     "output_type": "stream",
     "text": [
      "100%|██████████| 100/100 [00:48<00:00,  2.07it/s]\n"
     ]
    }
   ],
   "source": [
    "local_svm.fit_all_client()"
   ],
   "metadata": {
    "collapsed": false,
    "ExecuteTime": {
     "end_time": "2023-11-04T05:12:07.525032Z",
     "start_time": "2023-11-04T05:11:19.227368Z"
    }
   },
   "id": "76108a46d52be48e"
  },
  {
   "cell_type": "code",
   "execution_count": 16,
   "outputs": [
    {
     "name": "stdout",
     "output_type": "stream",
     "text": [
      "max: 1.0\n",
      "min: 0.9099099099099099\n",
      "min_index 84\n",
      "Global Train Set Loss: 0.0\n",
      "Global Train Set Accuracy: 0.892140955175331\n",
      "Global Train Set FPR: 0.5542099941385039\n",
      "Global Train Set TPR: 0.8442285370402294\n",
      "Global Train Set BER: 0.3499907285491373\n",
      "Global Validation Set Loss: 0.0\n",
      "Global Validation Set Accuracy: 0.9810686992352103\n",
      "Global Validation Set FPR: 0.3487809243743842\n",
      "Global Validation Set TPR: 0.977323749229408\n",
      "Global Validation Set BER: 0.18072858757248825\n"
     ]
    }
   ],
   "source": [
    "record_train_measures, record_val_measures = local_svm.calculate_measures(cross_evaluate=False)"
   ],
   "metadata": {
    "collapsed": false,
    "ExecuteTime": {
     "end_time": "2023-11-04T05:12:11.856457Z",
     "start_time": "2023-11-04T05:12:07.526133Z"
    }
   },
   "id": "6948c6af2b75ba7"
  },
  {
   "cell_type": "code",
   "execution_count": 17,
   "outputs": [
    {
     "name": "stdout",
     "output_type": "stream",
     "text": [
      "Saved measures to Experimental_results/Local_SVM/train_measures_n-baiot.csv\n",
      "Saved measures to Experimental_results/Local_SVM/val_measures_n-baiot.csv\n"
     ]
    }
   ],
   "source": [
    "save_global_measure([record_train_measures], \"train_measures_\"+dataset_name+\".csv\", \"Local_SVM\")\n",
    "save_global_measure([record_val_measures], \"val_measures_\"+dataset_name+\".csv\", \"Local_SVM\")"
   ],
   "metadata": {
    "collapsed": false,
    "ExecuteTime": {
     "end_time": "2023-11-04T05:12:11.911831Z",
     "start_time": "2023-11-04T05:12:11.868577Z"
    }
   },
   "id": "65a686d1f8e7c203"
  },
  {
   "cell_type": "code",
   "execution_count": 18,
   "outputs": [
    {
     "name": "stdout",
     "output_type": "stream",
     "text": [
      "Global Test Set Loss: 0.19582870322449522\n",
      "Global Test Set Accuracy: 0.9810686992352103\n",
      "Global Test Set FPR: 0.3487809243743842\n",
      "Global Test Set TPR: 0.977323749229408\n",
      "Global Test Set BER: 0.18072858757248825\n"
     ]
    }
   ],
   "source": [
    "global_measures = local_svm.calculate_measures_test_set(cross_evaluate=False)\n",
    "\n",
    "print(\"Global Test Set Loss:\", global_measures['loss'])\n",
    "print(\"Global Test Set Accuracy:\", global_measures['accuracy'])\n",
    "print(\"Global Test Set FPR:\", global_measures['fpr'])\n",
    "print(\"Global Test Set TPR:\", global_measures['tpr'])\n",
    "print(\"Global Test Set BER:\", global_measures['ber'])"
   ],
   "metadata": {
    "collapsed": false,
    "ExecuteTime": {
     "end_time": "2023-11-04T05:12:12.471388Z",
     "start_time": "2023-11-04T05:12:11.958253Z"
    }
   },
   "id": "48f3d9a98156c238"
  }
 ],
 "metadata": {
  "kernelspec": {
   "display_name": "Python 3",
   "language": "python",
   "name": "python3"
  },
  "language_info": {
   "codemirror_mode": {
    "name": "ipython",
    "version": 2
   },
   "file_extension": ".py",
   "mimetype": "text/x-python",
   "name": "python",
   "nbconvert_exporter": "python",
   "pygments_lexer": "ipython2",
   "version": "2.7.6"
  }
 },
 "nbformat": 4,
 "nbformat_minor": 5
}
