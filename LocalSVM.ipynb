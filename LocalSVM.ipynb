{
 "cells": [
  {
   "cell_type": "code",
   "execution_count": 1,
   "id": "initial_id",
   "metadata": {
    "collapsed": true,
    "ExecuteTime": {
     "end_time": "2023-10-26T00:49:34.344290Z",
     "start_time": "2023-10-26T00:49:33.191625Z"
    }
   },
   "outputs": [],
   "source": [
    "import os\n",
    "from utils import load_client_data\n",
    "from local_svm import LocalSVM\n",
    "from utils import save_global_measure"
   ]
  },
  {
   "cell_type": "code",
   "execution_count": 2,
   "outputs": [],
   "source": [
    "seed = 54\n",
    "dataset_name = \"n-baiot\""
   ],
   "metadata": {
    "collapsed": false,
    "ExecuteTime": {
     "end_time": "2023-10-26T00:49:34.348923Z",
     "start_time": "2023-10-26T00:49:34.345302Z"
    }
   },
   "id": "2be7470e0cb8b4db"
  },
  {
   "cell_type": "code",
   "execution_count": 3,
   "outputs": [],
   "source": [
    "client_data_list = load_client_data(os.path.join(dataset_name, \"split\"))"
   ],
   "metadata": {
    "collapsed": false,
    "ExecuteTime": {
     "end_time": "2023-10-26T00:49:57.145173Z",
     "start_time": "2023-10-26T00:49:34.347987Z"
    }
   },
   "id": "d031cad95bcd09d4"
  },
  {
   "cell_type": "code",
   "execution_count": 4,
   "outputs": [],
   "source": [
    "train_set = [None] * len(client_data_list)\n",
    "test_set = [None] * len(client_data_list)\n",
    "val_set = [None] * len(client_data_list)\n",
    "for idx, client_data in enumerate(client_data_list):\n",
    "    train_data, test_data, val_data = client_data\n",
    "\n",
    "    train_data[1][train_data[1] == 0] = -1\n",
    "    test_data[1][test_data[1] == 0] = -1\n",
    "    val_data[1][val_data[1] == 0] = -1\n",
    "\n",
    "    train_set[idx] = train_data\n",
    "    test_set[idx] = test_data\n",
    "    val_set[idx] = val_data"
   ],
   "metadata": {
    "collapsed": false,
    "ExecuteTime": {
     "end_time": "2023-10-26T00:49:57.160594Z",
     "start_time": "2023-10-26T00:49:57.143874Z"
    }
   },
   "id": "2126b46bef1cf619"
  },
  {
   "cell_type": "code",
   "execution_count": 5,
   "outputs": [],
   "source": [
    "local_svm = LocalSVM(train_set, test_set, val_set, seed=seed)"
   ],
   "metadata": {
    "collapsed": false,
    "ExecuteTime": {
     "end_time": "2023-10-26T00:49:57.205397Z",
     "start_time": "2023-10-26T00:49:57.162367Z"
    }
   },
   "id": "e350ecf4e52cbf7d"
  },
  {
   "cell_type": "code",
   "execution_count": 6,
   "outputs": [
    {
     "name": "stderr",
     "output_type": "stream",
     "text": [
      "100%|██████████| 100/100 [00:56<00:00,  1.77it/s]\n"
     ]
    }
   ],
   "source": [
    "local_svm.fit_all_client()"
   ],
   "metadata": {
    "collapsed": false,
    "ExecuteTime": {
     "end_time": "2023-10-26T00:50:54.033374Z",
     "start_time": "2023-10-26T00:49:57.206207Z"
    }
   },
   "id": "76108a46d52be48e"
  },
  {
   "cell_type": "code",
   "execution_count": 7,
   "outputs": [
    {
     "name": "stdout",
     "output_type": "stream",
     "text": [
      "Global Train Set Loss: 0.49913570854539885\n",
      "Global Train Set Accuracy: 0.7576974518497456\n",
      "Global Train Set FPR: 0.5559462605789572\n",
      "Global Train Set TPR: 0.7663919301987303\n",
      "Global Train Set BER: 0.39028736927174296\n",
      "Global Validation Set Loss: 0.5406318606019971\n",
      "Global Validation Set Accuracy: 0.7852189231633434\n",
      "Global Validation Set FPR: 0.31900036667283516\n",
      "Global Validation Set TPR: 0.7924115480913798\n",
      "Global Validation Set BER: 0.22426379704583008\n"
     ]
    }
   ],
   "source": [
    "record_train_measures, record_val_measures = local_svm.calculate_measures()"
   ],
   "metadata": {
    "collapsed": false,
    "ExecuteTime": {
     "end_time": "2023-10-26T00:55:42.266291Z",
     "start_time": "2023-10-26T00:50:54.412481Z"
    }
   },
   "id": "6948c6af2b75ba7"
  },
  {
   "cell_type": "code",
   "execution_count": 8,
   "outputs": [
    {
     "name": "stdout",
     "output_type": "stream",
     "text": [
      "Saved measures to Experimental_results/Local_SVM/train_measures_n-baiot.csv\n",
      "Saved measures to Experimental_results/Local_SVM/val_measures_n-baiot.csv\n"
     ]
    }
   ],
   "source": [
    "save_global_measure([record_train_measures], \"train_measures_\"+dataset_name+\".csv\", \"Local_SVM\")\n",
    "save_global_measure([record_val_measures], \"val_measures_\"+dataset_name+\".csv\", \"Local_SVM\")"
   ],
   "metadata": {
    "collapsed": false,
    "ExecuteTime": {
     "end_time": "2023-10-26T00:55:42.282866Z",
     "start_time": "2023-10-26T00:55:42.266578Z"
    }
   },
   "id": "65a686d1f8e7c203"
  },
  {
   "cell_type": "code",
   "execution_count": 9,
   "outputs": [
    {
     "name": "stdout",
     "output_type": "stream",
     "text": [
      "Global Test Set Loss: 0.5406318606019971\n",
      "Global Test Set Accuracy: 0.7852189231633434\n",
      "Global Test Set FPR: 0.31900036667283516\n",
      "Global Test Set TPR: 0.7924115480913798\n",
      "Global Test Set BER: 0.22426379704583008\n"
     ]
    }
   ],
   "source": [
    "global_measures = local_svm.calculate_measures_test_set()\n",
    "\n",
    "print(\"Global Test Set Loss:\", global_measures['loss'])\n",
    "print(\"Global Test Set Accuracy:\", global_measures['accuracy'])\n",
    "print(\"Global Test Set FPR:\", global_measures['fpr'])\n",
    "print(\"Global Test Set TPR:\", global_measures['tpr'])\n",
    "print(\"Global Test Set BER:\", global_measures['ber'])"
   ],
   "metadata": {
    "collapsed": false,
    "ExecuteTime": {
     "end_time": "2023-10-26T00:56:43.563137Z",
     "start_time": "2023-10-26T00:55:42.283200Z"
    }
   },
   "id": "48f3d9a98156c238"
  }
 ],
 "metadata": {
  "kernelspec": {
   "display_name": "Python 3",
   "language": "python",
   "name": "python3"
  },
  "language_info": {
   "codemirror_mode": {
    "name": "ipython",
    "version": 2
   },
   "file_extension": ".py",
   "mimetype": "text/x-python",
   "name": "python",
   "nbconvert_exporter": "python",
   "pygments_lexer": "ipython2",
   "version": "2.7.6"
  }
 },
 "nbformat": 4,
 "nbformat_minor": 5
}
